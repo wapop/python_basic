{
 "cells": [
  {
   "cell_type": "markdown",
   "metadata": {},
   "source": [
    "# 직선의 방정식 이용한 데이터 학습"
   ]
  },
  {
   "cell_type": "code",
   "execution_count": 114,
   "metadata": {},
   "outputs": [],
   "source": [
    "import numpy as np\n",
    "import numpy.linalg as lin"
   ]
  },
  {
   "cell_type": "code",
   "execution_count": 115,
   "metadata": {},
   "outputs": [
    {
     "name": "stdout",
     "output_type": "stream",
     "text": [
      "2.0 1.0\n",
      "15.0\n"
     ]
    }
   ],
   "source": [
    "w=(3-61)/(1-30)\n",
    "b=3 - w * 1\n",
    "print(w,b)\n",
    "x_ = 7\n",
    "h = w * x_ +b\n",
    "print(h)"
   ]
  },
  {
   "cell_type": "code",
   "execution_count": 116,
   "metadata": {},
   "outputs": [
    {
     "ename": "TypeError",
     "evalue": "can't multiply sequence by non-int of type 'float'",
     "output_type": "error",
     "traceback": [
      "\u001b[1;31m---------------------------------------------------------------------------\u001b[0m",
      "\u001b[1;31mTypeError\u001b[0m                                 Traceback (most recent call last)",
      "\u001b[1;32m<ipython-input-116-0628ce88ebe8>\u001b[0m in \u001b[0;36m<module>\u001b[1;34m\u001b[0m\n\u001b[0;32m      1\u001b[0m \u001b[1;31m# x가 1~7의 값을 가질때의 값 알 수 있도록: 리스트는 array가 아니라X 넘파이 써야함\u001b[0m\u001b[1;33m\u001b[0m\u001b[1;33m\u001b[0m\u001b[1;33m\u001b[0m\u001b[0m\n\u001b[0;32m      2\u001b[0m \u001b[0mx_\u001b[0m\u001b[1;33m=\u001b[0m\u001b[1;33m[\u001b[0m\u001b[1;36m1\u001b[0m\u001b[1;33m,\u001b[0m\u001b[1;36m2\u001b[0m\u001b[1;33m,\u001b[0m\u001b[1;36m3\u001b[0m\u001b[1;33m,\u001b[0m\u001b[1;36m4\u001b[0m\u001b[1;33m,\u001b[0m\u001b[1;36m5\u001b[0m\u001b[1;33m]\u001b[0m\u001b[1;33m\u001b[0m\u001b[1;33m\u001b[0m\u001b[0m\n\u001b[1;32m----> 3\u001b[1;33m \u001b[0mh\u001b[0m\u001b[1;33m=\u001b[0m\u001b[0mw\u001b[0m\u001b[1;33m*\u001b[0m\u001b[0mx_\u001b[0m\u001b[1;33m+\u001b[0m\u001b[0mb\u001b[0m\u001b[1;33m\u001b[0m\u001b[1;33m\u001b[0m\u001b[0m\n\u001b[0m\u001b[0;32m      4\u001b[0m \u001b[0mprint\u001b[0m\u001b[1;33m(\u001b[0m\u001b[0mh\u001b[0m\u001b[1;33m)\u001b[0m\u001b[1;33m\u001b[0m\u001b[1;33m\u001b[0m\u001b[0m\n",
      "\u001b[1;31mTypeError\u001b[0m: can't multiply sequence by non-int of type 'float'"
     ]
    }
   ],
   "source": [
    "# x가 1~7의 값을 가질때의 값 알 수 있도록: 리스트는 array가 아니라X 넘파이 써야함\n",
    "x_=[1,2,3,4,5]\n",
    "h=w*x_+b\n",
    "print(h)"
   ]
  },
  {
   "cell_type": "code",
   "execution_count": 117,
   "metadata": {},
   "outputs": [
    {
     "name": "stdout",
     "output_type": "stream",
     "text": [
      "[ 3.  5.  7.  9. 11.]\n"
     ]
    }
   ],
   "source": [
    "# 넘파이 쓰기.(동등데이터를 넣을거라서\n",
    "x_ = np.array([1,2,3,4,5])\n",
    "h = w * x_+b\n",
    "print(h)"
   ]
  },
  {
   "cell_type": "code",
   "execution_count": 118,
   "metadata": {},
   "outputs": [
    {
     "name": "stdout",
     "output_type": "stream",
     "text": [
      "[0.  0.  0.3 0.4 1.  0.7 1. ]\n",
      "3.3999999999999995\n"
     ]
    }
   ],
   "source": [
    "w = 2\n",
    "b = 1\n",
    "\n",
    "# h= 2*x+1 이라 가설을 세웠을때 오차 식 세워보기\n",
    "\n",
    "x = np.array([1,2,3,4,5,6,7])\n",
    "y = np.array([3, 5, 7.3, 9.4, 12, 13.7, 16])\n",
    "\n",
    "h= w * x + b\n",
    "\n",
    "print(np.abs(y-h))\n",
    "print(np.sum(np.abs(y-h))) #전체오차"
   ]
  },
  {
   "cell_type": "code",
   "execution_count": 119,
   "metadata": {},
   "outputs": [
    {
     "name": "stdout",
     "output_type": "stream",
     "text": [
      "[1.7 2.7 3.4 4.3 4.7 6.  6.7]\n",
      "29.499999999999996\n"
     ]
    }
   ],
   "source": [
    "w = 3\n",
    "b = 1.7\n",
    "\n",
    "x = np.array([1,2,3,4,5,6,7])\n",
    "y = np.array([3, 5, 7.3, 9.4, 12, 13.7, 16])\n",
    "\n",
    "h= w * x + b\n",
    "\n",
    "print(np.abs(y-h))\n",
    "print(np.sum(np.abs(y-h)))\n",
    "\n",
    "# 위의 식보다 전체오차가 적음, 오차는 상대적으로 비교하는거?\n"
   ]
  },
  {
   "cell_type": "markdown",
   "metadata": {},
   "source": [
    "## 행렬을 이용한 학습해 구하기"
   ]
  },
  {
   "cell_type": "code",
   "execution_count": 120,
   "metadata": {},
   "outputs": [
    {
     "name": "stdout",
     "output_type": "stream",
     "text": [
      "(2, 2)\n",
      "(2, 1)\n"
     ]
    }
   ],
   "source": [
    "A= np.array( [[1,1],\n",
    "              [2,1]])\n",
    "y= np.array([[2],\n",
    "             [4.4]])\n",
    "# y= np.array([2, 4.4]) : 이렇게 쓰면 벡터가 되어버림. array 바꿔서 사용하기\n",
    "\n",
    "print(A.shape)\n",
    "print(y.shape)"
   ]
  },
  {
   "cell_type": "code",
   "execution_count": 121,
   "metadata": {
    "scrolled": true
   },
   "outputs": [
    {
     "name": "stdout",
     "output_type": "stream",
     "text": [
      "[[ 2.4]\n",
      " [-0.4]]\n"
     ]
    }
   ],
   "source": [
    "# import numpy.linalg as lin 여기에 있어서 모듈 임포트 해줘야 인버트 계산 가능\n",
    "W= np.matmul(lin.inv(A), y)\n",
    "print(W)\n",
    "\n",
    "# matmul(a,b) != a*b"
   ]
  },
  {
   "cell_type": "code",
   "execution_count": 122,
   "metadata": {},
   "outputs": [
    {
     "name": "stdout",
     "output_type": "stream",
     "text": [
      "[2.4]\n",
      "[-0.4]\n"
     ]
    }
   ],
   "source": [
    "print(W[0]) #첫번째행 출력\n",
    "print(W[1]) #2번째행"
   ]
  },
  {
   "cell_type": "code",
   "execution_count": 123,
   "metadata": {},
   "outputs": [
    {
     "data": {
      "text/plain": [
       "array([[-1.,  1.],\n",
       "       [ 2., -1.]])"
      ]
     },
     "execution_count": 123,
     "metadata": {},
     "output_type": "execute_result"
    }
   ],
   "source": [
    "lin.inv(A)"
   ]
  },
  {
   "cell_type": "code",
   "execution_count": 124,
   "metadata": {},
   "outputs": [
    {
     "name": "stdout",
     "output_type": "stream",
     "text": [
      "[[ 0.2 -0.5]\n",
      " [-0.5  1.5]]\n"
     ]
    }
   ],
   "source": [
    "A= np.array( [[1,1],[2,1],[3,1],[4,1]])\n",
    "y= np.array([[2],[4.4],[6.4],[9.8]])\n",
    "# 인버스 못씀, 트랜스포즈(A.T) 써야함\n",
    "# pinv = (A'*A)-1 A'\n",
    "\n",
    "# A.T*A 하면 원소간 곱이 되어버리니까 np.matmul \n",
    "\n",
    "print(lin.inv(np.matmul(A.T, A)))"
   ]
  },
  {
   "cell_type": "code",
   "execution_count": 125,
   "metadata": {
    "scrolled": true
   },
   "outputs": [
    {
     "name": "stdout",
     "output_type": "stream",
     "text": [
      "[[ 2.54]\n",
      " [-0.7 ]]\n"
     ]
    }
   ],
   "source": [
    "A_=lin.inv(np.matmul(A.T,A))\n",
    "print( np.matmul( np.matmul(A_,A.T) , y))"
   ]
  },
  {
   "cell_type": "markdown",
   "metadata": {},
   "source": [
    "따라서, h= 2.54*x-0.7\n",
    "선항분포????"
   ]
  },
  {
   "cell_type": "code",
   "execution_count": 126,
   "metadata": {},
   "outputs": [
    {
     "name": "stdout",
     "output_type": "stream",
     "text": [
      "[[2. ]\n",
      " [4.4]\n",
      " [6.8]\n",
      " [9.2]]\n"
     ]
    }
   ],
   "source": [
    "A_=lin.inv(np.matmul(A.T,A))\n",
    "y= np.matmul( np.matmul(A_,A.T) , y)\n",
    "\n",
    "h= np.matmul(A,W)   #A는 4*2 행렬(행은 샘플 개수), W는 2*1행렬 ==> 4*1행렬이 만들어짐\n",
    "print(h)\n",
    "# y=wx+b W(2*1)와 A(4,2)는 곱셈이 안되어서  , 바꿔서 A*W 계산해야함\n",
    "# ==> h=np.matmul(A,W) 하면 예측값이 4개 나옴\n"
   ]
  },
  {
   "cell_type": "code",
   "execution_count": 127,
   "metadata": {},
   "outputs": [
    {
     "name": "stdout",
     "output_type": "stream",
     "text": [
      "[[ 2.54]\n",
      " [-0.7 ]]\n",
      "[[1.84]\n",
      " [4.38]\n",
      " [6.92]\n",
      " [9.46]]\n"
     ]
    }
   ],
   "source": [
    "\n",
    "A= np.array( [[1,1],[2,1],[3,1],[4,1]])\n",
    "y= np.array([[2],[4.4],[6.4],[9.8]])\n",
    "\n",
    "A_= lin.inv(np.matmul(A.T, A))\n",
    "W= np.matmul(np.matmul(A_, A.T), y)\n",
    "\n",
    "print(W)\n",
    "h= np.matmul(A,W)  \n",
    "print(h)\n",
    "\n",
    "# [[1.84] : x=2일ㄸㅐ\n",
    "#  [4.38] 4.4일때\n",
    "#  [6.92] 6.4일때\n",
    "#  [9.46]]"
   ]
  },
  {
   "cell_type": "code",
   "execution_count": 128,
   "metadata": {},
   "outputs": [
    {
     "name": "stdout",
     "output_type": "stream",
     "text": [
      "0.3209361307176245\n"
     ]
    }
   ],
   "source": [
    "RMSE= np.sqrt(np.mean((y-h)**2))\n",
    "print(RMSE)\n",
    "# prediction 예측. 나중에 predict라는 함수 쓰기도. w와x데이터를 곱한 것이 prediction이다"
   ]
  },
  {
   "cell_type": "code",
   "execution_count": 129,
   "metadata": {},
   "outputs": [
    {
     "name": "stdout",
     "output_type": "stream",
     "text": [
      "[[ 2.54]\n",
      " [-0.7 ]]\n",
      "[[1.84]\n",
      " [4.38]\n",
      " [6.92]\n",
      " [9.46]]\n",
      "0.3209361307176245\n"
     ]
    }
   ],
   "source": [
    "A= np.array( [[1,1],[2,1],[3,1],[4,1]])\n",
    "y= np.array([[2],[4.4],[6.4],[9.8]])\n",
    "\n",
    "A_= lin.inv(np.matmul(A.T, A))\n",
    "W= np.matmul(np.matmul(A_, A.T), y) #training\n",
    "\n",
    "print(W)\n",
    "h= np.matmul(A,W)  #prediction\n",
    "print(h)\n",
    "\n",
    "RMSE= np.sqrt(np.mean((y-h)**2)) #evaluation\n",
    "print(RMSE)"
   ]
  },
  {
   "cell_type": "code",
   "execution_count": 130,
   "metadata": {},
   "outputs": [
    {
     "data": {
      "text/plain": [
       "[<matplotlib.lines.Line2D at 0x1cf57d6cc88>]"
      ]
     },
     "execution_count": 130,
     "metadata": {},
     "output_type": "execute_result"
    },
    {
     "data": {
      "image/png": "[encoded data removed]",
      "text/plain": [
       "<Figure size 432x288 with 1 Axes>"
      ]
     },
     "metadata": {
      "needs_background": "light"
     },
     "output_type": "display_data"
    }
   ],
   "source": [
    "import matplotlib.pyplot as plt\n",
    "\n",
    "x = np.array([4,9,10,14,4,7,12,22,1,3,8,11,5,6,10,11,16,13,13,10])\n",
    "y = np.array([390,580,650,730,410,530,600,790,350,400,590,640,450,520,690,690,770,700,730,640])\n",
    "\n",
    "plt.plot(x,y, '*')"
   ]
  },
  {
   "cell_type": "markdown",
   "metadata": {},
   "source": [
    "-1. 13,15,20시간 공부하면 SAT는 몇점인지 예측\n",
    "\n",
    "-SAT 840점 얻기 위해 몇시간 공부해야 하는가?\n",
    "\n",
    "\n",
    "-추정 w,b로부터 발생하는 학습 오차는 얼마인가?\n",
    "\n",
    "-최적의 가중치 w,b는 얼마인가?\n",
    "\n",
    "-이전 모델보다 좋은가?\n",
    "\n",
    "-그래서 시간당 SAT 점수가 얼마나 올라간다는 얘기야?\n"
   ]
  },
  {
   "cell_type": "code",
   "execution_count": 131,
   "metadata": {},
   "outputs": [
    {
     "name": "stdout",
     "output_type": "stream",
     "text": [
      "[615.1 655.7 757.2]\n"
     ]
    }
   ],
   "source": [
    "# 1번\n",
    "w=20.3\n",
    "b= 351.2\n",
    "x=[13, 15, 20]\n",
    "y= np.array(x)*w+b\n",
    "print(y)"
   ]
  },
  {
   "cell_type": "code",
   "execution_count": 132,
   "metadata": {},
   "outputs": [
    {
     "name": "stdout",
     "output_type": "stream",
     "text": [
      "840\n",
      "24.078817733990146\n"
     ]
    }
   ],
   "source": [
    "# 2번\n",
    "y=840\n",
    "x=(y-b)/w\n",
    "print(y)\n",
    "print(x)"
   ]
  },
  {
   "cell_type": "code",
   "execution_count": 133,
   "metadata": {},
   "outputs": [
    {
     "name": "stdout",
     "output_type": "stream",
     "text": [
      "0.0\n"
     ]
    }
   ],
   "source": [
    "#3번\n",
    "# A= np.array( [[4,1],[9,1],[10,1],[14,1],[4,1],[7,1],[12,1],[22,1],[1,1],[3,1],[8,1],[11,1],[5,1],[6,1],[10,1],[11,1],[16,1],[13,1],[13,1],[10,1]]\n",
    "# y = np.array([390],[580],     원래는 벡터로 정의되어있으니 행렬로 바꿔줘야함\n",
    "# 이런식으로 하나하나 다 써서 바꿔야함\n",
    "\n",
    "            \n",
    "error=(y-(x*w+b))**2\n",
    "result=np.sqrt(np.mean(error))\n",
    "print(result)            "
   ]
  },
  {
   "cell_type": "code",
   "execution_count": 134,
   "metadata": {},
   "outputs": [
    {
     "name": "stdout",
     "output_type": "stream",
     "text": [
      "(20, 1)\n",
      "(20, 1)\n"
     ]
    }
   ],
   "source": [
    "# 행은 샘플개수고 , () +1 임!!!\n",
    "\n",
    "x = np.array([[4,9,10,14,4,7,12,22,1,3,8,11,5,6,10,11,16,13,13,10]]).T\n",
    "y = np.array([[390,580,650,730,410,530,600,790,350,400,590,640,450,520,690,690,770,700,730,640]]).T\n",
    "print(x.shape)\n",
    "print(y.shape)"
   ]
  },
  {
   "cell_type": "code",
   "execution_count": 135,
   "metadata": {},
   "outputs": [
    {
     "data": {
      "text/plain": [
       "array([[1.],\n",
       "       [1.],\n",
       "       [1.],\n",
       "       [1.],\n",
       "       [1.],\n",
       "       [1.],\n",
       "       [1.],\n",
       "       [1.],\n",
       "       [1.],\n",
       "       [1.],\n",
       "       [1.],\n",
       "       [1.],\n",
       "       [1.],\n",
       "       [1.],\n",
       "       [1.],\n",
       "       [1.],\n",
       "       [1.],\n",
       "       [1.],\n",
       "       [1.],\n",
       "       [1.]])"
      ]
     },
     "execution_count": 135,
     "metadata": {},
     "output_type": "execute_result"
    }
   ],
   "source": [
    "# 두번째 컬럼에 다 1을 집어넣기위한 코딩\n",
    "np.ones((x.shape[0],1))\n",
    "# x.shape[0]=20임 현재의 경우. 20넣어도 되지만 데이터 바뀌면 바뀌어야하니 x.shape로 썼음"
   ]
  },
  {
   "cell_type": "code",
   "execution_count": 136,
   "metadata": {},
   "outputs": [
    {
     "data": {
      "text/plain": [
       "array([[1.],\n",
       "       [1.],\n",
       "       [1.],\n",
       "       [1.],\n",
       "       [1.],\n",
       "       [1.],\n",
       "       [1.],\n",
       "       [1.],\n",
       "       [1.],\n",
       "       [1.],\n",
       "       [1.],\n",
       "       [1.],\n",
       "       [1.],\n",
       "       [1.],\n",
       "       [1.],\n",
       "       [1.],\n",
       "       [1.],\n",
       "       [1.],\n",
       "       [1.],\n",
       "       [1.]])"
      ]
     },
     "execution_count": 136,
     "metadata": {},
     "output_type": "execute_result"
    }
   ],
   "source": [
    "np.ones((x.shape[0],1))\n",
    "# np.ones 1 넣는거. 맘대로 되어있는걸 우리가 원하는 행렬대로 만드는 중"
   ]
  },
  {
   "cell_type": "code",
   "execution_count": 137,
   "metadata": {},
   "outputs": [],
   "source": [
    "x = np.array([[4,9,10,14,4,7,12,22,1,3,8,11,5,6,10,11,16,13,13,10]]).T\n",
    "y = np.array([[390,580,650,730,410,530,600,790,350,400,590,640,450,520,690,690,770,700,730,640]]).T"
   ]
  },
  {
   "cell_type": "code",
   "execution_count": 138,
   "metadata": {},
   "outputs": [
    {
     "name": "stdout",
     "output_type": "stream",
     "text": [
      "[[ 4.  1.]\n",
      " [ 9.  1.]\n",
      " [10.  1.]\n",
      " [14.  1.]\n",
      " [ 4.  1.]\n",
      " [ 7.  1.]\n",
      " [12.  1.]\n",
      " [22.  1.]\n",
      " [ 1.  1.]\n",
      " [ 3.  1.]\n",
      " [ 8.  1.]\n",
      " [11.  1.]\n",
      " [ 5.  1.]\n",
      " [ 6.  1.]\n",
      " [10.  1.]\n",
      " [11.  1.]\n",
      " [16.  1.]\n",
      " [13.  1.]\n",
      " [13.  1.]\n",
      " [10.  1.]]\n"
     ]
    }
   ],
   "source": [
    "A= np.append(x, np.ones((x.shape[0], 1)), axis=1)\n",
    "print(A)"
   ]
  },
  {
   "cell_type": "code",
   "execution_count": 139,
   "metadata": {},
   "outputs": [
    {
     "name": "stdout",
     "output_type": "stream",
     "text": [
      "(20, 2)\n",
      "[[ 25.32646778]\n",
      " [353.1648795 ]]\n",
      "[[ 2.54]\n",
      " [-0.7 ]]\n"
     ]
    }
   ],
   "source": [
    "print(A.shape)\n",
    "# 위 데이터에서 ]]).T를 붙여서!! \"]\"도 추가하고 컬럼벡터로 만들어야 실행됨\n",
    "\n",
    "# lin.pinv(A)        \n",
    "#이만큼이 (A'T*A)-1*A' 요부분\n",
    "w= np.matmul(lin.pinv(A), y)\n",
    "print(w)\n",
    "print(W)"
   ]
  },
  {
   "cell_type": "code",
   "execution_count": 140,
   "metadata": {},
   "outputs": [
    {
     "name": "stdout",
     "output_type": "stream",
     "text": [
      "0.0\n",
      "47.1664900003957\n"
     ]
    }
   ],
   "source": [
    "# 7번\n",
    "# import 할때 numpy.linal~~~ 을 lin 으로 정의해서 이렇게 쓰고있는거 --> numpy.linalg.pinv() 로 구글링\n",
    "\n",
    "W =  np.matmul( lin.pinv(A), y) \n",
    "w= W[0]\n",
    "b= W[1]\n",
    "error2= (y- (x*w+b))**2\n",
    "# error2= (y- np.matmul(A,W))**2\n",
    "result2= np.sqrt(np.mean(error2))\n",
    "\n",
    "print(result)\n",
    "print(result2)"
   ]
  },
  {
   "cell_type": "code",
   "execution_count": 141,
   "metadata": {},
   "outputs": [
    {
     "data": {
      "text/plain": [
       "[<matplotlib.lines.Line2D at 0x1cf57d84d08>]"
      ]
     },
     "execution_count": 141,
     "metadata": {},
     "output_type": "execute_result"
    },
    {
     "data": {
      "image/png": "[encoded data removed]",
      "text/plain": [
       "<Figure size 432x288 with 1 Axes>"
      ]
     },
     "metadata": {
      "needs_background": "light"
     },
     "output_type": "display_data"
    }
   ],
   "source": [
    "# 학습곡선- 시각화해서 확인하기\n",
    "# 학습데이터는 점으로 '*', '^' 등으로 지정, 하지 않으면 연결된 선으로 그려짐\n",
    "plt.plot(x[:,0],y[:,0],'*')\n",
    "x_=np.linspace(1,30,60)\n",
    "# x_=np.linspace(1,30,60) 에서의 60은 1~30을 몇개로 쪼개는지:60개로 쪼개라 의미\n",
    "# 잘모르겟으면 print(x_) 식으로 확인하기 \n",
    "h=x_*w+b\n",
    "plt.plot(x_, h, 'r')\n",
    "\n",
    "# w=17\n",
    "# b= 240.6 값 넣어서 확인해보기"
   ]
  },
  {
   "cell_type": "markdown",
   "metadata": {},
   "source": [
    "전체 행렬 데이터에서 부분데이터 벡터로 가져오는 방법\n",
    "x[2,3]: 앞은 행번호, 뒤는 컬럼번호. 인덱스는 0부터 시작하니 3번째행의4번째컬럼값을 가져오게됨\n",
    "    x[:3]은 모든 행의 3번째 컬럼을 가져와라 : 벡터가 됨. \n",
    "    x는 20*2니까 모든 행(공부할시간)을 다 가져오고, y[:,0]는 점수 다 가져와라\n",
    "    "
   ]
  },
  {
   "cell_type": "markdown",
   "metadata": {},
   "source": [
    "\n",
    "의사역행렬: 가상역행렬,"
   ]
  },
  {
   "cell_type": "code",
   "execution_count": 142,
   "metadata": {},
   "outputs": [
    {
     "ename": "ValueError",
     "evalue": "matmul: Input operand 1 has a mismatch in its core dimension 0, with gufunc signature (n?,k),(k,m?)->(n?,m?) (size 2 is different from 3)",
     "output_type": "error",
     "traceback": [
      "\u001b[1;31m---------------------------------------------------------------------------\u001b[0m",
      "\u001b[1;31mValueError\u001b[0m                                Traceback (most recent call last)",
      "\u001b[1;32m<ipython-input-142-a23f7c1500f9>\u001b[0m in \u001b[0;36m<module>\u001b[1;34m\u001b[0m\n\u001b[0;32m      3\u001b[0m \u001b[1;33m\u001b[0m\u001b[0m\n\u001b[0;32m      4\u001b[0m \u001b[0mx_\u001b[0m \u001b[1;33m=\u001b[0m \u001b[0mnp\u001b[0m\u001b[1;33m.\u001b[0m\u001b[0mappend\u001b[0m\u001b[1;33m(\u001b[0m\u001b[0mgrid\u001b[0m\u001b[1;33m,\u001b[0m \u001b[0mnp\u001b[0m\u001b[1;33m.\u001b[0m\u001b[0mones\u001b[0m\u001b[1;33m(\u001b[0m\u001b[1;33m(\u001b[0m\u001b[0mgrid\u001b[0m\u001b[1;33m.\u001b[0m\u001b[0mshape\u001b[0m\u001b[1;33m[\u001b[0m\u001b[1;36m0\u001b[0m\u001b[1;33m]\u001b[0m \u001b[1;33m,\u001b[0m \u001b[1;36m1\u001b[0m\u001b[1;33m)\u001b[0m\u001b[1;33m)\u001b[0m \u001b[1;33m,\u001b[0m \u001b[0maxis\u001b[0m \u001b[1;33m=\u001b[0m \u001b[1;36m1\u001b[0m\u001b[1;33m)\u001b[0m\u001b[1;33m\u001b[0m\u001b[1;33m\u001b[0m\u001b[0m\n\u001b[1;32m----> 5\u001b[1;33m \u001b[0mresult\u001b[0m \u001b[1;33m=\u001b[0m \u001b[0mnp\u001b[0m\u001b[1;33m.\u001b[0m\u001b[0mmatmul\u001b[0m\u001b[1;33m(\u001b[0m\u001b[0mx_\u001b[0m\u001b[1;33m,\u001b[0m \u001b[0mW\u001b[0m\u001b[1;33m)\u001b[0m\u001b[1;33m\u001b[0m\u001b[1;33m\u001b[0m\u001b[0m\n\u001b[0m\u001b[0;32m      6\u001b[0m \u001b[1;33m\u001b[0m\u001b[0m\n\u001b[0;32m      7\u001b[0m \u001b[0mfig\u001b[0m \u001b[1;33m=\u001b[0m \u001b[0mplt\u001b[0m\u001b[1;33m.\u001b[0m\u001b[0mfigure\u001b[0m\u001b[1;33m(\u001b[0m\u001b[1;33m)\u001b[0m\u001b[1;33m\u001b[0m\u001b[1;33m\u001b[0m\u001b[0m\n",
      "\u001b[1;31mValueError\u001b[0m: matmul: Input operand 1 has a mismatch in its core dimension 0, with gufunc signature (n?,k),(k,m?)->(n?,m?) (size 2 is different from 3)"
     ]
    }
   ],
   "source": [
    "xx, yy = np.mgrid[0.5:3:0.05, 5:7:0.05]\n",
    "grid = np.c_[xx.flatten(), yy.flatten()]\n",
    "\n",
    "x_ = np.append(grid, np.ones((grid.shape[0] , 1)) , axis = 1)\n",
    "result = np.matmul(x_, W)\n",
    "\n",
    "fig = plt.figure()\n",
    "ax = plt.axes(projection=\"3d\")\n",
    "\n",
    "ax.scatter3D(Interest_Rate[:,0],Unemployment_Rate[:,0], Stock_Index_Price, 'b')\n",
    "ax.scatter3D(xx.flatten(), yy.flatten(), result, 'r')"
   ]
  }
 ],
 "metadata": {
  "kernelspec": {
   "display_name": "Python 3",
   "language": "python",
   "name": "python3"
  },
  "language_info": {
   "codemirror_mode": {
    "name": "ipython",
    "version": 3
   },
   "file_extension": ".py",
   "mimetype": "text/x-python",
   "name": "python",
   "nbconvert_exporter": "python",
   "pygments_lexer": "ipython3",
   "version": "3.7.6"
  },
  "toc": {
   "base_numbering": 1,
   "nav_menu": {},
   "number_sections": false,
   "sideBar": true,
   "skip_h1_title": false,
   "title_cell": "Table of Contents",
   "title_sidebar": "Contents",
   "toc_cell": false,
   "toc_position": {},
   "toc_section_display": true,
   "toc_window_display": false
  }
 },
 "nbformat": 4,
 "nbformat_minor": 4
}
