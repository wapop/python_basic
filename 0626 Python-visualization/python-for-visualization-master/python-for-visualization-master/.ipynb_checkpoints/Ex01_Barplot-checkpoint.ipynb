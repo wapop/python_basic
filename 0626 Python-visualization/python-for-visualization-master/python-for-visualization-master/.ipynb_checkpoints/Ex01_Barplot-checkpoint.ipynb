{
 "cells": [
  {
   "cell_type": "markdown",
   "metadata": {},
   "source": [
    "# BarPlot Example\n",
    "\n",
    "https://seaborn.pydata.org/examples/color_palettes.html"
   ]
  },
  {
   "cell_type": "code",
   "execution_count": 8,
   "metadata": {},
   "outputs": [
    {
     "data": {
      "image/png": "[encoded data removed]",
      "text/plain": [
       "<Figure size 504x360 with 3 Axes>"
      ]
     },
     "metadata": {},
     "output_type": "display_data"
    }
   ],
   "source": [
    "import numpy as np\n",
    "import seaborn as sns\n",
    "import matplotlib.pyplot as plt\n",
    "%matplotlib inline\n",
    "sns.set(style=\"white\", context=\"talk\")\n",
    "rs = np.random.RandomState(8)\n",
    "\n",
    "# Set up the matplotlib figure\n",
    "f, (ax1, ax2, ax3) = plt.subplots(3, 1, figsize=(7, 5), sharex=True)\n",
    "\n",
    "# Generate some sequential data\n",
    "x = np.array(list(\"ABCDEFGHIJ\"))\n",
    "y1 = np.arange(1, 11)\n",
    "sns.barplot(x=x, y=y1, palette=\"rocket\", ax=ax1)\n",
    "ax1.axhline(0, color=\"k\", clip_on=False)\n",
    "ax1.set_ylabel(\"Sequential\")\n",
    "\n",
    "# Center the data to make it diverging\n",
    "y2 = y1 - 5.5\n",
    "sns.barplot(x=x, y=y2, palette=\"vlag\", ax=ax2)\n",
    "ax2.axhline(0, color=\"k\", clip_on=False)\n",
    "ax2.set_ylabel(\"Diverging\")\n",
    "\n",
    "# Randomly reorder the data to make it qualitative\n",
    "y3 = rs.choice(y1, len(y1), replace=False)\n",
    "sns.barplot(x=x, y=y3, palette=\"deep\", ax=ax3)\n",
    "ax3.axhline(0, color=\"k\", clip_on=False)\n",
    "ax3.set_ylabel(\"Qualitative\")\n",
    "\n",
    "# Finalize the plot\n",
    "sns.despine(bottom=True)\n",
    "plt.setp(f.axes, yticks=[])\n",
    "plt.tight_layout(h_pad=2)"
   ]
  },
  {
   "cell_type": "code",
   "execution_count": 10,
   "metadata": {},
   "outputs": [
    {
     "data": {
      "text/plain": [
       "<Figure size 432x288 with 0 Axes>"
      ]
     },
     "metadata": {},
     "output_type": "display_data"
    }
   ],
   "source": [
    "f, (ax1, ax2, ax3) = plt.subplots(3, 1, figsize=(7, 5), sharex=True)\n",
    "x = np.array(list(\"ABCDEFGHIJ\"))\n",
    "y1 = np.arange(1, 11)\n",
    "sns.barplot(x=x, y=y1, palette=\"rocket\", ax=ax1)\n",
    "ax1.axhline(0, color=\"k\", clip_on=True)\n",
    "ax1.set_ylabel(\"Sequential\")\n",
    "\n",
    "# Center the data to make it diverging\n",
    "y2 = y1 - 5.5\n",
    "sns.barplot(x=x, y=y2, palette=\"vlag\", ax=ax2)\n",
    "ax2.axhline(0, color=\"k\", clip_on=True)\n",
    "ax2.set_ylabel(\"Diverging\")\n",
    "\n",
    "# Randomly reorder the data to make it qualitative\n",
    "y3 = rs.choice(y1, len(y1), replace=False)\n",
    "sns.barplot(x=x, y=y3, palette=\"deep\", ax=ax3)\n",
    "ax3.axhline(0, color=\"k\", clip_on=True)\n",
    "ax3.set_ylabel(\"Qualitative\")\n",
    "\n",
    "# Finalize the plot\n",
    "sns.despine(bottom=True)\n",
    "plt.setp(f.axes, yticks=[])\n",
    "plt.tight_layout(h_pad=2)"
   ]
  },
  {
   "cell_type": "code",
   "execution_count": null,
   "metadata": {},
   "outputs": [],
   "source": []
  }
 ],
 "metadata": {
  "kernelspec": {
   "display_name": "Python 3",
   "language": "python",
   "name": "python3"
  },
  "language_info": {
   "codemirror_mode": {
    "name": "ipython",
    "version": 3
   },
   "file_extension": ".py",
   "mimetype": "text/x-python",
   "name": "python",
   "nbconvert_exporter": "python",
   "pygments_lexer": "ipython3",
   "version": "3.7.6"
  }
 },
 "nbformat": 4,
 "nbformat_minor": 4
}
