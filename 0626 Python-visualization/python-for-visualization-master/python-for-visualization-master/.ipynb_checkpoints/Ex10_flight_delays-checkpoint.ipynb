{
 "cells": [
  {
   "cell_type": "code",
   "execution_count": 1,
   "metadata": {},
   "outputs": [
    {
     "name": "stdout",
     "output_type": "stream",
     "text": [
      "Setup Complete\n"
     ]
    }
   ],
   "source": [
    "import pandas as pd \n",
    "pd.plotting.register_matplotlib_converters() \n",
    "import matplotlib.pyplot as plt \n",
    "%matplotlib inline \n",
    "import seaborn as sns \n",
    "print(\"Setup Complete\") "
   ]
  },
  {
   "cell_type": "code",
   "execution_count": 2,
   "metadata": {},
   "outputs": [
    {
     "data": {
      "text/html": [
       "<div>\n",
       "<style scoped>\n",
       "    .dataframe tbody tr th:only-of-type {\n",
       "        vertical-align: middle;\n",
       "    }\n",
       "\n",
       "    .dataframe tbody tr th {\n",
       "        vertical-align: top;\n",
       "    }\n",
       "\n",
       "    .dataframe thead th {\n",
       "        text-align: right;\n",
       "    }\n",
       "</style>\n",
       "<table border=\"1\" class=\"dataframe\">\n",
       "  <thead>\n",
       "    <tr style=\"text-align: right;\">\n",
       "      <th></th>\n",
       "      <th>AA</th>\n",
       "      <th>AS</th>\n",
       "      <th>B6</th>\n",
       "      <th>DL</th>\n",
       "      <th>EV</th>\n",
       "      <th>F9</th>\n",
       "      <th>HA</th>\n",
       "      <th>MQ</th>\n",
       "      <th>NK</th>\n",
       "      <th>OO</th>\n",
       "      <th>UA</th>\n",
       "      <th>US</th>\n",
       "      <th>VX</th>\n",
       "      <th>WN</th>\n",
       "    </tr>\n",
       "    <tr>\n",
       "      <th>Month</th>\n",
       "      <th></th>\n",
       "      <th></th>\n",
       "      <th></th>\n",
       "      <th></th>\n",
       "      <th></th>\n",
       "      <th></th>\n",
       "      <th></th>\n",
       "      <th></th>\n",
       "      <th></th>\n",
       "      <th></th>\n",
       "      <th></th>\n",
       "      <th></th>\n",
       "      <th></th>\n",
       "      <th></th>\n",
       "    </tr>\n",
       "  </thead>\n",
       "  <tbody>\n",
       "    <tr>\n",
       "      <th>1</th>\n",
       "      <td>6.955843</td>\n",
       "      <td>-0.320888</td>\n",
       "      <td>7.347281</td>\n",
       "      <td>-2.043847</td>\n",
       "      <td>8.537497</td>\n",
       "      <td>18.357238</td>\n",
       "      <td>3.512640</td>\n",
       "      <td>18.164974</td>\n",
       "      <td>11.398054</td>\n",
       "      <td>10.889894</td>\n",
       "      <td>6.352729</td>\n",
       "      <td>3.107457</td>\n",
       "      <td>1.420702</td>\n",
       "      <td>3.389466</td>\n",
       "    </tr>\n",
       "    <tr>\n",
       "      <th>2</th>\n",
       "      <td>7.530204</td>\n",
       "      <td>-0.782923</td>\n",
       "      <td>18.657673</td>\n",
       "      <td>5.614745</td>\n",
       "      <td>10.417236</td>\n",
       "      <td>27.424179</td>\n",
       "      <td>6.029967</td>\n",
       "      <td>21.301627</td>\n",
       "      <td>16.474466</td>\n",
       "      <td>9.588895</td>\n",
       "      <td>7.260662</td>\n",
       "      <td>7.114455</td>\n",
       "      <td>7.784410</td>\n",
       "      <td>3.501363</td>\n",
       "    </tr>\n",
       "    <tr>\n",
       "      <th>3</th>\n",
       "      <td>6.693587</td>\n",
       "      <td>-0.544731</td>\n",
       "      <td>10.741317</td>\n",
       "      <td>2.077965</td>\n",
       "      <td>6.730101</td>\n",
       "      <td>20.074855</td>\n",
       "      <td>3.468383</td>\n",
       "      <td>11.018418</td>\n",
       "      <td>10.039118</td>\n",
       "      <td>3.181693</td>\n",
       "      <td>4.892212</td>\n",
       "      <td>3.330787</td>\n",
       "      <td>5.348207</td>\n",
       "      <td>3.263341</td>\n",
       "    </tr>\n",
       "    <tr>\n",
       "      <th>4</th>\n",
       "      <td>4.931778</td>\n",
       "      <td>-3.009003</td>\n",
       "      <td>2.780105</td>\n",
       "      <td>0.083343</td>\n",
       "      <td>4.821253</td>\n",
       "      <td>12.640440</td>\n",
       "      <td>0.011022</td>\n",
       "      <td>5.131228</td>\n",
       "      <td>8.766224</td>\n",
       "      <td>3.223796</td>\n",
       "      <td>4.376092</td>\n",
       "      <td>2.660290</td>\n",
       "      <td>0.995507</td>\n",
       "      <td>2.996399</td>\n",
       "    </tr>\n",
       "    <tr>\n",
       "      <th>5</th>\n",
       "      <td>5.173878</td>\n",
       "      <td>-1.716398</td>\n",
       "      <td>-0.709019</td>\n",
       "      <td>0.149333</td>\n",
       "      <td>7.724290</td>\n",
       "      <td>13.007554</td>\n",
       "      <td>0.826426</td>\n",
       "      <td>5.466790</td>\n",
       "      <td>22.397347</td>\n",
       "      <td>4.141162</td>\n",
       "      <td>6.827695</td>\n",
       "      <td>0.681605</td>\n",
       "      <td>7.102021</td>\n",
       "      <td>5.680777</td>\n",
       "    </tr>\n",
       "    <tr>\n",
       "      <th>6</th>\n",
       "      <td>8.191017</td>\n",
       "      <td>-0.220621</td>\n",
       "      <td>5.047155</td>\n",
       "      <td>4.419594</td>\n",
       "      <td>13.952793</td>\n",
       "      <td>19.712951</td>\n",
       "      <td>0.882786</td>\n",
       "      <td>9.639323</td>\n",
       "      <td>35.561501</td>\n",
       "      <td>8.338477</td>\n",
       "      <td>16.932663</td>\n",
       "      <td>5.766296</td>\n",
       "      <td>5.779415</td>\n",
       "      <td>10.743462</td>\n",
       "    </tr>\n",
       "    <tr>\n",
       "      <th>7</th>\n",
       "      <td>3.870440</td>\n",
       "      <td>0.377408</td>\n",
       "      <td>5.841454</td>\n",
       "      <td>1.204862</td>\n",
       "      <td>6.926421</td>\n",
       "      <td>14.464543</td>\n",
       "      <td>2.001586</td>\n",
       "      <td>3.980289</td>\n",
       "      <td>14.352382</td>\n",
       "      <td>6.790333</td>\n",
       "      <td>10.262551</td>\n",
       "      <td>NaN</td>\n",
       "      <td>7.135773</td>\n",
       "      <td>10.504942</td>\n",
       "    </tr>\n",
       "    <tr>\n",
       "      <th>8</th>\n",
       "      <td>3.193907</td>\n",
       "      <td>2.503899</td>\n",
       "      <td>9.280950</td>\n",
       "      <td>0.653114</td>\n",
       "      <td>5.154422</td>\n",
       "      <td>9.175737</td>\n",
       "      <td>7.448029</td>\n",
       "      <td>1.896565</td>\n",
       "      <td>20.519018</td>\n",
       "      <td>5.606689</td>\n",
       "      <td>5.014041</td>\n",
       "      <td>NaN</td>\n",
       "      <td>5.106221</td>\n",
       "      <td>5.532108</td>\n",
       "    </tr>\n",
       "    <tr>\n",
       "      <th>9</th>\n",
       "      <td>-1.432732</td>\n",
       "      <td>-1.813800</td>\n",
       "      <td>3.539154</td>\n",
       "      <td>-3.703377</td>\n",
       "      <td>0.851062</td>\n",
       "      <td>0.978460</td>\n",
       "      <td>3.696915</td>\n",
       "      <td>-2.167268</td>\n",
       "      <td>8.000101</td>\n",
       "      <td>1.530896</td>\n",
       "      <td>-1.794265</td>\n",
       "      <td>NaN</td>\n",
       "      <td>0.070998</td>\n",
       "      <td>-1.336260</td>\n",
       "    </tr>\n",
       "    <tr>\n",
       "      <th>10</th>\n",
       "      <td>-0.580930</td>\n",
       "      <td>-2.993617</td>\n",
       "      <td>3.676787</td>\n",
       "      <td>-5.011516</td>\n",
       "      <td>2.303760</td>\n",
       "      <td>0.082127</td>\n",
       "      <td>0.467074</td>\n",
       "      <td>-3.735054</td>\n",
       "      <td>6.810736</td>\n",
       "      <td>1.750897</td>\n",
       "      <td>-2.456542</td>\n",
       "      <td>NaN</td>\n",
       "      <td>2.254278</td>\n",
       "      <td>-0.688851</td>\n",
       "    </tr>\n",
       "    <tr>\n",
       "      <th>11</th>\n",
       "      <td>0.772630</td>\n",
       "      <td>-1.916516</td>\n",
       "      <td>1.418299</td>\n",
       "      <td>-3.175414</td>\n",
       "      <td>4.415930</td>\n",
       "      <td>11.164527</td>\n",
       "      <td>-2.719894</td>\n",
       "      <td>0.220061</td>\n",
       "      <td>7.543881</td>\n",
       "      <td>4.925548</td>\n",
       "      <td>0.281064</td>\n",
       "      <td>NaN</td>\n",
       "      <td>0.116370</td>\n",
       "      <td>0.995684</td>\n",
       "    </tr>\n",
       "    <tr>\n",
       "      <th>12</th>\n",
       "      <td>4.149684</td>\n",
       "      <td>-1.846681</td>\n",
       "      <td>13.839290</td>\n",
       "      <td>2.504595</td>\n",
       "      <td>6.685176</td>\n",
       "      <td>9.346221</td>\n",
       "      <td>-1.706475</td>\n",
       "      <td>0.662486</td>\n",
       "      <td>12.733123</td>\n",
       "      <td>10.947612</td>\n",
       "      <td>7.012079</td>\n",
       "      <td>NaN</td>\n",
       "      <td>13.498720</td>\n",
       "      <td>6.720893</td>\n",
       "    </tr>\n",
       "  </tbody>\n",
       "</table>\n",
       "</div>"
      ],
      "text/plain": [
       "             AA        AS         B6        DL         EV         F9  \\\n",
       "Month                                                                  \n",
       "1      6.955843 -0.320888   7.347281 -2.043847   8.537497  18.357238   \n",
       "2      7.530204 -0.782923  18.657673  5.614745  10.417236  27.424179   \n",
       "3      6.693587 -0.544731  10.741317  2.077965   6.730101  20.074855   \n",
       "4      4.931778 -3.009003   2.780105  0.083343   4.821253  12.640440   \n",
       "5      5.173878 -1.716398  -0.709019  0.149333   7.724290  13.007554   \n",
       "6      8.191017 -0.220621   5.047155  4.419594  13.952793  19.712951   \n",
       "7      3.870440  0.377408   5.841454  1.204862   6.926421  14.464543   \n",
       "8      3.193907  2.503899   9.280950  0.653114   5.154422   9.175737   \n",
       "9     -1.432732 -1.813800   3.539154 -3.703377   0.851062   0.978460   \n",
       "10    -0.580930 -2.993617   3.676787 -5.011516   2.303760   0.082127   \n",
       "11     0.772630 -1.916516   1.418299 -3.175414   4.415930  11.164527   \n",
       "12     4.149684 -1.846681  13.839290  2.504595   6.685176   9.346221   \n",
       "\n",
       "             HA         MQ         NK         OO         UA        US  \\\n",
       "Month                                                                   \n",
       "1      3.512640  18.164974  11.398054  10.889894   6.352729  3.107457   \n",
       "2      6.029967  21.301627  16.474466   9.588895   7.260662  7.114455   \n",
       "3      3.468383  11.018418  10.039118   3.181693   4.892212  3.330787   \n",
       "4      0.011022   5.131228   8.766224   3.223796   4.376092  2.660290   \n",
       "5      0.826426   5.466790  22.397347   4.141162   6.827695  0.681605   \n",
       "6      0.882786   9.639323  35.561501   8.338477  16.932663  5.766296   \n",
       "7      2.001586   3.980289  14.352382   6.790333  10.262551       NaN   \n",
       "8      7.448029   1.896565  20.519018   5.606689   5.014041       NaN   \n",
       "9      3.696915  -2.167268   8.000101   1.530896  -1.794265       NaN   \n",
       "10     0.467074  -3.735054   6.810736   1.750897  -2.456542       NaN   \n",
       "11    -2.719894   0.220061   7.543881   4.925548   0.281064       NaN   \n",
       "12    -1.706475   0.662486  12.733123  10.947612   7.012079       NaN   \n",
       "\n",
       "              VX         WN  \n",
       "Month                        \n",
       "1       1.420702   3.389466  \n",
       "2       7.784410   3.501363  \n",
       "3       5.348207   3.263341  \n",
       "4       0.995507   2.996399  \n",
       "5       7.102021   5.680777  \n",
       "6       5.779415  10.743462  \n",
       "7       7.135773  10.504942  \n",
       "8       5.106221   5.532108  \n",
       "9       0.070998  -1.336260  \n",
       "10      2.254278  -0.688851  \n",
       "11      0.116370   0.995684  \n",
       "12     13.498720   6.720893  "
      ]
     },
     "execution_count": 2,
     "metadata": {},
     "output_type": "execute_result"
    }
   ],
   "source": [
    "# 읽어드릴 파일 경로\n",
    "flight_filepath = \"./dataset/flight_delays.csv\" \n",
    "\n",
    "# 변수 flight_data에 파일을 읽어드림 \n",
    "flight_data = pd.read_csv(flight_filepath, index_col=\"Month\")\n",
    "\n",
    "# 데이터 출력 \n",
    "flight_data"
   ]
  },
  {
   "cell_type": "code",
   "execution_count": 3,
   "metadata": {},
   "outputs": [
    {
     "ename": "ValueError",
     "evalue": "Could not interpret input 'Month'",
     "output_type": "error",
     "traceback": [
      "\u001b[1;31m---------------------------------------------------------------------------\u001b[0m",
      "\u001b[1;31mValueError\u001b[0m                                Traceback (most recent call last)",
      "\u001b[1;32m<ipython-input-3-7f8b1dda7ffb>\u001b[0m in \u001b[0;36m<module>\u001b[1;34m\u001b[0m\n\u001b[1;32m----> 1\u001b[1;33m \u001b[0msns\u001b[0m\u001b[1;33m.\u001b[0m\u001b[0mbarplot\u001b[0m\u001b[1;33m(\u001b[0m\u001b[0mx\u001b[0m\u001b[1;33m=\u001b[0m\u001b[1;34m\"Month\"\u001b[0m\u001b[1;33m,\u001b[0m \u001b[0my\u001b[0m\u001b[1;33m=\u001b[0m\u001b[1;34m\"flight_data.index\"\u001b[0m\u001b[1;33m)\u001b[0m\u001b[1;33m\u001b[0m\u001b[1;33m\u001b[0m\u001b[0m\n\u001b[0m",
      "\u001b[1;32mC:\\ANACONDA\\lib\\site-packages\\seaborn\\categorical.py\u001b[0m in \u001b[0;36mbarplot\u001b[1;34m(x, y, hue, data, order, hue_order, estimator, ci, n_boot, units, seed, orient, color, palette, saturation, errcolor, errwidth, capsize, dodge, ax, **kwargs)\u001b[0m\n\u001b[0;32m   3148\u001b[0m                           \u001b[0mestimator\u001b[0m\u001b[1;33m,\u001b[0m \u001b[0mci\u001b[0m\u001b[1;33m,\u001b[0m \u001b[0mn_boot\u001b[0m\u001b[1;33m,\u001b[0m \u001b[0munits\u001b[0m\u001b[1;33m,\u001b[0m \u001b[0mseed\u001b[0m\u001b[1;33m,\u001b[0m\u001b[1;33m\u001b[0m\u001b[1;33m\u001b[0m\u001b[0m\n\u001b[0;32m   3149\u001b[0m                           \u001b[0morient\u001b[0m\u001b[1;33m,\u001b[0m \u001b[0mcolor\u001b[0m\u001b[1;33m,\u001b[0m \u001b[0mpalette\u001b[0m\u001b[1;33m,\u001b[0m \u001b[0msaturation\u001b[0m\u001b[1;33m,\u001b[0m\u001b[1;33m\u001b[0m\u001b[1;33m\u001b[0m\u001b[0m\n\u001b[1;32m-> 3150\u001b[1;33m                           errcolor, errwidth, capsize, dodge)\n\u001b[0m\u001b[0;32m   3151\u001b[0m \u001b[1;33m\u001b[0m\u001b[0m\n\u001b[0;32m   3152\u001b[0m     \u001b[1;32mif\u001b[0m \u001b[0max\u001b[0m \u001b[1;32mis\u001b[0m \u001b[1;32mNone\u001b[0m\u001b[1;33m:\u001b[0m\u001b[1;33m\u001b[0m\u001b[1;33m\u001b[0m\u001b[0m\n",
      "\u001b[1;32mC:\\ANACONDA\\lib\\site-packages\\seaborn\\categorical.py\u001b[0m in \u001b[0;36m__init__\u001b[1;34m(self, x, y, hue, data, order, hue_order, estimator, ci, n_boot, units, seed, orient, color, palette, saturation, errcolor, errwidth, capsize, dodge)\u001b[0m\n\u001b[0;32m   1613\u001b[0m         \u001b[1;34m\"\"\"Initialize the plotter.\"\"\"\u001b[0m\u001b[1;33m\u001b[0m\u001b[1;33m\u001b[0m\u001b[0m\n\u001b[0;32m   1614\u001b[0m         self.establish_variables(x, y, hue, data, orient,\n\u001b[1;32m-> 1615\u001b[1;33m                                  order, hue_order, units)\n\u001b[0m\u001b[0;32m   1616\u001b[0m         \u001b[0mself\u001b[0m\u001b[1;33m.\u001b[0m\u001b[0mestablish_colors\u001b[0m\u001b[1;33m(\u001b[0m\u001b[0mcolor\u001b[0m\u001b[1;33m,\u001b[0m \u001b[0mpalette\u001b[0m\u001b[1;33m,\u001b[0m \u001b[0msaturation\u001b[0m\u001b[1;33m)\u001b[0m\u001b[1;33m\u001b[0m\u001b[1;33m\u001b[0m\u001b[0m\n\u001b[0;32m   1617\u001b[0m         \u001b[0mself\u001b[0m\u001b[1;33m.\u001b[0m\u001b[0mestimate_statistic\u001b[0m\u001b[1;33m(\u001b[0m\u001b[0mestimator\u001b[0m\u001b[1;33m,\u001b[0m \u001b[0mci\u001b[0m\u001b[1;33m,\u001b[0m \u001b[0mn_boot\u001b[0m\u001b[1;33m,\u001b[0m \u001b[0mseed\u001b[0m\u001b[1;33m)\u001b[0m\u001b[1;33m\u001b[0m\u001b[1;33m\u001b[0m\u001b[0m\n",
      "\u001b[1;32mC:\\ANACONDA\\lib\\site-packages\\seaborn\\categorical.py\u001b[0m in \u001b[0;36mestablish_variables\u001b[1;34m(self, x, y, hue, data, orient, order, hue_order, units)\u001b[0m\n\u001b[0;32m    150\u001b[0m                 \u001b[1;32mif\u001b[0m \u001b[0misinstance\u001b[0m\u001b[1;33m(\u001b[0m\u001b[0mvar\u001b[0m\u001b[1;33m,\u001b[0m \u001b[0mstr\u001b[0m\u001b[1;33m)\u001b[0m\u001b[1;33m:\u001b[0m\u001b[1;33m\u001b[0m\u001b[1;33m\u001b[0m\u001b[0m\n\u001b[0;32m    151\u001b[0m                     \u001b[0merr\u001b[0m \u001b[1;33m=\u001b[0m \u001b[1;34m\"Could not interpret input '{}'\"\u001b[0m\u001b[1;33m.\u001b[0m\u001b[0mformat\u001b[0m\u001b[1;33m(\u001b[0m\u001b[0mvar\u001b[0m\u001b[1;33m)\u001b[0m\u001b[1;33m\u001b[0m\u001b[1;33m\u001b[0m\u001b[0m\n\u001b[1;32m--> 152\u001b[1;33m                     \u001b[1;32mraise\u001b[0m \u001b[0mValueError\u001b[0m\u001b[1;33m(\u001b[0m\u001b[0merr\u001b[0m\u001b[1;33m)\u001b[0m\u001b[1;33m\u001b[0m\u001b[1;33m\u001b[0m\u001b[0m\n\u001b[0m\u001b[0;32m    153\u001b[0m \u001b[1;33m\u001b[0m\u001b[0m\n\u001b[0;32m    154\u001b[0m             \u001b[1;31m# Figure out the plotting orientation\u001b[0m\u001b[1;33m\u001b[0m\u001b[1;33m\u001b[0m\u001b[1;33m\u001b[0m\u001b[0m\n",
      "\u001b[1;31mValueError\u001b[0m: Could not interpret input 'Month'"
     ]
    }
   ],
   "source": [
    "#Month라는 값이 필드에 들어있지 않고, index형태라 읽어들이기 쉽지 않음\n",
    "#원래는 우리가 sns.barplot(x=\"Month\", y=\"AA\") 했는데, 지금은 인덱스 직접 불러줘야함\n",
    "#sns.barplot(x=flight_data.index, y=flight_data['NK'], data=flight_data)"
   ]
  },
  {
   "cell_type": "code",
   "execution_count": null,
   "metadata": {},
   "outputs": [],
   "source": [
    "# 도표의 너비(10)와 높이(6) 설정\n",
    "plt.figure(figsize=(10,6)) \n",
    "\n",
    "# 도표의 제목 설정\n",
    "plt.title(\"Average Arrival Delay for Spirit Airlines Flights, by Month\") \n",
    "\n",
    "# 막대그래프 그리기\n",
    "sns.barplot(x=flight_data.index, y=flight_data['NK']) \n",
    "\n",
    "# 세로축 레이블 생성\n",
    "plt.ylabel(\"Arrival delay (in minutes)\") "
   ]
  },
  {
   "cell_type": "markdown",
   "metadata": {},
   "source": [
    "# 실습과제\n",
    "## American Airlines (항공사코드: AA)의 월별 평균 비행 지연 시간"
   ]
  },
  {
   "cell_type": "code",
   "execution_count": 18,
   "metadata": {},
   "outputs": [
    {
     "data": {
      "text/plain": [
       "<Figure size 720x432 with 0 Axes>"
      ]
     },
     "execution_count": 18,
     "metadata": {},
     "output_type": "execute_result"
    },
    {
     "data": {
      "image/png": "[encoded data removed]",
      "text/plain": [
       "<Figure size 432x288 with 1 Axes>"
      ]
     },
     "metadata": {
      "needs_background": "light"
     },
     "output_type": "display_data"
    },
    {
     "data": {
      "text/plain": [
       "<Figure size 720x432 with 0 Axes>"
      ]
     },
     "metadata": {},
     "output_type": "display_data"
    }
   ],
   "source": [
    "sns.barplot(x=flight_data.index, y=flight_data['AA'], palette= \"rocket\", data=flight_data)\n",
    "plt.savefig('test_pig')\n",
    "\n",
    "plt.figure(figsize=(10,6))"
   ]
  },
  {
   "cell_type": "code",
   "execution_count": 29,
   "metadata": {},
   "outputs": [
    {
     "data": {
      "image/png": "[encoded data removed]",
      "text/plain": [
       "<Figure size 504x360 with 3 Axes>"
      ]
     },
     "metadata": {
      "needs_background": "light"
     },
     "output_type": "display_data"
    }
   ],
   "source": [
    "f, (ax1, ax2, ax3) = plt.subplots(3, 1, figsize=(7, 5), sharex=True)\n",
    "\n",
    "# y=flight_data'AA'/NK, F9 각각하기\n",
    "#X= flight_data.index\n",
    "\n",
    "sns.barplot(x=flight_data.index, y=flight_data['NK'], palette=\"rocket\", ax=ax1)\n",
    "ax1.axhline(0, color=\"g\", clip_on=False)\n",
    "ax1.set_ylabel(\"NK\")\n",
    "\n",
    "sns.barplot(x=flight_data.index, y=flight_data['AA'], palette=\"rocket\", ax=ax2)\n",
    "ax2.axhline(0, color=\"g\", clip_on=False)\n",
    "ax2.set_ylabel(\"AA\")\n",
    "\n",
    "sns.barplot(x=flight_data.index, y=flight_data['F9'], palette=\"rocket\", ax=ax3)\n",
    "ax3.axhline(0, color=\"g\", clip_on=False)\n",
    "ax3.set_ylabel(\"F9\")\n",
    "\n",
    "sns.despine(bottom=True)\n",
    "plt.setp(f.axes, yticks=[])\n",
    "plt.tight_layout(h_pad=2)"
   ]
  },
  {
   "cell_type": "code",
   "execution_count": 28,
   "metadata": {
    "scrolled": true
   },
   "outputs": [
    {
     "data": {
      "text/plain": [
       "<Figure size 432x288 with 0 Axes>"
      ]
     },
     "metadata": {},
     "output_type": "display_data"
    }
   ],
   "source": []
  },
  {
   "cell_type": "code",
   "execution_count": null,
   "metadata": {},
   "outputs": [],
   "source": []
  },
  {
   "cell_type": "code",
   "execution_count": null,
   "metadata": {},
   "outputs": [],
   "source": []
  },
  {
   "cell_type": "code",
   "execution_count": null,
   "metadata": {},
   "outputs": [],
   "source": []
  }
 ],
 "metadata": {
  "kernelspec": {
   "display_name": "Python 3",
   "language": "python",
   "name": "python3"
  },
  "language_info": {
   "codemirror_mode": {
    "name": "ipython",
    "version": 3
   },
   "file_extension": ".py",
   "mimetype": "text/x-python",
   "name": "python",
   "nbconvert_exporter": "python",
   "pygments_lexer": "ipython3",
   "version": "3.7.6"
  }
 },
 "nbformat": 4,
 "nbformat_minor": 4
}
