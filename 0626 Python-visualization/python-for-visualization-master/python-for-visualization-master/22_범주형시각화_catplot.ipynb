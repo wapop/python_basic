{
 "cells": [
  {
   "cell_type": "markdown",
   "metadata": {},
   "source": [
    "# 범주형(Categorical) 데이터 시각화\n",
    "\n",
    "https://seaborn.pydata.org/tutorial/categorical.html\n",
    "\n",
    "### 기본\n",
    "catplot()\n",
    "    \n",
    "### Categorical scatterplots:\n",
    "* stripplot() (with kind=\"strip\"; the default)\n",
    "\n",
    "* swarmplot() (with kind=\"swarm\")\n",
    "\n",
    "\n",
    "### Categorical distribution plots:\n",
    "* boxplot() (with kind=\"box\")\n",
    "\n",
    "* violinplot() (with kind=\"violin\")\n",
    "\n",
    "* boxenplot() (with kind=\"boxen\")\n",
    "\n",
    "\n",
    "### Categorical estimate plots:\n",
    "* pointplot() (with kind=\"point\")\n",
    "\n",
    "* barplot() (with kind=\"bar\")\n",
    "\n",
    "* countplot() (with kind=\"count\")"
   ]
  },
  {
   "cell_type": "code",
   "execution_count": null,
   "metadata": {},
   "outputs": [],
   "source": []
  }
 ],
 "metadata": {
  "kernelspec": {
   "display_name": "Python 3",
   "language": "python",
   "name": "python3"
  },
  "language_info": {
   "codemirror_mode": {
    "name": "ipython",
    "version": 3
   },
   "file_extension": ".py",
   "mimetype": "text/x-python",
   "name": "python",
   "nbconvert_exporter": "python",
   "pygments_lexer": "ipython3",
   "version": "3.7.6"
  },
  "toc": {
   "base_numbering": 1,
   "nav_menu": {},
   "number_sections": false,
   "sideBar": true,
   "skip_h1_title": false,
   "title_cell": "Table of Contents",
   "title_sidebar": "Contents",
   "toc_cell": false,
   "toc_position": {},
   "toc_section_display": true,
   "toc_window_display": false
  }
 },
 "nbformat": 4,
 "nbformat_minor": 4
}
