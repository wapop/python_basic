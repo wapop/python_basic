{
 "cells": [
  {
   "cell_type": "markdown",
   "metadata": {},
   "source": [
    "# OpenAPI 활용\n",
    " * 공공데이터 포털 : https://www.data.go.kr/\n",
    " * 회원가입\n",
    " * '아파트매매 실거래자료'검색\n",
    " * OPEN API에서 XML 형태로 제공하는 항목 선택\n",
    " * 활용 신청 > 기타 \n",
    " \n",
    " * 마이페이지 > 일반 인증키(UTF-8), End Point, hwp 문서 확인"
   ]
  },
  {
   "cell_type": "code",
   "execution_count": null,
   "metadata": {},
   "outputs": [],
   "source": [
    "import json\n",
    "import xmltodict\n",
    "import csv\n",
    "import requests"
   ]
  },
  {
   "cell_type": "code",
   "execution_count": null,
   "metadata": {},
   "outputs": [],
   "source": [
    "def wirte_csv(file_name, data) :\n",
    "    ## encoding='utf-8' 시 한글 깨짐 현상 발견시, \n",
    "    # encoding='euc-kr'로 해야 안깨짐, \n",
    "    # 이유 크롤하는 사이트가 euc-kr 인코딩된 한글 바이트를 사용하였기 때문,\n",
    "    ## 파이썬 출력결과는 기본적으로 utf-8, euc-kr 인코딩이 되지만, csv 파일 저장시 인코딩 방식을 직접 저장해줘야 함\n",
    "    with open(f'{file_name}.csv', 'a', encoding='euc-kr') as f:\n",
    "        writer = csv.writer(f, lineterminator='\\n')\n",
    "        writer.writerow(data)"
   ]
  },
  {
   "cell_type": "code",
   "execution_count": null,
   "metadata": {},
   "outputs": [],
   "source": [
    "### https://www.data.go.kr/iim/api/selectAPIAcountView.do \n",
    "# 지역코드\n",
    "LAWD_CD = 11110\n",
    "# 계약월 6자리\n",
    "DEAL_YMD = 201812\n",
    "# 인증키\n",
    "API_KEY = '발급받은 코드로 변경하세요'\n",
    "url = f'http://openapi.molit.go.kr/OpenAPI_ToolInstallPackage/service/rest/RTMSOBJSvc/getRTMSDataSvcAptTradeDev?LAWD_CD={LAWD_CD}&DEAL_YMD={DEAL_YMD}&serviceKey={API_KEY}'\n",
    "\n",
    "# get html\n",
    "response = requests.get(url)\n",
    "print(response)"
   ]
  },
  {
   "cell_type": "code",
   "execution_count": null,
   "metadata": {},
   "outputs": [],
   "source": [
    "jsonString = json.dumps(xmltodict.parse(response.text), indent=4, ensure_ascii=False)\n",
    "print(jsonString)"
   ]
  },
  {
   "cell_type": "code",
   "execution_count": null,
   "metadata": {},
   "outputs": [],
   "source": [
    "jsonDict = json.loads(jsonString)\n",
    "\n",
    "item = jsonDict['response']['body']['items']['item']\n",
    "wirte_csv('2_부동산_정보', [\"거래금액\", \"아파트명\", \"전용면적\"])\n",
    "for each in item :\n",
    "    if float(each['전용면적']) > 80 :\n",
    "        print(\"[거래금액]\" + each['거래금액'] + \" [아파트명] \" + each['아파트'] + \" [전용면적]\" +  each['전용면적'])\n",
    "        wirte_csv('2_부동산_정보', [each['거래금액'], each['아파트'], each['전용면적']])"
   ]
  },
  {
   "cell_type": "code",
   "execution_count": null,
   "metadata": {},
   "outputs": [],
   "source": []
  }
 ],
 "metadata": {
  "kernelspec": {
   "display_name": "Python 3",
   "language": "python",
   "name": "python3"
  },
  "language_info": {
   "codemirror_mode": {
    "name": "ipython",
    "version": 3
   },
   "file_extension": ".py",
   "mimetype": "text/x-python",
   "name": "python",
   "nbconvert_exporter": "python",
   "pygments_lexer": "ipython3",
   "version": "3.7.6"
  },
  "toc": {
   "base_numbering": 1,
   "nav_menu": {},
   "number_sections": false,
   "sideBar": true,
   "skip_h1_title": false,
   "title_cell": "Table of Contents",
   "title_sidebar": "Contents",
   "toc_cell": false,
   "toc_position": {},
   "toc_section_display": true,
   "toc_window_display": false
  }
 },
 "nbformat": 4,
 "nbformat_minor": 4
}
