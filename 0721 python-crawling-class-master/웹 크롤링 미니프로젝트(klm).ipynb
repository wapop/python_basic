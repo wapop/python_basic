{
 "cells": [
  {
   "cell_type": "code",
   "execution_count": 1,
   "metadata": {},
   "outputs": [],
   "source": [
    "from bs4 import BeautifulSoup\n",
    "import requests\n",
    "import pandas as pd"
   ]
  },
  {
   "cell_type": "code",
   "execution_count": 2,
   "metadata": {},
   "outputs": [],
   "source": [
    "# 크롤링할 웹 사이트 정보     속초 숙박\n",
    "base_url = 'https://www.tripadvisor.co.kr'\n",
    "sokcho_url = '/Hotels-g317129-Sokcho_Gangwon_do-Hotels.html'\n",
    "\n",
    "# get html\n",
    "response = requests.get(base_url+sokcho_url)"
   ]
  },
  {
   "cell_type": "code",
   "execution_count": 3,
   "metadata": {},
   "outputs": [],
   "source": [
    "soup = BeautifulSoup(response.text, 'html.parser')"
   ]
  },
  {
   "cell_type": "code",
   "execution_count": 4,
   "metadata": {},
   "outputs": [],
   "source": [
    "rest_name_list = []\n",
    "rest_url_list = []    # 빈 리스트를 만들기"
   ]
  },
  {
   "cell_type": "code",
   "execution_count": 5,
   "metadata": {},
   "outputs": [],
   "source": [
    "# 숙박 목록 가져오기\n",
    "lists = soup.findAll('div', {'class' : 'listing_title'}) "
   ]
  },
  {
   "cell_type": "code",
   "execution_count": 6,
   "metadata": {},
   "outputs": [
    {
     "name": "stdout",
     "output_type": "stream",
     "text": [
      "에쉐르 하우스 펜션\n",
      "위드유 호텔&게스트하우스\n",
      "더 클래스 300\n",
      "설악 파인 리조트\n",
      "속초엔게스트하우스\n",
      "더블루도어호스텔\n",
      "HJ 하우스\n",
      "하루 게스트하우스\n",
      "호텔 아마란스\n",
      "팜파스 리조트\n",
      "곰스테이\n",
      "뜨락펜션\n",
      "CF모텔\n",
      "초원 리조텔\n",
      "칼즈배드 모텔\n",
      "현대여관\n",
      "바다향기펜션\n",
      "백투에덴\n",
      "속초왱왱펜션\n",
      "웨이브게스트하우스\n",
      "애니텔펜션\n",
      "펜션 그레이스하임\n",
      "모아모텔\n",
      "파도모텔\n",
      "해별달펜션\n",
      "속초모텔\n",
      "속초바다펜션\n",
      "롯데리조트속초\n",
      "켄싱턴호텔 - 설악\n",
      "라마다 강원 속초 호텔\n"
     ]
    },
    {
     "data": {
      "text/plain": [
       "30"
      ]
     },
     "execution_count": 6,
     "metadata": {},
     "output_type": "execute_result"
    }
   ],
   "source": [
    "for item in lists:\n",
    "    name = item.text\n",
    "    print(name)   \n",
    "    rest_name_list.append(name)    # for문에다 돌리면서 name을 rest_name_list에다 넣는다\n",
    "    \n",
    "    \n",
    "len(rest_name_list)      # 실행을 여러번하면 len가 달라지고 dataframe에 넣을 수 없기 때문에 확인해본다"
   ]
  },
  {
   "cell_type": "code",
   "execution_count": 7,
   "metadata": {},
   "outputs": [
    {
     "data": {
      "text/plain": [
       "30"
      ]
     },
     "execution_count": 7,
     "metadata": {},
     "output_type": "execute_result"
    }
   ],
   "source": [
    "for item in lists:\n",
    "    # 링크 가져오기\n",
    "    hrefs = item.find('a')\n",
    "    href = hrefs.get('href')\n",
    "    full_url = base_url + href\n",
    "    rest_url_list.append(full_url)\n",
    "    \n",
    "    \n",
    "len(rest_url_list)"
   ]
  },
  {
   "cell_type": "code",
   "execution_count": 8,
   "metadata": {},
   "outputs": [
    {
     "data": {
      "text/html": [
       "<div>\n",
       "<style scoped>\n",
       "    .dataframe tbody tr th:only-of-type {\n",
       "        vertical-align: middle;\n",
       "    }\n",
       "\n",
       "    .dataframe tbody tr th {\n",
       "        vertical-align: top;\n",
       "    }\n",
       "\n",
       "    .dataframe thead th {\n",
       "        text-align: right;\n",
       "    }\n",
       "</style>\n",
       "<table border=\"1\" class=\"dataframe\">\n",
       "  <thead>\n",
       "    <tr style=\"text-align: right;\">\n",
       "      <th></th>\n",
       "      <th>[NAME]</th>\n",
       "      <th>[URL]</th>\n",
       "    </tr>\n",
       "  </thead>\n",
       "  <tbody>\n",
       "    <tr>\n",
       "      <th>0</th>\n",
       "      <td>에쉐르 하우스 펜션</td>\n",
       "      <td>https://www.tripadvisor.co.kr/Hotel_Review-g31...</td>\n",
       "    </tr>\n",
       "    <tr>\n",
       "      <th>1</th>\n",
       "      <td>위드유 호텔&amp;게스트하우스</td>\n",
       "      <td>https://www.tripadvisor.co.kr/Hotel_Review-g31...</td>\n",
       "    </tr>\n",
       "    <tr>\n",
       "      <th>2</th>\n",
       "      <td>더 클래스 300</td>\n",
       "      <td>https://www.tripadvisor.co.kr/Hotel_Review-g31...</td>\n",
       "    </tr>\n",
       "    <tr>\n",
       "      <th>3</th>\n",
       "      <td>설악 파인 리조트</td>\n",
       "      <td>https://www.tripadvisor.co.kr/Hotel_Review-g31...</td>\n",
       "    </tr>\n",
       "    <tr>\n",
       "      <th>4</th>\n",
       "      <td>속초엔게스트하우스</td>\n",
       "      <td>https://www.tripadvisor.co.kr/Hotel_Review-g31...</td>\n",
       "    </tr>\n",
       "    <tr>\n",
       "      <th>5</th>\n",
       "      <td>더블루도어호스텔</td>\n",
       "      <td>https://www.tripadvisor.co.kr/Hotel_Review-g31...</td>\n",
       "    </tr>\n",
       "    <tr>\n",
       "      <th>6</th>\n",
       "      <td>HJ 하우스</td>\n",
       "      <td>https://www.tripadvisor.co.kr/Hotel_Review-g31...</td>\n",
       "    </tr>\n",
       "    <tr>\n",
       "      <th>7</th>\n",
       "      <td>하루 게스트하우스</td>\n",
       "      <td>https://www.tripadvisor.co.kr/Hotel_Review-g31...</td>\n",
       "    </tr>\n",
       "    <tr>\n",
       "      <th>8</th>\n",
       "      <td>호텔 아마란스</td>\n",
       "      <td>https://www.tripadvisor.co.kr/Hotel_Review-g31...</td>\n",
       "    </tr>\n",
       "    <tr>\n",
       "      <th>9</th>\n",
       "      <td>팜파스 리조트</td>\n",
       "      <td>https://www.tripadvisor.co.kr/Hotel_Review-g31...</td>\n",
       "    </tr>\n",
       "    <tr>\n",
       "      <th>10</th>\n",
       "      <td>곰스테이</td>\n",
       "      <td>https://www.tripadvisor.co.kr/Hotel_Review-g31...</td>\n",
       "    </tr>\n",
       "    <tr>\n",
       "      <th>11</th>\n",
       "      <td>뜨락펜션</td>\n",
       "      <td>https://www.tripadvisor.co.kr/Hotel_Review-g31...</td>\n",
       "    </tr>\n",
       "    <tr>\n",
       "      <th>12</th>\n",
       "      <td>CF모텔</td>\n",
       "      <td>https://www.tripadvisor.co.kr/Hotel_Review-g31...</td>\n",
       "    </tr>\n",
       "    <tr>\n",
       "      <th>13</th>\n",
       "      <td>초원 리조텔</td>\n",
       "      <td>https://www.tripadvisor.co.kr/Hotel_Review-g31...</td>\n",
       "    </tr>\n",
       "    <tr>\n",
       "      <th>14</th>\n",
       "      <td>칼즈배드 모텔</td>\n",
       "      <td>https://www.tripadvisor.co.kr/Hotel_Review-g31...</td>\n",
       "    </tr>\n",
       "    <tr>\n",
       "      <th>15</th>\n",
       "      <td>현대여관</td>\n",
       "      <td>https://www.tripadvisor.co.kr/Hotel_Review-g31...</td>\n",
       "    </tr>\n",
       "    <tr>\n",
       "      <th>16</th>\n",
       "      <td>바다향기펜션</td>\n",
       "      <td>https://www.tripadvisor.co.kr/Hotel_Review-g31...</td>\n",
       "    </tr>\n",
       "    <tr>\n",
       "      <th>17</th>\n",
       "      <td>백투에덴</td>\n",
       "      <td>https://www.tripadvisor.co.kr/Hotel_Review-g31...</td>\n",
       "    </tr>\n",
       "    <tr>\n",
       "      <th>18</th>\n",
       "      <td>속초왱왱펜션</td>\n",
       "      <td>https://www.tripadvisor.co.kr/Hotel_Review-g31...</td>\n",
       "    </tr>\n",
       "    <tr>\n",
       "      <th>19</th>\n",
       "      <td>웨이브게스트하우스</td>\n",
       "      <td>https://www.tripadvisor.co.kr/Hotel_Review-g31...</td>\n",
       "    </tr>\n",
       "    <tr>\n",
       "      <th>20</th>\n",
       "      <td>애니텔펜션</td>\n",
       "      <td>https://www.tripadvisor.co.kr/Hotel_Review-g31...</td>\n",
       "    </tr>\n",
       "    <tr>\n",
       "      <th>21</th>\n",
       "      <td>펜션 그레이스하임</td>\n",
       "      <td>https://www.tripadvisor.co.kr/Hotel_Review-g31...</td>\n",
       "    </tr>\n",
       "    <tr>\n",
       "      <th>22</th>\n",
       "      <td>모아모텔</td>\n",
       "      <td>https://www.tripadvisor.co.kr/Hotel_Review-g31...</td>\n",
       "    </tr>\n",
       "    <tr>\n",
       "      <th>23</th>\n",
       "      <td>파도모텔</td>\n",
       "      <td>https://www.tripadvisor.co.kr/Hotel_Review-g31...</td>\n",
       "    </tr>\n",
       "    <tr>\n",
       "      <th>24</th>\n",
       "      <td>해별달펜션</td>\n",
       "      <td>https://www.tripadvisor.co.kr/Hotel_Review-g31...</td>\n",
       "    </tr>\n",
       "    <tr>\n",
       "      <th>25</th>\n",
       "      <td>속초모텔</td>\n",
       "      <td>https://www.tripadvisor.co.kr/Hotel_Review-g31...</td>\n",
       "    </tr>\n",
       "    <tr>\n",
       "      <th>26</th>\n",
       "      <td>속초바다펜션</td>\n",
       "      <td>https://www.tripadvisor.co.kr/Hotel_Review-g31...</td>\n",
       "    </tr>\n",
       "    <tr>\n",
       "      <th>27</th>\n",
       "      <td>롯데리조트속초</td>\n",
       "      <td>https://www.tripadvisor.co.kr/Hotel_Review-g31...</td>\n",
       "    </tr>\n",
       "    <tr>\n",
       "      <th>28</th>\n",
       "      <td>켄싱턴호텔 - 설악</td>\n",
       "      <td>https://www.tripadvisor.co.kr/Hotel_Review-g31...</td>\n",
       "    </tr>\n",
       "    <tr>\n",
       "      <th>29</th>\n",
       "      <td>라마다 강원 속초 호텔</td>\n",
       "      <td>https://www.tripadvisor.co.kr/Hotel_Review-g31...</td>\n",
       "    </tr>\n",
       "  </tbody>\n",
       "</table>\n",
       "</div>"
      ],
      "text/plain": [
       "           [NAME]                                              [URL]\n",
       "0      에쉐르 하우스 펜션  https://www.tripadvisor.co.kr/Hotel_Review-g31...\n",
       "1   위드유 호텔&게스트하우스  https://www.tripadvisor.co.kr/Hotel_Review-g31...\n",
       "2       더 클래스 300  https://www.tripadvisor.co.kr/Hotel_Review-g31...\n",
       "3       설악 파인 리조트  https://www.tripadvisor.co.kr/Hotel_Review-g31...\n",
       "4       속초엔게스트하우스  https://www.tripadvisor.co.kr/Hotel_Review-g31...\n",
       "5        더블루도어호스텔  https://www.tripadvisor.co.kr/Hotel_Review-g31...\n",
       "6          HJ 하우스  https://www.tripadvisor.co.kr/Hotel_Review-g31...\n",
       "7       하루 게스트하우스  https://www.tripadvisor.co.kr/Hotel_Review-g31...\n",
       "8         호텔 아마란스  https://www.tripadvisor.co.kr/Hotel_Review-g31...\n",
       "9         팜파스 리조트  https://www.tripadvisor.co.kr/Hotel_Review-g31...\n",
       "10           곰스테이  https://www.tripadvisor.co.kr/Hotel_Review-g31...\n",
       "11           뜨락펜션  https://www.tripadvisor.co.kr/Hotel_Review-g31...\n",
       "12           CF모텔  https://www.tripadvisor.co.kr/Hotel_Review-g31...\n",
       "13         초원 리조텔  https://www.tripadvisor.co.kr/Hotel_Review-g31...\n",
       "14        칼즈배드 모텔  https://www.tripadvisor.co.kr/Hotel_Review-g31...\n",
       "15           현대여관  https://www.tripadvisor.co.kr/Hotel_Review-g31...\n",
       "16         바다향기펜션  https://www.tripadvisor.co.kr/Hotel_Review-g31...\n",
       "17           백투에덴  https://www.tripadvisor.co.kr/Hotel_Review-g31...\n",
       "18         속초왱왱펜션  https://www.tripadvisor.co.kr/Hotel_Review-g31...\n",
       "19      웨이브게스트하우스  https://www.tripadvisor.co.kr/Hotel_Review-g31...\n",
       "20          애니텔펜션  https://www.tripadvisor.co.kr/Hotel_Review-g31...\n",
       "21      펜션 그레이스하임  https://www.tripadvisor.co.kr/Hotel_Review-g31...\n",
       "22           모아모텔  https://www.tripadvisor.co.kr/Hotel_Review-g31...\n",
       "23           파도모텔  https://www.tripadvisor.co.kr/Hotel_Review-g31...\n",
       "24          해별달펜션  https://www.tripadvisor.co.kr/Hotel_Review-g31...\n",
       "25           속초모텔  https://www.tripadvisor.co.kr/Hotel_Review-g31...\n",
       "26         속초바다펜션  https://www.tripadvisor.co.kr/Hotel_Review-g31...\n",
       "27        롯데리조트속초  https://www.tripadvisor.co.kr/Hotel_Review-g31...\n",
       "28     켄싱턴호텔 - 설악  https://www.tripadvisor.co.kr/Hotel_Review-g31...\n",
       "29   라마다 강원 속초 호텔  https://www.tripadvisor.co.kr/Hotel_Review-g31..."
      ]
     },
     "execution_count": 8,
     "metadata": {},
     "output_type": "execute_result"
    }
   ],
   "source": [
    "result = pd.DataFrame(data={'[NAME]' : rest_name_list, '[URL]' : rest_url_list})\n",
    "result"
   ]
  },
  {
   "cell_type": "markdown",
   "metadata": {},
   "source": [
    "##### 가격정보 추가하기"
   ]
  },
  {
   "cell_type": "code",
   "execution_count": 11,
   "metadata": {
    "collapsed": true
   },
   "outputs": [
    {
     "data": {
      "text/plain": [
       "[<div class=\"listing_title\"><a class=\"property_title prominent\" data-clicksource=\"HotelName\" dir=\"ltr\" href=\"/Hotel_Review-g317129-d4749730-Reviews-Esher_House_Pension-Sokcho_Gangwon_do.html\" id=\"property_4749730\" onclick=\"return false;\" target=\"_blank\">에쉐르 하우스 펜션</a></div>,\n",
       " <div class=\"listing_title\"><a class=\"property_title prominent\" data-clicksource=\"HotelName\" dir=\"ltr\" href=\"/Hotel_Review-g317129-d11678324-Reviews-With_U_Hotel_Guesthouse-Sokcho_Gangwon_do.html\" id=\"property_11678324\" onclick=\"return false;\" target=\"_blank\">위드유 호텔&amp;게스트하우스</a></div>,\n",
       " <div class=\"listing_title\"><a class=\"property_title prominent\" data-clicksource=\"HotelName\" dir=\"ltr\" href=\"/Hotel_Review-g317129-d2276410-Reviews-The_Class_300-Sokcho_Gangwon_do.html\" id=\"property_2276410\" onclick=\"return false;\" target=\"_blank\">더 클래스 300</a></div>,\n",
       " <div class=\"listing_title\"><a class=\"property_title prominent\" data-clicksource=\"HotelName\" dir=\"ltr\" href=\"/Hotel_Review-g317129-d2546592-Reviews-Fine_Resort_Sulak-Sokcho_Gangwon_do.html\" id=\"property_2546592\" onclick=\"return false;\" target=\"_blank\">설악 파인 리조트</a></div>,\n",
       " <div class=\"listing_title\"><a class=\"property_title prominent\" data-clicksource=\"HotelName\" dir=\"ltr\" href=\"/Hotel_Review-g317129-d11831984-Reviews-Sokcho_Guesthouse-Sokcho_Gangwon_do.html\" id=\"property_11831984\" onclick=\"return false;\" target=\"_blank\">속초엔게스트하우스</a></div>,\n",
       " <div class=\"listing_title\"><a class=\"property_title prominent\" data-clicksource=\"HotelName\" dir=\"ltr\" href=\"/Hotel_Review-g317129-d12287198-Reviews-The_Blue_Door_Hostel-Sokcho_Gangwon_do.html\" id=\"property_12287198\" onclick=\"return false;\" target=\"_blank\">더블루도어호스텔</a></div>,\n",
       " <div class=\"listing_title\"><a class=\"property_title prominent\" data-clicksource=\"HotelName\" dir=\"ltr\" href=\"/Hotel_Review-g317129-d7762315-Reviews-HJ_House-Sokcho_Gangwon_do.html\" id=\"property_7762315\" onclick=\"return false;\" target=\"_blank\">HJ 하우스</a></div>,\n",
       " <div class=\"listing_title\"><a class=\"property_title prominent\" data-clicksource=\"HotelName\" dir=\"ltr\" href=\"/Hotel_Review-g317129-d10379481-Reviews-Haru_Hotel_Guesthouse-Sokcho_Gangwon_do.html\" id=\"property_10379481\" onclick=\"return false;\" target=\"_blank\">하루 게스트하우스</a></div>,\n",
       " <div class=\"listing_title\"><a class=\"property_title prominent\" data-clicksource=\"HotelName\" dir=\"ltr\" href=\"/Hotel_Review-g317129-d9564179-Reviews-Hotel_Amaranth-Sokcho_Gangwon_do.html\" id=\"property_9564179\" onclick=\"return false;\" target=\"_blank\">호텔 아마란스</a></div>,\n",
       " <div class=\"listing_title\"><a class=\"property_title prominent\" data-clicksource=\"HotelName\" dir=\"ltr\" href=\"/Hotel_Review-g317129-d9861835-Reviews-Pampas_Resort-Sokcho_Gangwon_do.html\" id=\"property_9861835\" onclick=\"return false;\" target=\"_blank\">팜파스 리조트</a></div>,\n",
       " <div class=\"listing_title\"><a class=\"property_title prominent\" data-clicksource=\"HotelName\" dir=\"ltr\" href=\"/Hotel_Review-g317129-d12404448-Reviews-Gomstay-Sokcho_Gangwon_do.html\" id=\"property_12404448\" onclick=\"return false;\" target=\"_blank\">곰스테이</a></div>,\n",
       " <div class=\"listing_title\"><a class=\"property_title prominent\" data-clicksource=\"HotelName\" dir=\"ltr\" href=\"/Hotel_Review-g317129-d16874219-Reviews-Ddrak_Pension-Sokcho_Gangwon_do.html\" id=\"property_16874219\" onclick=\"return false;\" target=\"_blank\">뜨락펜션</a></div>,\n",
       " <div class=\"listing_title\"><a class=\"property_title prominent\" data-clicksource=\"HotelName\" dir=\"ltr\" href=\"/Hotel_Review-g317129-d10080769-Reviews-CF_Motel-Sokcho_Gangwon_do.html\" id=\"property_10080769\" onclick=\"return false;\" target=\"_blank\">CF모텔</a></div>,\n",
       " <div class=\"listing_title\"><a class=\"property_title prominent\" data-clicksource=\"HotelName\" dir=\"ltr\" href=\"/Hotel_Review-g317129-d3813588-Reviews-Green_Resortel-Sokcho_Gangwon_do.html\" id=\"property_3813588\" onclick=\"return false;\" target=\"_blank\">초원 리조텔</a></div>,\n",
       " <div class=\"listing_title\"><a class=\"property_title prominent\" data-clicksource=\"HotelName\" dir=\"ltr\" href=\"/Hotel_Review-g317129-d3723662-Reviews-Carlsbed_Motel-Sokcho_Gangwon_do.html\" id=\"property_3723662\" onclick=\"return false;\" target=\"_blank\">칼즈배드 모텔</a></div>,\n",
       " <div class=\"listing_title\"><a class=\"property_title prominent\" data-clicksource=\"HotelName\" dir=\"ltr\" href=\"/Hotel_Review-g317129-d16803143-Reviews-Hyundai_Hostel-Sokcho_Gangwon_do.html\" id=\"property_16803143\" onclick=\"return false;\" target=\"_blank\">현대여관</a></div>,\n",
       " <div class=\"listing_title\"><a class=\"property_title prominent\" data-clicksource=\"HotelName\" dir=\"ltr\" href=\"/Hotel_Review-g317129-d16835236-Reviews-Sea_Aroma_Pension-Sokcho_Gangwon_do.html\" id=\"property_16835236\" onclick=\"return false;\" target=\"_blank\">바다향기펜션</a></div>,\n",
       " <div class=\"listing_title\"><a class=\"property_title prominent\" data-clicksource=\"HotelName\" dir=\"ltr\" href=\"/Hotel_Review-g317129-d20328110-Reviews-Back_To_Eden-Sokcho_Gangwon_do.html\" id=\"property_20328110\" onclick=\"return false;\" target=\"_blank\">백투에덴</a></div>,\n",
       " <div class=\"listing_title\"><a class=\"property_title prominent\" data-clicksource=\"HotelName\" dir=\"ltr\" href=\"/Hotel_Review-g317129-d16802932-Reviews-Waeng_Waeng_Pension-Sokcho_Gangwon_do.html\" id=\"property_16802932\" onclick=\"return false;\" target=\"_blank\">속초왱왱펜션</a></div>,\n",
       " <div class=\"listing_title\"><a class=\"property_title prominent\" data-clicksource=\"HotelName\" dir=\"ltr\" href=\"/Hotel_Review-g317129-d12404440-Reviews-Wave_Guesthouse-Sokcho_Gangwon_do.html\" id=\"property_12404440\" onclick=\"return false;\" target=\"_blank\">웨이브게스트하우스</a></div>,\n",
       " <div class=\"listing_title\"><a class=\"property_title prominent\" data-clicksource=\"HotelName\" dir=\"ltr\" href=\"/Hotel_Review-g317129-d16866995-Reviews-Anytel_Pension-Sokcho_Gangwon_do.html\" id=\"property_16866995\" onclick=\"return false;\" target=\"_blank\">애니텔펜션</a></div>,\n",
       " <div class=\"listing_title\"><a class=\"property_title prominent\" data-clicksource=\"HotelName\" dir=\"ltr\" href=\"/Hotel_Review-g317129-d16783438-Reviews-Grace_Heim_Pension-Sokcho_Gangwon_do.html\" id=\"property_16783438\" onclick=\"return false;\" target=\"_blank\">펜션 그레이스하임</a></div>,\n",
       " <div class=\"listing_title\"><a class=\"property_title prominent\" data-clicksource=\"HotelName\" dir=\"ltr\" href=\"/Hotel_Review-g317129-d16736707-Reviews-Mo_A_Motel-Sokcho_Gangwon_do.html\" id=\"property_16736707\" onclick=\"return false;\" target=\"_blank\">모아모텔</a></div>,\n",
       " <div class=\"listing_title\"><a class=\"property_title prominent\" data-clicksource=\"HotelName\" dir=\"ltr\" href=\"/Hotel_Review-g317129-d16866766-Reviews-Pado_Motel-Sokcho_Gangwon_do.html\" id=\"property_16866766\" onclick=\"return false;\" target=\"_blank\">파도모텔</a></div>,\n",
       " <div class=\"listing_title\"><a class=\"property_title prominent\" data-clicksource=\"HotelName\" dir=\"ltr\" href=\"/Hotel_Review-g317129-d16828126-Reviews-Sun_Star_Moon_Pension-Sokcho_Gangwon_do.html\" id=\"property_16828126\" onclick=\"return false;\" target=\"_blank\">해별달펜션</a></div>,\n",
       " <div class=\"listing_title\"><a class=\"property_title prominent\" data-clicksource=\"HotelName\" dir=\"ltr\" href=\"/Hotel_Review-g317129-d16866650-Reviews-Sokcho_Motel-Sokcho_Gangwon_do.html\" id=\"property_16866650\" onclick=\"return false;\" target=\"_blank\">속초모텔</a></div>,\n",
       " <div class=\"listing_title\"><a class=\"property_title prominent\" data-clicksource=\"HotelName\" dir=\"ltr\" href=\"/Hotel_Review-g317129-d16860192-Reviews-Sokcho_Sea_Pension-Sokcho_Gangwon_do.html\" id=\"property_16860192\" onclick=\"return false;\" target=\"_blank\">속초바다펜션</a></div>,\n",
       " <div class=\"listing_title\"><a class=\"property_title prominent\" data-clicksource=\"HotelName\" dir=\"ltr\" href=\"/Hotel_Review-g317129-d12726637-Reviews-Lotte_Resort_Sokcho-Sokcho_Gangwon_do.html\" id=\"property_12726637\" onclick=\"return false;\" target=\"_blank\">롯데리조트속초</a></div>,\n",
       " <div class=\"listing_title\"><a class=\"property_title prominent\" data-clicksource=\"HotelName\" dir=\"ltr\" href=\"/Hotel_Review-g317129-d455528-Reviews-Kensington_Hotel_Seorak-Sokcho_Gangwon_do.html\" id=\"property_455528\" onclick=\"return false;\" target=\"_blank\">켄싱턴호텔 - 설악</a></div>,\n",
       " <div class=\"listing_title\"><a class=\"property_title prominent\" data-clicksource=\"HotelName\" dir=\"ltr\" href=\"/Hotel_Review-g317129-d10547364-Reviews-Ramada_Gangwon_Sokcho_Hotel-Sokcho_Gangwon_do.html\" id=\"property_10547364\" onclick=\"return false;\" target=\"_blank\">라마다 강원 속초 호텔</a></div>]"
      ]
     },
     "execution_count": 11,
     "metadata": {},
     "output_type": "execute_result"
    }
   ],
   "source": [
    "lists     # lists에 가격 정보 없음 다른데에서 가져오기"
   ]
  },
  {
   "cell_type": "code",
   "execution_count": 10,
   "metadata": {
    "collapsed": true
   },
   "outputs": [
    {
     "data": {
      "text/plain": [
       "[<div class=\"price-wrap\"><div class=\"price autoResize\" data-clickpart=\"chevron_price\" data-index=\"0\" data-sizegroup=\"mini-meta-price\">₩200,000</div></div>,\n",
       " <div class=\"price-wrap\"><div class=\"price autoResize\" data-clickpart=\"chevron_price\" data-index=\"0\" data-sizegroup=\"mini-meta-price\">₩193,104</div></div>,\n",
       " <div class=\"price-wrap\"><div class=\"price autoResize\" data-clickpart=\"chevron_price\" data-index=\"0\" data-sizegroup=\"mini-meta-price\">₩191,323</div></div>,\n",
       " <div class=\"price-wrap\"><div class=\"xwrap\"><div class=\"xthrough autoResize\" data-sizegroup=\"mini-meta-xthrough\"><div>₩183,050</div></div></div><div class=\"price autoResize\" data-clickpart=\"chevron_price\" data-index=\"0\" data-sizegroup=\"mini-meta-price\">₩144,950</div></div>,\n",
       " <div class=\"price-wrap\"><div class=\"price autoResize\" data-clickpart=\"chevron_price\" data-index=\"0\" data-sizegroup=\"mini-meta-price\">₩120,000</div></div>,\n",
       " <div class=\"price-wrap\"><div class=\"xwrap\"><div class=\"xthrough autoResize\" data-sizegroup=\"mini-meta-xthrough\"><div>₩119,989</div></div></div><div class=\"price autoResize\" data-clickpart=\"chevron_price\" data-index=\"0\" data-sizegroup=\"mini-meta-price\">₩94,999</div></div>,\n",
       " <div class=\"price-wrap\"><div class=\"price autoResize\" data-clickpart=\"chevron_price\" data-index=\"0\" data-sizegroup=\"mini-meta-price\">₩270,000</div></div>,\n",
       " <div class=\"price-wrap\"><div class=\"price autoResize\" data-clickpart=\"chevron_price\" data-index=\"0\" data-sizegroup=\"mini-meta-price\">₩188,000</div></div>,\n",
       " <div class=\"price-wrap\"><div class=\"price autoResize\" data-clickpart=\"chevron_price\" data-index=\"0\" data-sizegroup=\"mini-meta-price\">₩148,267</div></div>,\n",
       " <div class=\"price-wrap\"><div class=\"price autoResize\" data-clickpart=\"chevron_price\" data-index=\"0\" data-sizegroup=\"mini-meta-price\">₩290,000</div></div>,\n",
       " <div class=\"price-wrap\"><div class=\"price autoResize\" data-clickpart=\"chevron_price\" data-index=\"0\" data-sizegroup=\"mini-meta-price\">₩64,500</div></div>,\n",
       " <div class=\"price-wrap\"><div class=\"price autoResize\" data-clickpart=\"chevron_price\" data-index=\"0\" data-sizegroup=\"mini-meta-price\">₩176,471</div></div>,\n",
       " <div class=\"price-wrap\"><div class=\"xwrap\"><div class=\"xthrough autoResize\" data-sizegroup=\"mini-meta-xthrough\"><div>₩111,112</div></div></div><div class=\"price autoResize\" data-clickpart=\"chevron_price\" data-index=\"0\" data-sizegroup=\"mini-meta-price\">₩80,000</div></div>,\n",
       " <div class=\"price-wrap\"><div class=\"price autoResize\" data-clickpart=\"chevron_price\" data-index=\"0\" data-sizegroup=\"mini-meta-price\">₩140,000</div></div>,\n",
       " <div class=\"price-wrap\"><div class=\"xwrap\"><div class=\"xthrough autoResize\" data-sizegroup=\"mini-meta-xthrough\"><div>₩110,000</div></div></div><div class=\"price autoResize\" data-clickpart=\"chevron_price\" data-index=\"0\" data-sizegroup=\"mini-meta-price\">₩87,983</div></div>,\n",
       " <div class=\"price-wrap\"><div class=\"price autoResize\" data-clickpart=\"chevron_price\" data-index=\"0\" data-sizegroup=\"mini-meta-price\">₩80,000</div></div>,\n",
       " <div class=\"price-wrap\"><div class=\"price autoResize\" data-clickpart=\"chevron_price\" data-index=\"0\" data-sizegroup=\"mini-meta-price\">₩170,050</div></div>,\n",
       " <div class=\"price-wrap\"><div class=\"price autoResize\" data-clickpart=\"chevron_price\" data-index=\"0\" data-sizegroup=\"mini-meta-price\">₩117,000</div></div>,\n",
       " <div class=\"price-wrap\"><div class=\"price autoResize\" data-clickpart=\"chevron_price\" data-index=\"0\" data-sizegroup=\"mini-meta-price\">₩150,000</div></div>,\n",
       " <div class=\"price-wrap\"><div class=\"price autoResize\" data-clickpart=\"chevron_price\" data-index=\"0\" data-sizegroup=\"mini-meta-price\">₩80,000</div></div>,\n",
       " <div class=\"price-wrap\"><div class=\"price autoResize\" data-clickpart=\"chevron_price\" data-index=\"0\" data-sizegroup=\"mini-meta-price\">₩95,000</div></div>,\n",
       " <div class=\"price-wrap\"><div class=\"price autoResize\" data-clickpart=\"chevron_price\" data-index=\"0\" data-sizegroup=\"mini-meta-price\">₩133,334</div></div>,\n",
       " <div class=\"price-wrap\"><div class=\"price autoResize\" data-clickpart=\"chevron_price\" data-index=\"0\" data-sizegroup=\"mini-meta-price\">₩90,000</div></div>,\n",
       " <div class=\"price-wrap\"><div class=\"price autoResize\" data-clickpart=\"chevron_price\" data-index=\"0\" data-sizegroup=\"mini-meta-price\">₩80,000</div></div>,\n",
       " <div class=\"price-wrap\"><div class=\"xwrap\"><div class=\"xthrough autoResize\" data-sizegroup=\"mini-meta-xthrough\"><div>₩366,667</div></div></div><div class=\"price autoResize\" data-clickpart=\"chevron_price\" data-index=\"0\" data-sizegroup=\"mini-meta-price\">₩330,000</div></div>,\n",
       " <div class=\"price-wrap\"><div class=\"price autoResize\" data-clickpart=\"chevron_price\" data-index=\"0\" data-sizegroup=\"mini-meta-price\">₩200,000</div></div>,\n",
       " <div class=\"price-wrap\"><div class=\"price autoResize\" data-clickpart=\"chevron_price\" data-index=\"0\" data-sizegroup=\"mini-meta-price\">₩167,059</div></div>,\n",
       " <div class=\"price-wrap\"><div class=\"price autoResize\" data-clickpart=\"chevron_price\" data-index=\"0\" data-sizegroup=\"mini-meta-price\">₩528,000</div></div>,\n",
       " <div class=\"price-wrap\"><div class=\"price autoResize\" data-clickpart=\"chevron_price\" data-index=\"0\" data-sizegroup=\"mini-meta-price\">₩383,144</div></div>,\n",
       " <div class=\"price-wrap\"><div class=\"price autoResize\" data-clickpart=\"chevron_price\" data-index=\"0\" data-sizegroup=\"mini-meta-price\">₩354,800</div></div>]"
      ]
     },
     "execution_count": 10,
     "metadata": {},
     "output_type": "execute_result"
    }
   ],
   "source": [
    "lists_prz = soup.findAll('div', {'class' : 'price-wrap'}) \n",
    "lists_prz     # 이름과 링크를 하는 사이에 사이트가 자동으로 로딩되서 순서가 바낌 "
   ]
  },
  {
   "cell_type": "code",
   "execution_count": null,
   "metadata": {},
   "outputs": [],
   "source": []
  }
 ],
 "metadata": {
  "kernelspec": {
   "display_name": "Python 3",
   "language": "python",
   "name": "python3"
  },
  "language_info": {
   "codemirror_mode": {
    "name": "ipython",
    "version": 3
   },
   "file_extension": ".py",
   "mimetype": "text/x-python",
   "name": "python",
   "nbconvert_exporter": "python",
   "pygments_lexer": "ipython3",
   "version": "3.7.6"
  },
  "toc": {
   "base_numbering": 1,
   "nav_menu": {},
   "number_sections": true,
   "sideBar": true,
   "skip_h1_title": false,
   "title_cell": "Table of Contents",
   "title_sidebar": "Contents",
   "toc_cell": false,
   "toc_position": {},
   "toc_section_display": true,
   "toc_window_display": false
  }
 },
 "nbformat": 4,
 "nbformat_minor": 4
}
