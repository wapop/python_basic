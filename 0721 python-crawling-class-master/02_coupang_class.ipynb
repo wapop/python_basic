{
 "cells": [
  {
   "cell_type": "markdown",
   "metadata": {},
   "source": [
    "# 웹 크롤링(2)\n",
    "크롤링 사이트: https://www.coupang.com\n",
    "\n",
    "## 크롤링 절차\n",
    "1. 사이트의 html을 읽어들이기: requests.get(url) 사용\n",
    "    * http://www.useragentstring.com/\n",
    "    \n",
    "    \n",
    "    \n",
    "2. 텍스트 형태의 데이터를 html 태그별로 구분하여 파싱하기 : BeutifulSoup\n",
    "\n",
    "3. 특정 태그값만 찾기 : findAll, find\n",
    "\n",
    "4. 필요한 데이터값 정제하기\n",
    "\n",
    "5. 데이터 저장하기\n"
   ]
  },
  {
   "cell_type": "code",
   "execution_count": null,
   "metadata": {},
   "outputs": [],
   "source": [
    "from bs4 import BeautifulSoup\n",
    "import csv\n",
    "import requests\n",
    "import pandas as pd"
   ]
  },
  {
   "cell_type": "code",
   "execution_count": null,
   "metadata": {},
   "outputs": [],
   "source": [
    "headers = {'User-Agent': 'Mozilla/5.0 (Windows NT 10.0; Win64; x64) AppleWebKit/537.36 (KHTML, like Gecko) Chrome/83.0.4103.106 Safari/537.36'}"
   ]
  },
  {
   "cell_type": "code",
   "execution_count": null,
   "metadata": {},
   "outputs": [],
   "source": [
    "product_name = '김치'\n",
    "# https://www.coupang.com/np/search?component=&q=김치&channel=user\n",
    "url = f\"https://www.coupang.com/np/search?component=&q={product_name}&channel=user\""
   ]
  },
  {
   "cell_type": "code",
   "execution_count": null,
   "metadata": {},
   "outputs": [],
   "source": [
    "# get html\n",
    "response = requests.get(url, headers = headers)\n",
    "response"
   ]
  },
  {
   "cell_type": "code",
   "execution_count": null,
   "metadata": {},
   "outputs": [],
   "source": [
    "# BeautifulSoup을 활용하여 데이터 파싱\n",
    "soup = BeautifulSoup(response.text, \"html.parser\")\n",
    "# print(soup)"
   ]
  },
  {
   "cell_type": "code",
   "execution_count": null,
   "metadata": {},
   "outputs": [],
   "source": [
    "#상품명\n",
    "# <div class=\"name\">비비고 썰은배추김치, 1.8kg, 1개</div>\n",
    "names = soup.findAll('div', {'class':'name'})\n",
    "\n",
    "# for item in names :\n",
    "#     print(item.text)    "
   ]
  },
  {
   "cell_type": "code",
   "execution_count": null,
   "metadata": {},
   "outputs": [],
   "source": [
    "# <div class=\"price\">  <span class=\"price-info\">  <span class=\"instant-discount-rate\">6%</span>   <del class=\"base-price\">14,900</del>  </span> <em class=\"sale \"> <strong class=\"price-value\">13,890</strong>원   <span class=\"badge rocket\"> <img src=\"//image6.coupangcdn.com/image/badges/falcon/v1/web/rocket-fresh@2x.png\" height=\"16\" alt=\"로켓배송\">  </span>  </em>   <span class=\"unit-price\">(<em>100</em>g당 <em>772</em>원) </span>  </div>\n",
    "# <strong class=\"price-value\">13,890</strong>원 \n",
    "prices = soup.findAll('strong', {'class':'price-value'})\n",
    "\n",
    "# for item in prices :\n",
    "#     print(item.text)"
   ]
  },
  {
   "cell_type": "code",
   "execution_count": null,
   "metadata": {},
   "outputs": [],
   "source": [
    "name_list = []\n",
    "price_list = []"
   ]
  },
  {
   "cell_type": "code",
   "execution_count": null,
   "metadata": {},
   "outputs": [],
   "source": [
    "# 광고 데이터(i=0일때)는 가격이 나오지 않으므로 리스트 생성 시, 제외\n",
    "i = 0\n",
    "for item in names :\n",
    "    if(i > 0) : \n",
    "        name_list.append(item.text)        \n",
    "    i = i + 1\n",
    "    \n",
    "for item in prices :\n",
    "    price_list.append(item.text)"
   ]
  },
  {
   "cell_type": "code",
   "execution_count": null,
   "metadata": {
    "scrolled": false
   },
   "outputs": [],
   "source": [
    "result_file_name = \"coupang_kimch.csv\"\n",
    "for k in range(len(price_list)) :\n",
    "#     print(\"*상품명 : \", name_list[k+1], \",    *가격 : \",price_list[k])\n",
    "    result = pd.DataFrame(data={'상품명' : name_list, '가격' : price_list})\n",
    "    result.to_csv(result_file_name, header = False, index = False, encoding='utf-8-sig')"
   ]
  },
  {
   "cell_type": "code",
   "execution_count": null,
   "metadata": {},
   "outputs": [],
   "source": [
    "## (실습1) 쿠팡 케이스별로 크롤링 하는 경우\n",
    "product_name = '종가집 김치'\n",
    "page_no=1\n",
    "min_price=20000\n",
    "max_price=40000\n",
    "\n",
    "result_file_name ='쿠팡_result_2'\n",
    "\n",
    "url = f\"https://www.coupang.com/np/search?component=&q={product_name}&channel=user&page={page_no}&minPrice={min_price}&maxPrice={max_price}\""
   ]
  }
 ],
 "metadata": {
  "kernelspec": {
   "display_name": "Python 3",
   "language": "python",
   "name": "python3"
  },
  "language_info": {
   "codemirror_mode": {
    "name": "ipython",
    "version": 3
   },
   "file_extension": ".py",
   "mimetype": "text/x-python",
   "name": "python",
   "nbconvert_exporter": "python",
   "pygments_lexer": "ipython3",
   "version": "3.7.6"
  },
  "toc": {
   "base_numbering": 1,
   "nav_menu": {},
   "number_sections": false,
   "sideBar": true,
   "skip_h1_title": false,
   "title_cell": "Table of Contents",
   "title_sidebar": "Contents",
   "toc_cell": false,
   "toc_position": {},
   "toc_section_display": true,
   "toc_window_display": false
  }
 },
 "nbformat": 4,
 "nbformat_minor": 4
}
