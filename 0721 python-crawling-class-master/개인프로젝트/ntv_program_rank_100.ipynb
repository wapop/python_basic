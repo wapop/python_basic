{
 "metadata": {
  "language_info": {
   "codemirror_mode": {
    "name": "ipython",
    "version": 3
   },
   "file_extension": ".py",
   "mimetype": "text/x-python",
   "name": "python",
   "nbconvert_exporter": "python",
   "pygments_lexer": "ipython3",
   "version": 3
  },
  "orig_nbformat": 2,
  "kernelspec": {
   "name": "python_defaultSpec_1595314864841",
   "display_name": "Python 3.7.6 64-bit ('anaconda3': virtualenv)"
  }
 },
 "nbformat": 4,
 "nbformat_minor": 2,
 "cells": [
  {
   "cell_type": "code",
   "execution_count": 270,
   "metadata": {
    "tags": [
     "outputPrepend"
    ]
   },
   "outputs": [
    {
     "output_type": "stream",
     "name": "stdout",
     "text": "폭탄 발언 //ㅅ/// ㅋㅋㅋ\"><tooltip>임부복 못 버리는 정주리ㅋㅋㅋ 이유는? 윤균상의 폭탄 발언 //ㅅ/// ㅋㅋㅋ</tooltip></a>\n</dt>\n<dd class=\"chn\">\n<a href=\"https://tv.naver.com/cjenm.thehousedetox\" onclick=\"clickcr(this, 'top.chtitle', '', '93', event)\">신박한 정리</a>\n</dd>\n<dd class=\"meta\">\n<span class=\"hit\"><span class=\"blind\">재생 수</span>16,964</span>\n<span class=\"like\"><span class=\"blind\">좋아요 수</span>67</span>\n</dd>\n</dl>\n</div>\n</div>\n<div class=\"cds\">\n<div class=\"cds_type\">\n<a class=\"cds_thm\" data-anisrc=\"https://phinf.pstatic.net/tvcast/20200716_212/VJMKa_1594899117118OQt4r_GIF/f0a8ae1f-c757-11ea-b412-b496915e8f50.gif?type=mfullfill_234_132_ani_limit15\" href=\"https://tv.naver.com/v/14822227/list/67096\" onclick=\"clickcr(this, 'top.clip', '', '94', event)\">\n<span class=\"mask _top_ani_area\"></span>\n<img alt=\"쏘렌토 하이브리드 출고하면서 ...\" data-src=\"https://phinf.pstatic.net/tvcast/20200716_82/ApuWD_1594899114264WAJX1_JPEG/1594898901490.jpg?type=f194_109_blend\" onerror='this.src=\"https://phinf.pstatic.net/tvcast/20161227_263/photoinfra_1482831787654EeESz_PNG/default_clip.png?type=f194_109\"' src=\"https://phinf.pstatic.net/tvcast/20200716_82/ApuWD_1594899114264WAJX1_JPEG/1594898901490.jpg?type=f194_109_blend\" width=\"100%\"/>\n<img alt=\"임시 이미지\" class=\"_ani_img\" src=\"https://ssl.pstatic.net/img.tvcast/pc/img/bg_blank.png\" style=\"position:absolute; left:0px; top:0px; opacity:0\" width=\"100%\"/>\n<!-- [D]담았을때 class=\"tk_b check\" -->\n<span class=\"tm_b\"><span class=\"blind\">재생시간</span>10:59</span>\n<span class=\"btn_my _click\" data-clipno=\"14822227\" data-event=\"addWatchLater\" data-login=\"false\" onclick=\"clickcr(this, 'top.add', '', '94', '');\">나중에 보기</span>\n</a>\n<!--\n\t\t\t\t\t\t\t\t[D]랭킹 숫자\n\t\t\t\t\t\t\t\tnum1 : 1\n\t\t\t\t\t\t\t\tnum2 : 2\n\t\t\t\t\t\t\t\tnum3 : 3\n\t\t\t\t\t\t\t\t...\n\t\t\t\t\t\t\t\tnum100 : 100\n\t\t\t\t\t\t\t-->\n<span class=\"num num94\">94</span>\n<!--\n\t\t\t\t\t\t\t\t[D]순위\n\t\t\t\t\t\t\t\tup : rank up\n\t\t\t\t\t\t\t\tdown : rank down\n\t\t\t\t\t\t\t\tnew : rank new\n\t\t\t\t\t\t\t\tkeep : rank keep\n\t\t\t\t\t\t\t-->\n<span class=\"rank new\"><em>NEW</em></span>\n<dl class=\"cds_info\">\n<dt class=\"title\">\n<a href=\"https://tv.naver.com/v/14822227/list/67096\" onclick=\"clickcr(this, 'top.clip', '', '94', event)\" title=\"쏘렌토 하이브리드 출고하면서 ...\"><tooltip>쏘렌토 하이브리드 출고하면서 ...</tooltip></a>\n</dt>\n<dd class=\"chn\">\n<a href=\"https://tv.naver.com/tnkfree\" onclick=\"clickcr(this, 'top.chtitle', '', '94', event)\">TNK프리오토</a>\n</dd>\n<dd class=\"meta\">\n<span class=\"hit\"><span class=\"blind\">재생 수</span>6,921</span>\n<span class=\"like\"><span class=\"blind\">좋아요 수</span>13</span>\n</dd>\n</dl>\n</div>\n</div>\n<div class=\"cds\">\n<div class=\"cds_type\">\n<a class=\"cds_thm\" data-anisrc=\"https://phinf.pstatic.net/tvcast/20200719_206/bdEbR_1595160770920duPxR_GIF/1d0b5e7c-c9b1-11ea-becf-b496915e8884.gif?type=mfullfill_234_132_ani_limit15\" href=\"https://tv.naver.com/v/14861690/list/67096\" onclick=\"clickcr(this, 'top.clip', '', '95', event)\">\n<span class=\"mask _top_ani_area\"></span>\n<img alt=\"‘역시’ 이정현×김동현, 2020년 버전으로 재탄생한 ☆줄래★\" data-src=\"https://phinf.pstatic.net/tvcast/20200719_278/pkBSY_1595160769940jTKap_JPEG/f998d9f8-8181-43d2-8ebd-b38984b9f73e.jpg?type=f194_109_blend\" onerror='this.src=\"https://phinf.pstatic.net/tvcast/20161227_263/photoinfra_1482831787654EeESz_PNG/default_clip.png?type=f194_109\"' src=\"https://phinf.pstatic.net/tvcast/20200719_278/pkBSY_1595160769940jTKap_JPEG/f998d9f8-8181-43d2-8ebd-b38984b9f73e.jpg?type=f194_109_blend\" width=\"100%\"/>\n<img alt=\"임시 이미지\" class=\"_ani_img\" src=\"https://ssl.pstatic.net/img.tvcast/pc/img/bg_blank.png\" style=\"position:absolute; left:0px; top:0px; opacity:0\" width=\"100%\"/>\n<!-- [D]담았을때 class=\"tk_b check\" -->\n<span class=\"tm_b\"><span class=\"blind\">재생시간</span>4:02</span>\n<span class=\"btn_my _click\" data-clipno=\"14861690\" data-event=\"addWatchLater\" data-login=\"false\" onclick=\"clickcr(this, 'top.add', '', '95', '');\">나중에 보기</span>\n</a>\n<!--\n\t\t\t\t\t\t\t\t[D]랭킹 숫자\n\t\t\t\t\t\t\t\tnum1 : 1\n\t\t\t\t\t\t\t\tnum2 : 2\n\t\t\t\t\t\t\t\tnum3 : 3\n\t\t\t\t\t\t\t\t...\n\t\t\t\t\t\t\t\tnum100 : 100\n\t\t\t\t\t\t\t-->\n<span class=\"num num95\">95</span>\n<!--\n\t\t\t\t\t\t\t\t[D]순위\n\t\t\t\t\t\t\t\tup : rank up\n\t\t\t\t\t\t\t\tdown : rank down\n\t\t\t\t\t\t\t\tnew : rank new\n\t\t\t\t\t\t\t\tkeep : rank keep\n\t\t\t\t\t\t\t-->\n<span class=\"rank down\"><span class=\"blind\">하락</span><em>15</em></span>\n<dl class=\"cds_info\">\n<dt class=\"title\">\n<a href=\"https://tv.naver.com/v/14861690/list/67096\" onclick=\"clickcr(this, 'top.clip', '', '95', event)\" title=\"‘역시’ 이정현×김동현, 2020년 버전으로 재탄생한 ☆줄래★\"><tooltip>‘역시’ 이정현×김동현, 2020년 버전으로 재탄생한 ☆줄래★</tooltip></a>\n</dt>\n<dd class=\"chn\">\n<a href=\"https://tv.naver.com/sbs.2018house\" onclick=\"clickcr(this, 'top.chtitle', '', '95', event)\">집사부일체</a>\n</dd>\n<dd class=\"meta\">\n<span class=\"hit\"><span class=\"blind\">재생 수</span>88,191</span>\n<span class=\"like\"><span class=\"blind\">좋아요 수</span>839</span>\n</dd>\n</dl>\n</div>\n</div>\n<div class=\"cds\">\n<div class=\"cds_type\">\n<a class=\"cds_thm\" data-anisrc=\"https://phinf.pstatic.net/tvcast/20200717_27/xdkT8_1594913679651TOmMl_GIF/720e5db7-c770-11ea-91e4-a0369ff96c40.gif?type=mfullfill_234_132_ani_limit15\" href=\"https://tv.naver.com/v/14824975/list/67096\" onclick=\"clickcr(this, 'top.clip', '', '96', event)\">\n<span class=\"mask _top_ani_area\"></span>\n<img alt=\"목적지는 어디로? 고객님 마음속☆ ‘나침반’♪\" data-src=\"https://phinf.pstatic.net/tvcast/20200716_250/QGtAx_1594909666012JjJMj_JPEG/C202000040_3_202007161110427951.jpg?type=f194_109_blend\" onerror='this.src=\"https://phinf.pstatic.net/tvcast/20161227_263/photoinfra_1482831787654EeESz_PNG/default_clip.png?type=f194_109\"' src=\"https://phinf.pstatic.net/tvcast/20200716_250/QGtAx_1594909666012JjJMj_JPEG/C202000040_3_202007161110427951.jpg?type=f194_109_blend\" width=\"100%\"/>\n<img alt=\"임시 이미지\" class=\"_ani_img\" src=\"https://ssl.pstatic.net/img.tvcast/pc/img/bg_blank.png\" style=\"position:absolute; left:0px; top:0px; opacity:0\" width=\"100%\"/>\n<!-- [D]담았을때 class=\"tk_b check\" -->\n<span class=\"tm_b\"><span class=\"blind\">재생시간</span>2:19</span>\n<span class=\"btn_my _click\" data-clipno=\"14824975\" data-event=\"addWatchLater\" data-login=\"false\" onclick=\"clickcr(this, 'top.add', '', '96', '');\">나중에 보기</span>\n</a>\n<!--\n\t\t\t\t\t\t\t\t[D]랭킹 숫자\n\t\t\t\t\t\t\t\tnum1 : 1\n\t\t\t\t\t\t\t\tnum2 : 2\n\t\t\t\t\t\t\t\tnum3 : 3\n\t\t\t\t\t\t\t\t...\n\t\t\t\t\t\t\t\tnum100 : 100\n\t\t\t\t\t\t\t-->\n<span class=\"num num96\">96</span>\n<!--\n\t\t\t\t\t\t\t\t[D]순위\n\t\t\t\t\t\t\t\tup : rank up\n\t\t\t\t\t\t\t\tdown : rank down\n\t\t\t\t\t\t\t\tnew : rank new\n\t\t\t\t\t\t\t\tkeep : rank keep\n\t\t\t\t\t\t\t-->\n<span class=\"rank new\"><em>NEW</em></span>\n<dl class=\"cds_info\">\n<dt class=\"title\">\n<a href=\"https://tv.naver.com/v/14824975/list/67096\" onclick=\"clickcr(this, 'top.clip', '', '96', event)\" title=\"목적지는 어디로? 고객님 마음속☆ ‘나침반’♪\"><tooltip>목적지는 어디로? 고객님 마음속☆ ‘나침반’♪</tooltip></a>\n</dt>\n<dd class=\"chn\">\n<a href=\"https://tv.naver.com/tvchosun.lovecall\" onclick=\"clickcr(this, 'top.chtitle', '', '96', event)\">신청곡을 불러드립니다-사랑의 콜센타</a>\n</dd>\n<dd class=\"meta\">\n<span class=\"hit\"><span class=\"blind\">재생 수</span>315,794</span>\n<span class=\"like\"><span class=\"blind\">좋아요 수</span>17,568</span>\n</dd>\n</dl>\n</div>\n</div>\n<div class=\"cds\">\n<div class=\"cds_type\">\n<a class=\"cds_thm\" data-anisrc=\"https://phinf.pstatic.net/tvcast/20200720_141/iaDo5_159525251111730s8T_GIF/4e13968b-ca8c-11ea-8301-246e9639634d.gif?type=mfullfill_234_132_ani_limit15\" href=\"https://tv.naver.com/v/14880458/list/67096\" onclick=\"clickcr(this, 'top.clip', '', '97', event)\">\n<span class=\"mask _top_ani_area\"></span>\n<img alt=\"[16화 예고] '나 떠날래' 가족들을 충격에 빠지게 한 원미경의 폭탄선언!\" data-src=\"https://phinf.pstatic.net/tvcast/20200720_19/OToom_1595251617465RFLs3_JPEG/B120207271_EPI0016_01_B.jpg?type=f194_109_blend\" onerror='this.src=\"https://phinf.pstatic.net/tvcast/20161227_263/photoinfra_1482831787654EeESz_PNG/default_clip.png?type=f194_109\"' src=\"https://phinf.pstatic.net/tvcast/20200720_19/OToom_1595251617465RFLs3_JPEG/B120207271_EPI0016_01_B.jpg?type=f194_109_blend\" width=\"100%\"/>\n<img alt=\"임시 이미지\" class=\"_ani_img\" src=\"https://ssl.pstatic.net/img.tvcast/pc/img/bg_blank.png\" style=\"position:absolute; left:0px; top:0px; opacity:0\" width=\"100%\"/>\n<!-- [D]담았을때 class=\"tk_b check\" -->\n<span class=\"tm_b\"><span class=\"blind\">재생시간</span>0:15</span>\n<span class=\"btn_my _click\" data-clipno=\"14880458\" data-event=\"addWatchLater\" data-login=\"false\" onclick=\"clickcr(this, 'top.add', '', '97', '');\">나중에 보기</span>\n</a>\n<!--\n\t\t\t\t\t\t\t\t[D]랭킹 숫자\n\t\t\t\t\t\t\t\tnum1 : 1\n\t\t\t\t\t\t\t\tnum2 : 2\n\t\t\t\t\t\t\t\tnum3 : 3\n\t\t\t\t\t\t\t\t...\n\t\t\t\t\t\t\t\tnum100 : 100\n\t\t\t\t\t\t\t-->\n<span class=\"num num97\">97</span>\n<!--\n\t\t\t\t\t\t\t\t[D]순위\n\t\t\t\t\t\t\t\tup : rank up\n\t\t\t\t\t\t\t\tdown : rank down\n\t\t\t\t\t\t\t\tnew : rank new\n\t\t\t\t\t\t\t\tkeep : rank keep\n\t\t\t\t\t\t\t-->\n<span class=\"rank down\"><span class=\"blind\">하락</span><em>8</em></span>\n<dl class=\"cds_info\">\n<dt class=\"title\">\n<a href=\"https://tv.naver.com/v/14880458/list/67096\" onclick=\"clickcr(this, 'top.clip', '', '97', event)\" title=\"[16화 예고] '나 떠날래' 가족들을 충격에 빠지게 한 원미경의 폭탄선언!\"><tooltip>[16화 예고] '나 떠날래' 가족들을 충격에 빠지게 한 원미경의 폭탄선언!</tooltip></a>\n</dt>\n<dd class=\"chn\">\n<a href=\"https://tv.naver.com/cjenm.myfamily\" onclick=\"clickcr(this, 'top.chtitle', '', '97', event)\">(아는 건 별로 없지만) 가족입니다</a>\n</dd>\n<dd class=\"meta\">\n<span class=\"hit\"><span class=\"blind\">재생 수</span>40,717</span>\n<span class=\"like\"><span class=\"blind\">좋아요 수</span>56</span>\n</dd>\n</dl>\n</div>\n</div>\n<div class=\"cds\">\n<div class=\"cds_type\">\n<a class=\"cds_thm\" data-anisrc=\"https://phinf.pstatic.net/tvcast/20200622_78/tC2bL_1592785901711LCeGP_GIF/2d497aa2-b2e0-11ea-8648-a0369ff9072c.gif?type=mfullfill_234_132_ani_limit15\" href=\"https://tv.naver.com/v/14391626/list/67096\" onclick=\"clickcr(this, 'top.clip', '', '98', event)\">\n<span class=\"mask _top_ani_area\"></span>\n<img alt=\"김호중 - 어느 60대 노부부의 이야기\" data-src=\"https://phinf.pstatic.net/tvcast/20200622_220/uBlso_1592785900541gsL9T_PNG/eFT91uWEo87N.png?type=f194_109_blend\" onerror='this.src=\"https://phinf.pstatic.net/tvcast/20161227_263/photoinfra_1482831787654EeESz_PNG/default_clip.png?type=f194_109\"' src=\"https://phinf.pstatic.net/tvcast/20200622_220/uBlso_1592785900541gsL9T_PNG/eFT91uWEo87N.png?type=f194_109_blend\" width=\"100%\"/>\n<img alt=\"임시 이미지\" class=\"_ani_img\" src=\"https://ssl.pstatic.net/img.tvcast/pc/img/bg_blank.png\" style=\"position:absolute; left:0px; top:0px; opacity:0\" width=\"100%\"/>\n<!-- [D]담았을때 class=\"tk_b check\" -->\n<span class=\"tm_b\"><span class=\"blind\">재생시간</span>6:13</span>\n<span class=\"btn_my _click\" data-clipno=\"14391626\" data-event=\"addWatchLater\" data-login=\"false\" onclick=\"clickcr(this, 'top.add', '', '98', '');\">나중에 보기</span>\n</a>\n<!--\n\t\t\t\t\t\t\t\t[D]랭킹 숫자\n\t\t\t\t\t\t\t\tnum1 : 1\n\t\t\t\t\t\t\t\tnum2 : 2\n\t\t\t\t\t\t\t\tnum3 : 3\n\t\t\t\t\t\t\t\t...\n\t\t\t\t\t\t\t\tnum100 : 100\n\t\t\t\t\t\t\t-->\n<span class=\"num num98\">98</span>\n<!--\n\t\t\t\t\t\t\t\t[D]순위\n\t\t\t\t\t\t\t\tup : rank up\n\t\t\t\t\t\t\t\tdown : rank down\n\t\t\t\t\t\t\t\tnew : rank new\n\t\t\t\t\t\t\t\tkeep : rank keep\n\t\t\t\t\t\t\t-->\n<span class=\"rank new\"><em>NEW</em></span>\n<dl class=\"cds_info\">\n<dt class=\"title\">\n<a href=\"https://tv.naver.com/v/14391626/list/67096\" onclick=\"clickcr(this, 'top.clip', '', '98', event)\" title=\"김호중 - 어느 60대 노부부의 이야기\"><tooltip>김호중 - 어느 60대 노부부의 이야기</tooltip></a>\n</dt>\n<dd class=\"chn\">\n<a href=\"https://tv.naver.com/satfreedom\" onclick=\"clickcr(this, 'top.chtitle', '', '98', event)\">불후의 명곡2 전설을 노래하다</a>\n</dd>\n<dd class=\"meta\">\n<span class=\"hit\"><span class=\"blind\">재생 수</span>565,218</span>\n<span class=\"like\"><span class=\"blind\">좋아요 수</span>25,290</span>\n</dd>\n</dl>\n</div>\n</div>\n<div class=\"cds\">\n<div class=\"cds_type\">\n<a class=\"cds_thm\" data-anisrc=\"https://phinf.pstatic.net/tvcast/20200721_168/2uaC9_1595263337224q5LXW_GIF/fc83cc00-caa2-11ea-9de8-b496915e8f64.gif?type=mfullfill_234_132_ani_limit15\" href=\"https://tv.naver.com/v/14882022/list/67096\" onclick=\"clickcr(this, 'top.clip', '', '99', event)\">\n<span class=\"mask _top_ani_area\"></span>\n<img alt=\"(당황수치 MAX♨) 갑작스럽게 중단된 교육, 앞으로 쿠키의 교육은..?\" data-src=\"https://phinf.pstatic.net/tvcast/20200721_153/8kXHh_1595261271771NhC47_PNG/PTzpQjVMNbVt.png?type=f194_109_blend\" onerror='this.src=\"https://phinf.pstatic.net/tvcast/20161227_263/photoinfra_1482831787654EeESz_PNG/default_clip.png?type=f194_109\"' src=\"https://phinf.pstatic.net/tvcast/20200721_153/8kXHh_1595261271771NhC47_PNG/PTzpQjVMNbVt.png?type=f194_109_blend\" width=\"100%\"/>\n<img alt=\"임시 이미지\" class=\"_ani_img\" src=\"https://ssl.pstatic.net/img.tvcast/pc/img/bg_blank.png\" style=\"position:absolute; left:0px; top:0px; opacity:0\" width=\"100%\"/>\n<!-- [D]담았을때 class=\"tk_b check\" -->\n<span class=\"tm_b\"><span class=\"blind\">재생시간</span>2:48</span>\n<span class=\"btn_my _click\" data-clipno=\"14882022\" data-event=\"addWatchLater\" data-login=\"false\" onclick=\"clickcr(this, 'top.add', '', '99', '');\">나중에 보기</span>\n</a>\n<!--\n\t\t\t\t\t\t\t\t[D]랭킹 숫자\n\t\t\t\t\t\t\t\tnum1 : 1\n\t\t\t\t\t\t\t\tnum2 : 2\n\t\t\t\t\t\t\t\tnum3 : 3\n\t\t\t\t\t\t\t\t...\n\t\t\t\t\t\t\t\tnum100 : 100\n\t\t\t\t\t\t\t-->\n<span class=\"num num99\">99</span>\n<!--\n\t\t\t\t\t\t\t\t[D]순위\n\t\t\t\t\t\t\t\tup : rank up\n\t\t\t\t\t\t\t\tdown : rank down\n\t\t\t\t\t\t\t\tnew : rank new\n\t\t\t\t\t\t\t\tkeep : rank keep\n\t\t\t\t\t\t\t-->\n<span class=\"rank down\"><span class=\"blind\">하락</span><em>29</em></span>\n<dl class=\"cds_info\">\n<dt class=\"title\">\n<a href=\"https://tv.naver.com/v/14882022/list/67096\" onclick=\"clickcr(this, 'top.clip', '', '99', event)\" title=\"(당황수치 MAX♨) 갑작스럽게 중단된 교육, 앞으로 쿠키의 교육은..?\"><tooltip>(당황수치 MAX♨) 갑작스럽게 중단된 교육, 앞으로 쿠키의 교육은..?</tooltip></a>\n</dt>\n<dd class=\"chn\">\n<a href=\"https://tv.naver.com/kbs.doggy\" onclick=\"clickcr(this, 'top.chtitle', '', '99', event)\">개는 훌륭하다</a>\n</dd>\n<dd class=\"meta\">\n<span class=\"hit\"><span class=\"blind\">재생 수</span>21,441</span>\n<span class=\"like\"><span class=\"blind\">좋아요 수</span>68</span>\n</dd>\n</dl>\n</div>\n</div>\n<div class=\"cds\">\n<div class=\"cds_type\">\n<a class=\"cds_thm\" data-anisrc=\"https://phinf.pstatic.net/tvcast/20200721_232/wNirC_159530982475142gEj_GIF/a5c1a4e5-caa4-11ea-91e4-a0369ff96c40.gif?type=mfullfill_234_132_ani_limit15\" href=\"https://tv.naver.com/v/14882102/list/67096\" onclick=\"clickcr(this, 'top.clip', '', '100', event)\">\n<span class=\"mask _top_ani_area\"></span>\n<img alt=\"싱글 '박나래' 이해 불가! 화장품이 가루가 되는 이유?? (Ft. 정주리 아들)\" data-src=\"https://phinf.pstatic.net/tvcast/20200721_62/NdmKf_1595262111676PKnyX_JPEG/B120207837_EPI0004_07_B.jpg?type=f194_109_blend\" onerror='this.src=\"https://phinf.pstatic.net/tvcast/20161227_263/photoinfra_1482831787654EeESz_PNG/default_clip.png?type=f194_109\"' src=\"https://phinf.pstatic.net/tvcast/20200721_62/NdmKf_1595262111676PKnyX_JPEG/B120207837_EPI0004_07_B.jpg?type=f194_109_blend\" width=\"100%\"/>\n<img alt=\"임시 이미지\" class=\"_ani_img\" src=\"https://ssl.pstatic.net/img.tvcast/pc/img/bg_blank.png\" style=\"position:absolute; left:0px; top:0px; opacity:0\" width=\"100%\"/>\n<!-- [D]담았을때 class=\"tk_b check\" -->\n<span class=\"tm_b\"><span class=\"blind\">재생시간</span>2:24</span>\n<span class=\"btn_my _click\" data-clipno=\"14882102\" data-event=\"addWatchLater\" data-login=\"false\" onclick=\"clickcr(this, 'top.add', '', '100', '');\">나중에 보기</span>\n</a>\n<!--\n\t\t\t\t\t\t\t\t[D]랭킹 숫자\n\t\t\t\t\t\t\t\tnum1 : 1\n\t\t\t\t\t\t\t\tnum2 : 2\n\t\t\t\t\t\t\t\tnum3 : 3\n\t\t\t\t\t\t\t\t...\n\t\t\t\t\t\t\t\tnum100 : 100\n\t\t\t\t\t\t\t-->\n<span class=\"num num100\">100</span>\n<!--\n\t\t\t\t\t\t\t\t[D]순위\n\t\t\t\t\t\t\t\tup : rank up\n\t\t\t\t\t\t\t\tdown : rank down\n\t\t\t\t\t\t\t\tnew : rank new\n\t\t\t\t\t\t\t\tkeep : rank keep\n\t\t\t\t\t\t\t-->\n<span class=\"rank down\"><span class=\"blind\">하락</span><em>19</em></span>\n<dl class=\"cds_info\">\n<dt class=\"title\">\n<a href=\"https://tv.naver.com/v/14882102/list/67096\" onclick=\"clickcr(this, 'top.clip', '', '100', event)\" title=\"싱글 '박나래' 이해 불가! 화장품이 가루가 되는 이유?? (Ft. 정주리 아들)\"><tooltip>싱글 '박나래' 이해 불가! 화장품이 가루가 되는 이유?? (Ft. 정주리 아들)</tooltip></a>\n</dt>\n<dd class=\"chn\">\n<a href=\"https://tv.naver.com/cjenm.thehousedetox\" onclick=\"clickcr(this, 'top.chtitle', '', '100', event)\">신박한 정리</a>\n</dd>\n<dd class=\"meta\">\n<span class=\"hit\"><span class=\"blind\">재생 수</span>15,154</span>\n<span class=\"like\"><span class=\"blind\">좋아요 수</span>51</span>\n</dd>\n</dl>\n</div>\n</div>\n</div>\n</div>\n</div>\n</div>\n</div>\n</div>\n<script src=\"/resources/release/js_v2/deploy/tvcast.pc.Top100.merge_20200703111014.js\" type=\"text/javascript\"></script>\n<script type=\"text/javascript\">\n\tvar nsc = \"tvcast.top100\";\n\tvar ghtEnv = {\n\t\tserviceDomain : \"https://tv.naver.com\",\n\t\tlikeItDomain : 'https://common.like.naver.com',\n\t\tlikeItApiDomain : 'https://common.like.naver.com',\n\t\tisLogin : false\n\t};\n\n\tjQuery(window).on(\"load\", function() {\n\t\ttvcast.pc.Gnb.init();\n\t\ttvcast.pc.Subscription.init();\n\t\tMyPage.initEvent();\n\t\ttvcast.pc.AnimateThumb = new tvcast.pc.AnimateThumb({\"baseEl\" : \"container\"});\n\t});\n</script>\n<div class=\"floating_top\">\n<iframe frameborder=\"0\" src=\"about:blank\" style=\"position:absolute;left:0;top:0;width:100%;height:100%;border:none;vertical-align:bottom\" title=\"TOP\"></iframe>\n<a class=\"btn btn_home\" href=\"/\" onclick=\"clickcr(this, 'mov.home', '', '', event)\" title=\"홈\">홈</a>\n<a class=\"btn btn_top\" href=\"#\" onclick=\"goTop();clickcr(this, 'mov.top', '', '', event)\" title=\"TOP\">TOP</a>\n</div>\n<script>\n    function goTop(){\n\t\twindow.scrollTo(0, 0);\n\t\tvar topEl = document.getElementById('u_skip');\n\t\tif (topEl) {\n\t\t\ttopEl.tabIndex = -1;\n\t\t\ttopEl.focus();\n\t\t\ttopEl.removeAttribute('tabIndex');\n\t\t}\n    }\n</script>\n</div>\n<div id=\"footer\" style=\"padding-left: 180px;\">\n<ul>\n<li class=\"first\"><a href=\"http://www.naver.com/rules/service.html\" onclick=\"clickcr(this, 'fot.agreement', '', '', event);\" target=\"_blank\">이용약관</a></li>\n<li><a href=\"http://www.naver.com/rules/privacy.html\" onclick=\"clickcr(this, 'fot.privacy', '', '', event);\" target=\"_blank\">개인정보처리방침</a></li>\n<li><a href=\"http://www.naver.com/rules/disclaimer.html\" onclick=\"clickcr(this, 'fot.disclaimer', '', '', event);\" target=\"_blank\">책임의 한계와 법적고지</a></li>\n<li><a href=\"https://help.naver.com/support/alias/navertv/navertv_home-PC.naver\" onclick=\"clickcr(this, 'fot.helpdesk', '', '', event);\" target=\"_blank\">네이버TV 고객센터</a></li>\n<li><a href=\"https://studio.tv.naver.com/join\" onclick=\"clickcr(this, 'fot.chopen', '', '', event);\" target=\"_blank\">채널 만들기</a></li>\n<li><a href=\"/n/policy\" onclick=\"clickcr(this, 'fot.policy', '', '', event);\">네이버TV 운영정책</a></li>\n</ul>\n<p class=\"info\">본 콘텐츠의 저작권은 저작권자에 있으며, 이를 무단으로 이용하는 경우 저작권법 등에 따라 법적 책임을 질 수 있습니다.</p>\n<address>\n<a class=\"nhn\" href=\"http://www.naver.com\" onclick=\"clickcr(this, 'fot.navercorp', '', '', event);\" target=\"_blank\">\n<img alt=\"NAVER\" height=\"11\" src=\"https://ssl.pstatic.net/static/common/footer/ci_naver.png\" width=\"63\"/>\n</a>\n<em>Copyright ©</em>\n<a href=\"https://www.navercorp.com\" onclick=\"clickcr(this, 'fot.navercorp', '', '', event);\" target=\"_blank\">NAVER Corp.</a>\n<span>All Rights Reserved.</span>\n</address>\n</div>\n<div class=\"dimd\" id=\"layerDimd\" style=\"display:none\"></div>\n<script type=\"text/javascript\">\n\tfunction redirectMobile() {\n\t\tsetCookie(\"NTC_PC_MODE\", \"false\");\n\t\tvar sRedirectPcUrl = \"\";\n\t\t\n\t\tif (location.search === \"\") {\n\t\t\tsRedirectPcUrl = 'https://m.tv.naver.com'+ location.pathname;\n\t\t} else {\n\t\t\tsRedirectPcUrl = 'https://m.tv.naver.com' +\n\t\t\t\t\t\t\t  location.pathname +\n\t        \t\t\t\t  location.search.split(\"&\")[0];\n\t\t}\n\t\tlocation.href = sRedirectPcUrl;\n\t}\n\t\n\tfunction setCookie(name, value) {\n\t\tvar domain = \".tv.naver.com\";\n\t\tvar path = \"/\";\n\t\tdocument.cookie = name + \"=\" + value + \"; path=\" + path + \"; domain=\" + domain;\n    }\n\n\tvar TagAZ = {\n\t\tquery: function (obj) {\n\t\t\tvar q = \"\";\n\t\t\tif (obj) {\n\t\t\t\tq = \"?\";\n\t\t\t\tfor (var key in obj) {\n\t\t\t\t\tq += key + \"=\" + obj[key] + \"&\";\n\t\t\t\t}\n\t\t\t}\n\t\t\treturn q;\n\t\t},\n\t\tgetPageName: function() {\n\t\t\tif (typeof ghtEnv !== 'undefined') {\n\t\t\t\treturn ghtEnv.pageName ? ghtEnv.pageName : \"\";\n\t\t\t}\n\t\t\treturn \"\";\n\t\t},\n\t\tgetPageContentsId: function() {\n\t\t\tif (typeof ghtEnv !== 'undefined') {\n\t\t\t\treturn ghtEnv.pageContentsId ? ghtEnv.pageContentsId : \"\";\n\t\t\t}\n\t\t\treturn \"\";\n\t\t},\n\t\turl: function(obj) {\n\t\t\tif(obj.href) {\n\t\t\t\treturn obj.href;\n\t\t\t}\n\t\t\treturn \"\";\n\t\t},\n\t\tsend: function (r) {\n\t\t\tvar sReq =r;\n\t\t\tvar oImg = new Image();\n\t\t\toImg.src = sReq;\n\t\t},\n\t\ttagClickEncoded : function (tagName, pageId, contentId) {\n\t\t\tTagAZ.clicklog(tagName, pageId, contentId);\n\t\t},\n\t\ttagClick : function(tagName, pageId, contentId) {\n\t\t\ttagName = encodeURIComponent(tagName);\n\t\t\tTagAZ.clicklog(tagName, pageId, contentId);\n\t\t},\n\t\tclicklog : function (tagName, pageId, contentId) {\n\t\t\tvar obj = {\n\t\t\t\ta : nsc,\n\t\t\t\tc : contentId,\n\t\t\t\td : location.href,\n\t\t\t\tf : (document.referrer ? document.referrer : \"\"),\n\t\t\t\tp : pageId,\n\t\t\t\tt : tagName, // tagName\n\n\t\t\t}\n\t\t\tvar q = TagAZ.query(obj);\n\t\t\tTagAZ.send(\"/api/az/nc\" + q);\n\t\t}\n\t};\n\n</script>\n</body>\n</html>\n\n"
    }
   ],
   "source": [
    "#-*- coding: utf-8 -*-\n",
    "from bs4 import BeautifulSoup\n",
    "import requests\n",
    "import pandas as pd\n",
    "url = 'https://tv.naver.com/r'\n",
    "response = requests.get(url)\n",
    "\n",
    "# parse data\n",
    "soup = BeautifulSoup(response.text, 'html.parser')\n",
    "print(soup)"
   ]
  },
  {
   "cell_type": "code",
   "execution_count": 278,
   "metadata": {
    "tags": []
   },
   "outputs": [
    {
     "output_type": "stream",
     "name": "stdout",
     "text": "[<span class=\"num num1\">1</span>, <span class=\"num num2\">2</span>, <span class=\"num num3\">3</span>, <span class=\"num num4\">4</span>, <span class=\"num num5\">5</span>, <span class=\"num num6\">6</span>, <span class=\"num num7\">7</span>, <span class=\"num num8\">8</span>, <span class=\"num num9\">9</span>, <span class=\"num num10\">10</span>, <span class=\"num num11\">11</span>, <span class=\"num num12\">12</span>, <span class=\"num num13\">13</span>, <span class=\"num num14\">14</span>, <span class=\"num num15\">15</span>, <span class=\"num num16\">16</span>, <span class=\"num num17\">17</span>, <span class=\"num num18\">18</span>, <span class=\"num num19\">19</span>, <span class=\"num num20\">20</span>, <span class=\"num num21\">21</span>, <span class=\"num num22\">22</span>, <span class=\"num num23\">23</span>, <span class=\"num num24\">24</span>, <span class=\"num num25\">25</span>, <span class=\"num num26\">26</span>, <span class=\"num num27\">27</span>, <span class=\"num num28\">28</span>, <span class=\"num num29\">29</span>, <span class=\"num num30\">30</span>, <span class=\"num num31\">31</span>, <span class=\"num num32\">32</span>, <span class=\"num num33\">33</span>, <span class=\"num num34\">34</span>, <span class=\"num num35\">35</span>, <span class=\"num num36\">36</span>, <span class=\"num num37\">37</span>, <span class=\"num num38\">38</span>, <span class=\"num num39\">39</span>, <span class=\"num num40\">40</span>, <span class=\"num num41\">41</span>, <span class=\"num num42\">42</span>, <span class=\"num num43\">43</span>, <span class=\"num num44\">44</span>, <span class=\"num num45\">45</span>, <span class=\"num num46\">46</span>, <span class=\"num num47\">47</span>, <span class=\"num num48\">48</span>, <span class=\"num num49\">49</span>, <span class=\"num num50\">50</span>, <span class=\"num num51\">51</span>, <span class=\"num num52\">52</span>, <span class=\"num num53\">53</span>, <span class=\"num num54\">54</span>, <span class=\"num num55\">55</span>, <span class=\"num num56\">56</span>, <span class=\"num num57\">57</span>, <span class=\"num num58\">58</span>, <span class=\"num num59\">59</span>, <span class=\"num num60\">60</span>, <span class=\"num num61\">61</span>, <span class=\"num num62\">62</span>, <span class=\"num num63\">63</span>, <span class=\"num num64\">64</span>, <span class=\"num num65\">65</span>, <span class=\"num num66\">66</span>, <span class=\"num num67\">67</span>, <span class=\"num num68\">68</span>, <span class=\"num num69\">69</span>, <span class=\"num num70\">70</span>, <span class=\"num num71\">71</span>, <span class=\"num num72\">72</span>, <span class=\"num num73\">73</span>, <span class=\"num num74\">74</span>, <span class=\"num num75\">75</span>, <span class=\"num num76\">76</span>, <span class=\"num num77\">77</span>, <span class=\"num num78\">78</span>, <span class=\"num num79\">79</span>, <span class=\"num num80\">80</span>, <span class=\"num num81\">81</span>, <span class=\"num num82\">82</span>, <span class=\"num num83\">83</span>, <span class=\"num num84\">84</span>, <span class=\"num num85\">85</span>, <span class=\"num num86\">86</span>, <span class=\"num num87\">87</span>, <span class=\"num num88\">88</span>, <span class=\"num num89\">89</span>, <span class=\"num num90\">90</span>, <span class=\"num num91\">91</span>, <span class=\"num num92\">92</span>, <span class=\"num num93\">93</span>, <span class=\"num num94\">94</span>, <span class=\"num num95\">95</span>, <span class=\"num num96\">96</span>, <span class=\"num num97\">97</span>, <span class=\"num num98\">98</span>, <span class=\"num num99\">99</span>, <span class=\"num num100\">100</span>]\n"
    }
   ],
   "source": [
    "# 프로그램이름\n",
    "pname_list = soup.findAll(\"dd\", {\"class\":\"chn\"})\n",
    "\n",
    "# 동영상제목\n",
    "vtitle_list = soup.findAll(\"dt\", {\"class\":\"title\"})\n",
    "\n",
    "# 랭킹\n",
    "rank_list = soup.findAll(\"span\", {\"class\":\"num\"})"
   ]
  },
  {
   "cell_type": "code",
   "execution_count": 279,
   "metadata": {
    "tags": []
   },
   "outputs": [],
   "source": [
    "p_list = []\n",
    "v_list = []\n",
    "r_list = []\n",
    "# for pname, vtitle in zip(pname_list, vtitle_list):\n",
    "#     p_name = str(pname.text)\n",
    "\n",
    "# list = []\n",
    "# v_list = []\n",
    "\n",
    "for pname, vtitle, ranking in zip(pname_list, vtitle_list, rank_list):\n",
    "    p_name = str(pname.text)\n",
    "    p_name.lstrip('\\n').rstrip('\\n')\n",
    "    p_list.append(p_name)\n",
    "\n",
    "    v_title = str(vtitle.text)\n",
    "    v_title.lstrip('\\n').rstrip('\\n')\n",
    "    v_list.append(v_title)\n",
    "\n",
    "    r = str(ranking.text)\n",
    "    r_list.append(r)"
   ]
  },
  {
   "cell_type": "code",
   "execution_count": 283,
   "metadata": {
    "tags": []
   },
   "outputs": [
    {
     "output_type": "stream",
     "name": "stdout",
     "text": "['1', '2', '3', '4', '5', '6', '7', '8', '9', '10', '11', '12', '13', '14', '15', '16', '17', '18', '19', '20', '21', '22', '23', '24', '25', '26', '27', '28', '29', '30', '31', '32', '33', '34', '35', '36', '37', '38', '39', '40', '41', '42', '43', '44', '45', '46', '47', '48', '49', '50', '51', '52', '53', '54', '55', '56', '57', '58', '59', '60', '61', '62', '63', '64', '65', '66', '67', '68', '69', '70', '71', '72', '73', '74', '75', '76', '77', '78', '79', '80', '81', '82', '83', '84', '85', '86', '87', '88', '89', '90', '91', '92', '93', '94', '95', '96', '97', '98', '99', '100']\n"
    }
   ],
   "source": []
  },
  {
   "cell_type": "code",
   "execution_count": 284,
   "metadata": {
    "tags": []
   },
   "outputs": [
    {
     "output_type": "stream",
     "name": "stdout",
     "text": "1\n신청곡을 불러드립니다-사랑의 콜센타\n\n\n[미방영] 임영웅✕황윤성 ‘Despacito’ ♪\n\n\n2\n백종원의 골목식당\n\n\n[스페셜] ‘덮죽 탄생!!’ 위기 속 희망을 찾은 포항 ♡수제 냉동 돈가스집♥\n\n\n3\n불후의 명곡2 전설을 노래하다\n\n\n[환상의듀엣⚒️] 김호중 X 진시몬 어서 말을 해♪\n\n\n4\n사이코지만 괜찮아\n\n[메이킹]에는 있고 본방에는 없다? 달달커플, 흔들다리부터 민박집까지! ★엔딩((눈물콸콸))주의★\n\n5\n동상이몽2_너는 내 운명\n\n‘엄지발가락 척!’ 라니, 정한울 요리에 라슐랭표 극찬!\n\n6\n더 짠내투어\n\n[선공개] 인간극장 ′조이가 발굴한 거장 사진사박씨 탄생기′\n\n7\n미스터트롯\n\n✪주먹 장인✪ 임히어로 출격↗ 임영웅 ‘두 주먹’♩\n\n8\n집사부일체\n\n‘열창’ 이승기, 뛰어난 가창력으로 선보인 ‘금지된 사랑’\n\n9\n한국경제TV - 신속한 경제/증권 채널\n\n빚더미 한국, 부도나나?… 3대 평가사 “이제부턴 걱정해야 합니다” [한상춘의 지금 세계는]\n\n10\n전지적 참견시점\n\n[엠돌핀] 장관이네요 절경이고요..엄근진 특급 배우 황정민x이정재 예능 나들이🙌ㅣ전참시ㅣ엠돌핀\n\n11\n집사부일체\n\n[풀영상] 이승기 ＜금지된 사랑＞ 무대 Ver.\n\n12\n달수네라이브\n\n토트넘 자력으론 유로파리그 못가게 됐다 [달수네 킹우의 수]\n\n13\n불후의 명곡2 전설을 노래하다\n\n[트바로티 ⚡️] 열창하는 김호중의 비련 ♪\n\n14\n신청곡을 불러드립니다-사랑의 콜센타\n\n영탁 ✕ 류지광 ‘연예인’ ♩ 단체 흥폭발🔥\n\n15\nTV금강일보\n\n당신을 위한 연결, 대전 트램\n\n16\n악인전\n\n※전격공개※ 《제가요 ? 2020 인생은 즐거워 M/V≫ (a.k.a 송가인X김요한X제시)\n\n17\nStone Music Entertainment\n\n[꼰대인턴 OST Part 2] 이찬원 (Lee Chan Won) - 시절인연 (時節因緣) (Fate in Time) MV\n\n18\n신박한 정리\n\n꿈도 못 꿨던 집 안의 키즈 카페! 감동으로 울먹이는 '정주리' ㅠㅠ\n\n19\n위즈메모리\n\n'내 꿈은 프로야구선수' 선수들 어린시절 모음\n\n20\n신청곡을 불러드립니다-사랑의 콜센타\n\n김중연✕이찬원 ‘나에게로 떠나는 여행’ ♫\n\n21\n뽕숭아학당\n\n임영웅 ‘빗속을 둘이서’ ♫ 빗속 감성 콘서트❤\n\n22\n신박한 정리\n\n달라진 집, 정주리의 반응은?! 눈물 펑펑 ㅠㅠ 육아에 지친 맘 위로하는 정리!\n\n23\n동상이몽2_너는 내 운명\n\n[7월 27일 예고] 코믹과 달달을 초월한 ‘김재우♥조유리’ 커밍 순!\n\n24\n사이코지만 괜찮아\n\n[11화 예고] '절대 안줘!' 서예지vs오정세, 김수현을 두고 ′강태 소유권 전쟁′ 발발?!\n\n25\n동상이몽2_너는 내 운명\n\n이윤지, ‘수면 교육’으로 보는 엄마와 ‘세대 차이’\n\n26\n동상이몽2_너는 내 운명\n\n‘질투쟁이’ 송창의, 드라마 보는 오지영 계속 방해!\n\n27\n동상이몽2_너는 내 운명\n\n송창의, 산모 쫓고 침대 차지한 남편 is 대역 죄인!\n\n28\n노래가 좋아\n\n[초대가수 무대] 김호중 - 할무니\n\n29\n신박한 정리\n\n(감동 주의) 참 멋진 내 친구... 엄마가 된 '정주리'를 위한 '박나래' 깜짝 선물!?♥\n\n30\n신박한 정리\n\n정주리 집 공간 재구성 끝판왕★ 수습 불가 옷방 → 가족의 새로운 공간으로!?\n\n31\n신박한 정리\n\n남편 방 없애자구 했잖아~♥ 아이들 동선 고려 '드레스룸'으로 大변신☆ 완벽 정리된 주리네 집!\n\n32\n동상이몽2_너는 내 운명\n\n라니, 고사리 손으로 찍은 도란도란 가족사진!\n\n33\n신청곡을 불러드립니다-사랑의 콜센타\n\n진정한 짝꿍을 보여주마! ‘짝짝꿍짝’♪\n\n34\n동상이몽2_너는 내 운명\n\n[덕쿵사] “창의야~!!” 하율, 아빠 송창의에 심쿵 호칭!\n\n35\n(아는 건 별로 없지만) 가족입니다\n\n#하이라이트# 김지석X한예리 썸 끝 드.디.어 연애 시작♡\n\n36\n동상이몽2_너는 내 운명\n\n송창의♥오지영, 귀염 뽀짝 뽀시래기 딸 하율이 등장! (랜선이모는 웁니다↘)\n\n37\n동상이몽2_너는 내 운명\n\n이윤지♥정한울, 라니×소울이와 찍은 4대 가족사진!\n\n38\n연합뉴스\n\n'쾅' 삽시간에…용인 물류센터 화재 5명 숨져\n\n39\n신박한 정리\n\n고정관념 깨는 신박한 TV 배치?! 역대급 변신, 정주리 집 거실!\n\n40\n임진한의 전국투어 시즌2\n\n5-6-7 아이언 거리가 동일해요\n\n41\n신청곡을 불러드립니다-사랑의 콜센타\n\n승리를 위한 필살 고음↗ 김호중·나태주 ‘자서전’ ♬\n\n42\n(아는 건 별로 없지만) 가족입니다\n\n역시 은주에겐 남자 은희가 딱! 추차현을 웃게 만드는 권율\n\n43\n동상이몽2_너는 내 운명\n\n이윤지, 모녀 4代 가족 인증샷 성공!\n\n44\n신박한 정리\n\n아이 셋, 정주리 맞춤형 신박한 정리! 육아형 완벽 정리 주방 공개!\n\n45\n사이코지만 괜찮아\n\n[11화 예고] 서예지와 함께라서 행복한 김수현과 그걸 지켜보는 오정세\n\n46\n연합뉴스\n\n인천→시흥→파주→서울…'수돗물 유충' 초비상\n\n47\n신박한 정리\n\n[#하이라이트#] 감동♡ 아들 셋  '정주리' 울린 신박한 위로! 역대급 집 정리, 비포 & 애프터 공개\n\n48\n신박한 정리\n\n신애라의 신박한 선물ㅠㅠ♥ 육아에 지친 주리를 위한 매콤 '갈치조림' 한상!\n\n49\nMBC뉴스\n\n백신 개발 속도…\"모든 투약자 면역 생겨\"\n\n50\n(아는 건 별로 없지만) 가족입니다\n\n[파탄엔딩] 세 남매 쫓아내는 아빠 정진영 ＂엄마 이제 니들하고 그만할꺼야!＂\n\n51\n뉴스는 YTN\n\n전 채널A 기자 녹취록 전문 공개...KBS·MBC 보도 반박\n\n52\n동상이몽2_너는 내 운명\n\n송창의 VS 오지영, 서로 맞지 않는 ‘취미이몽’\n\n53\n동상이몽2_너는 내 운명\n\n오지영, ‘국민 스윗남’ 송창의 혼술 흔적에 아침부터 집안일 시작!\n\n54\n위대한 배태랑\n\n깜놀 주의※ 넘치는 김호중의 힘에 끊어져 버린 밴드\n\n55\nJTBC뉴스\n\n뺨 때리고 머리채 질질…제주 여중생 '집단폭행' 영상\n\n56\n플레이리스트\n\n첫인상 쌉구렸던 애랑 친해지는 법 [인서울2] - EP.11\n\n57\n신박한 정리\n\n엄마라면 누구나.. 키즈까페 같은 집을 만들어 주고 싶었어요\n\n58\nJTBC뉴스\n\n늙음이 벌이 된 세상…폐지 줍기부터 쪽잠 경비까지 '노인 노동자' 실태\n\n59\n동상이몽2_너는 내 운명\n\n송창의, 오지영×하율이 반대로 수염 기르기 실패!\n\n60\n신박한 정리\n\n갑자기 터져나온 눈물.. 아들 셋 엄마 '정주리'가 말하는 육아 이야기\n\n61\nSPORTSTIME (스포츠타임)\n\n[PL] 손흥민 레스터전 현지해설 \"정말 강한 상대(손흥민)를 상대하는 레스터\"\n\n62\n신청곡을 불러드립니다-사랑의 콜센타\n\n환영 🌟사콜 나이트🌟 OPEN! 이찬원 ‘우연히’♪\n\n63\nSPOTV_PL\n\n37R 토트넘 vs 레스터 시티 경기 하이라이트\n\n64\n동상이몽2_너는 내 운명\n\n“감동 노노~” 오지영, ‘멜로 전문 배우’ 송창의 프러포즈 리얼 후기!\n\n65\n아내의 맛\n\n워킹맘에게도 휴식이 필요해_아내의 맛 107회 예고\n\n66\n집사부일체\n\n이정현, 테크노 여전사가 돌아 오다!! ‘바꿔♬’\n\n67\n신박한 정리\n\n엄마의 시간은 1년씩 늦게 흐른다..☆ 유통기한 무시하는 주리 냉장고\n\n68\n개는 훌륭하다\n\n겁쟁이 쿠키?? 집에서는 제왕 밖에서는 쭈글...\n\n69\n맨체스터 시티 공식 계정\n\n경기 전 기자회견 | 펩 \"앞으로 남은 2주와 다음 시즌이 매우 기대됩니다\"\n\n70\n백종원의 골목식당\n\n“내가 사 먹겠는데?” 백종원, 아재개그하다 만든 신메뉴 ‘덮죽’ 대박예감♥\n\n71\n뽕숭아학당\n\n자연으로 떠난 유기농 뽕새싹들🌱_뽕숭아학당 11회 예고\n\n72\n아이콘택트\n\n＂(충격)너는 누구니?＂ 1년 만에 마주한 모녀, 딸을 보자마자 기도를 시작한 엄마?!\n\n73\n비긴어게인 코리아\n\n🎤 포기를 포기하게 만드는 파워풀한 고음↗ 소향의 'I Won't Give up'♩\n\n74\n순Fe\n\n방황하는 '프로'야구 후배들에게 [PITCH OUT]\n\n75\n사이코지만 괜찮아\n\n망태 말구 상태 줘! 서예지의 당당한 요구에 뿔난 오정세\n\n76\n위대한 배태랑\n\n[M/V (폴 댄스 ver.)] 위대한 배태랑 '너나 나나'♪ 뮤직비디오 大공개 (Song by. 김호중)\n\n77\n플레이리스트\n\n정신차려보니 나만 보는 잘생긴 또라이랑 썸 타는 중;; [인서울2] - 철또하림 모음.zip\n\n78\n동상이몽2_너는 내 운명\n\n송창의♥오지영, 마성 매력과 반전 매력 부부 ‘최초 공개’\n\n79\n(아는 건 별로 없지만) 가족입니다\n\n[16화 예고] 친아버지 만나기로 결심한 추자현! 과연 별가족의 마지막은...?\n\n80\nJTBC뉴스\n\n[뉴스브리핑] 절벽에 아이 매달고 찰칵…도 넘은 '인증샷'\n\n81\n(아는 건 별로 없지만) 가족입니다\n\n박력 백허그로 시작된 한예리♥김지석 (드디어 썸 청산!!!)\n\n82\n신청곡을 불러드립니다-사랑의 콜센타\n\n오늘밤 🌟댄스 투나잇🌟 더운 여름 ‘도시탈출’♪\n\n83\nKBS뉴스\n\n‘용인 물류센터 화재’ 5명 숨져…“모두 지하 4층서 발견”\n\n84\n신박한 정리\n\n치워도 티가 안나! 아들 셋 엄마, 개그우먼 '정주리'의 집 고민은?!\n\n85\n(아는 건 별로 없지만) 가족입니다\n\n신재하의 선택 알고 억장 무너진 원미경.. 돌아온 막냉이 애교에도 '냉랭'\n\n86\n놀면 뭐하니?\n\n[MV] 비공식적으로 찍어본 싹쓰리🌊다시 여기 바닷가🌊 즉흥 뮤비! l SSAK3 - Beach again\n\n87\nSPOTV_FA CUP\n\n[FA컵 준결승] 맨체스터 유나이티드 vs 첼시 경기 하이라이트\n\n88\nSPOTV_PL\n\n37R 셰필드 유나이티드 vs 에버튼 경기 하이라이트\n\n89\n(아는 건 별로 없지만) 가족입니다\n\n뜻 밖의 장소에서 다시 만난 한예리x신동욱\n\n90\n한 번 다녀왔습니다\n\n[69-70회 예고] 우리가 왜 안되는데? ☢️ 나규커플 VS 다재커플 [한 번 다녀왔습니다]\n\n91\n동상이몽2_너는 내 운명\n\n이윤지, 반가웠던 ‘라니×소울이네’ 홈커밍 특집 소감!\n\n92\n신박한 정리\n\n아들이 그린 그림 어떻게 버려..ㅠㅠ? 엄마 정주리 vs. 단호박 신애라!\n\n93\n신박한 정리\n\n임부복 못 버리는 정주리ㅋㅋㅋ 이유는? 윤균상의 폭탄 발언 //ㅅ/// ㅋㅋㅋ\n\n94\nTNK프리오토\n\n쏘렌토 하이브리드 출고하면서 ...\n\n95\n집사부일체\n\n‘역시’ 이정현×김동현, 2020년 버전으로 재탄생한 ☆줄래★\n\n96\n신청곡을 불러드립니다-사랑의 콜센타\n\n목적지는 어디로? 고객님 마음속☆ ‘나침반’♪\n\n97\n(아는 건 별로 없지만) 가족입니다\n\n[16화 예고] '나 떠날래' 가족들을 충격에 빠지게 한 원미경의 폭탄선언!\n\n98\n불후의 명곡2 전설을 노래하다\n\n김호중 - 어느 60대 노부부의 이야기\n\n99\n개는 훌륭하다\n\n(당황수치 MAX♨) 갑작스럽게 중단된 교육, 앞으로 쿠키의 교육은..?\n\n100\n신박한 정리\n\n싱글 '박나래' 이해 불가! 화장품이 가루가 되는 이유?? (Ft. 정주리 아들)\n\n"
    }
   ],
   "source": [
    "for i in range(len(n_list)):\n",
    "    print(r_list[i] + p_list[i] + v_list[i])\n"
   ]
  },
  {
   "cell_type": "code",
   "execution_count": 285,
   "metadata": {},
   "outputs": [],
   "source": [
    "import pandas as pd\n",
    "import numpy as np\n",
    "import matplotlib.pyplot as plt"
   ]
  },
  {
   "cell_type": "code",
   "execution_count": 299,
   "metadata": {},
   "outputs": [],
   "source": [
    "df = pd.DataFrame(data={\"p_name\":p_list, \"v_title\":v_list}, index=r_list)\n"
   ]
  },
  {
   "cell_type": "code",
   "execution_count": 300,
   "metadata": {},
   "outputs": [
    {
     "output_type": "execute_result",
     "data": {
      "text/plain": "                      p_name  \\\n1    \\n신청곡을 불러드립니다-사랑의 콜센타\\n   \n2              \\n백종원의 골목식당\\n   \n3       \\n불후의 명곡2 전설을 노래하다\\n   \n4              \\n사이코지만 괜찮아\\n   \n5          \\n동상이몽2_너는 내 운명\\n   \n..                       ...   \n96   \\n신청곡을 불러드립니다-사랑의 콜센타\\n   \n97   \\n(아는 건 별로 없지만) 가족입니다\\n   \n98      \\n불후의 명곡2 전설을 노래하다\\n   \n99               \\n개는 훌륭하다\\n   \n100               \\n신박한 정리\\n   \n\n                                               v_title  \n1                  \\n\\n[미방영] 임영웅✕황윤성 ‘Despacito’ ♪\\n\\n  \n2    \\n\\n[스페셜] ‘덮죽 탄생!!’ 위기 속 희망을 찾은 포항 ♡수제 냉동 돈가스집...  \n3                 \\n\\n[환상의듀엣⚒️] 김호중 X 진시몬 어서 말을 해♪\\n\\n  \n4    \\n[메이킹]에는 있고 본방에는 없다? 달달커플, 흔들다리부터 민박집까지! ★엔딩(...  \n5                  \\n‘엄지발가락 척!’ 라니, 정한울 요리에 라슐랭표 극찬!\\n  \n..                                                 ...  \n96                       \\n목적지는 어디로? 고객님 마음속☆ ‘나침반’♪\\n  \n97      \\n[16화 예고] '나 떠날래' 가족들을 충격에 빠지게 한 원미경의 폭탄선언!\\n  \n98                           \\n김호중 - 어느 60대 노부부의 이야기\\n  \n99        \\n(당황수치 MAX♨) 갑작스럽게 중단된 교육, 앞으로 쿠키의 교육은..?\\n  \n100  \\n싱글 '박나래' 이해 불가! 화장품이 가루가 되는 이유?? (Ft. 정주리 아들)\\n  \n\n[100 rows x 2 columns]",
      "text/html": "<div>\n<style scoped>\n    .dataframe tbody tr th:only-of-type {\n        vertical-align: middle;\n    }\n\n    .dataframe tbody tr th {\n        vertical-align: top;\n    }\n\n    .dataframe thead th {\n        text-align: right;\n    }\n</style>\n<table border=\"1\" class=\"dataframe\">\n  <thead>\n    <tr style=\"text-align: right;\">\n      <th></th>\n      <th>p_name</th>\n      <th>v_title</th>\n    </tr>\n  </thead>\n  <tbody>\n    <tr>\n      <th>1</th>\n      <td>\\n신청곡을 불러드립니다-사랑의 콜센타\\n</td>\n      <td>\\n\\n[미방영] 임영웅✕황윤성 ‘Despacito’ ♪\\n\\n</td>\n    </tr>\n    <tr>\n      <th>2</th>\n      <td>\\n백종원의 골목식당\\n</td>\n      <td>\\n\\n[스페셜] ‘덮죽 탄생!!’ 위기 속 희망을 찾은 포항 ♡수제 냉동 돈가스집...</td>\n    </tr>\n    <tr>\n      <th>3</th>\n      <td>\\n불후의 명곡2 전설을 노래하다\\n</td>\n      <td>\\n\\n[환상의듀엣⚒️] 김호중 X 진시몬 어서 말을 해♪\\n\\n</td>\n    </tr>\n    <tr>\n      <th>4</th>\n      <td>\\n사이코지만 괜찮아\\n</td>\n      <td>\\n[메이킹]에는 있고 본방에는 없다? 달달커플, 흔들다리부터 민박집까지! ★엔딩(...</td>\n    </tr>\n    <tr>\n      <th>5</th>\n      <td>\\n동상이몽2_너는 내 운명\\n</td>\n      <td>\\n‘엄지발가락 척!’ 라니, 정한울 요리에 라슐랭표 극찬!\\n</td>\n    </tr>\n    <tr>\n      <th>...</th>\n      <td>...</td>\n      <td>...</td>\n    </tr>\n    <tr>\n      <th>96</th>\n      <td>\\n신청곡을 불러드립니다-사랑의 콜센타\\n</td>\n      <td>\\n목적지는 어디로? 고객님 마음속☆ ‘나침반’♪\\n</td>\n    </tr>\n    <tr>\n      <th>97</th>\n      <td>\\n(아는 건 별로 없지만) 가족입니다\\n</td>\n      <td>\\n[16화 예고] '나 떠날래' 가족들을 충격에 빠지게 한 원미경의 폭탄선언!\\n</td>\n    </tr>\n    <tr>\n      <th>98</th>\n      <td>\\n불후의 명곡2 전설을 노래하다\\n</td>\n      <td>\\n김호중 - 어느 60대 노부부의 이야기\\n</td>\n    </tr>\n    <tr>\n      <th>99</th>\n      <td>\\n개는 훌륭하다\\n</td>\n      <td>\\n(당황수치 MAX♨) 갑작스럽게 중단된 교육, 앞으로 쿠키의 교육은..?\\n</td>\n    </tr>\n    <tr>\n      <th>100</th>\n      <td>\\n신박한 정리\\n</td>\n      <td>\\n싱글 '박나래' 이해 불가! 화장품이 가루가 되는 이유?? (Ft. 정주리 아들)\\n</td>\n    </tr>\n  </tbody>\n</table>\n<p>100 rows × 2 columns</p>\n</div>"
     },
     "metadata": {},
     "execution_count": 300
    }
   ],
   "source": [
    "df"
   ]
  },
  {
   "cell_type": "code",
   "execution_count": 309,
   "metadata": {},
   "outputs": [],
   "source": [
    "for i in range(len(df.p_name.values)):\n",
    "    df.p_name[i] = df.p_name.values[i].strip('\\n')\n",
    "    df.v_title[i] = df.v_title.values[i].strip('\\n')"
   ]
  },
  {
   "cell_type": "code",
   "execution_count": 310,
   "metadata": {},
   "outputs": [
    {
     "output_type": "execute_result",
     "data": {
      "text/plain": "                  p_name                                            v_title\n1    신청곡을 불러드립니다-사랑의 콜센타                        [미방영] 임영웅✕황윤성 ‘Despacito’ ♪\n2              백종원의 골목식당        [스페셜] ‘덮죽 탄생!!’ 위기 속 희망을 찾은 포항 ♡수제 냉동 돈가스집♥\n3       불후의 명곡2 전설을 노래하다                       [환상의듀엣⚒️] 김호중 X 진시몬 어서 말을 해♪\n4              사이코지만 괜찮아  [메이킹]에는 있고 본방에는 없다? 달달커플, 흔들다리부터 민박집까지! ★엔딩((눈...\n5          동상이몽2_너는 내 운명                    ‘엄지발가락 척!’ 라니, 정한울 요리에 라슐랭표 극찬!\n..                   ...                                                ...\n96   신청곡을 불러드립니다-사랑의 콜센타                          목적지는 어디로? 고객님 마음속☆ ‘나침반’♪\n97   (아는 건 별로 없지만) 가족입니다         [16화 예고] '나 떠날래' 가족들을 충격에 빠지게 한 원미경의 폭탄선언!\n98      불후의 명곡2 전설을 노래하다                              김호중 - 어느 60대 노부부의 이야기\n99               개는 훌륭하다           (당황수치 MAX♨) 갑작스럽게 중단된 교육, 앞으로 쿠키의 교육은..?\n100               신박한 정리      싱글 '박나래' 이해 불가! 화장품이 가루가 되는 이유?? (Ft. 정주리 아들)\n\n[100 rows x 2 columns]",
      "text/html": "<div>\n<style scoped>\n    .dataframe tbody tr th:only-of-type {\n        vertical-align: middle;\n    }\n\n    .dataframe tbody tr th {\n        vertical-align: top;\n    }\n\n    .dataframe thead th {\n        text-align: right;\n    }\n</style>\n<table border=\"1\" class=\"dataframe\">\n  <thead>\n    <tr style=\"text-align: right;\">\n      <th></th>\n      <th>p_name</th>\n      <th>v_title</th>\n    </tr>\n  </thead>\n  <tbody>\n    <tr>\n      <th>1</th>\n      <td>신청곡을 불러드립니다-사랑의 콜센타</td>\n      <td>[미방영] 임영웅✕황윤성 ‘Despacito’ ♪</td>\n    </tr>\n    <tr>\n      <th>2</th>\n      <td>백종원의 골목식당</td>\n      <td>[스페셜] ‘덮죽 탄생!!’ 위기 속 희망을 찾은 포항 ♡수제 냉동 돈가스집♥</td>\n    </tr>\n    <tr>\n      <th>3</th>\n      <td>불후의 명곡2 전설을 노래하다</td>\n      <td>[환상의듀엣⚒️] 김호중 X 진시몬 어서 말을 해♪</td>\n    </tr>\n    <tr>\n      <th>4</th>\n      <td>사이코지만 괜찮아</td>\n      <td>[메이킹]에는 있고 본방에는 없다? 달달커플, 흔들다리부터 민박집까지! ★엔딩((눈...</td>\n    </tr>\n    <tr>\n      <th>5</th>\n      <td>동상이몽2_너는 내 운명</td>\n      <td>‘엄지발가락 척!’ 라니, 정한울 요리에 라슐랭표 극찬!</td>\n    </tr>\n    <tr>\n      <th>...</th>\n      <td>...</td>\n      <td>...</td>\n    </tr>\n    <tr>\n      <th>96</th>\n      <td>신청곡을 불러드립니다-사랑의 콜센타</td>\n      <td>목적지는 어디로? 고객님 마음속☆ ‘나침반’♪</td>\n    </tr>\n    <tr>\n      <th>97</th>\n      <td>(아는 건 별로 없지만) 가족입니다</td>\n      <td>[16화 예고] '나 떠날래' 가족들을 충격에 빠지게 한 원미경의 폭탄선언!</td>\n    </tr>\n    <tr>\n      <th>98</th>\n      <td>불후의 명곡2 전설을 노래하다</td>\n      <td>김호중 - 어느 60대 노부부의 이야기</td>\n    </tr>\n    <tr>\n      <th>99</th>\n      <td>개는 훌륭하다</td>\n      <td>(당황수치 MAX♨) 갑작스럽게 중단된 교육, 앞으로 쿠키의 교육은..?</td>\n    </tr>\n    <tr>\n      <th>100</th>\n      <td>신박한 정리</td>\n      <td>싱글 '박나래' 이해 불가! 화장품이 가루가 되는 이유?? (Ft. 정주리 아들)</td>\n    </tr>\n  </tbody>\n</table>\n<p>100 rows × 2 columns</p>\n</div>"
     },
     "metadata": {},
     "execution_count": 310
    }
   ],
   "source": [
    "df"
   ]
  },
  {
   "cell_type": "code",
   "execution_count": 311,
   "metadata": {},
   "outputs": [],
   "source": [
    "# '\\u2715' encoding 불가능\n",
    "# euc-kr\n",
    "# utf-8 \n",
    "# cp949\n",
    "# mp949 \n",
    "\n",
    "df.to_csv(\"~/Desktop/ntv.csv\", sep=\",\", encoding='utf-16')\n"
   ]
  },
  {
   "cell_type": "code",
   "execution_count": 259,
   "metadata": {
    "tags": []
   },
   "outputs": [],
   "source": [
    "# v = np.array(df.v_title)\n",
    "# for i in range(len(df.v_title)):\n",
    "#     x = v[i].find('X')\n",
    "#     v[i]\n",
    "#     print(v[i][x])\n",
    "#     v[i] = v[i].replace(\"X\", \",\")"
   ]
  },
  {
   "cell_type": "code",
   "execution_count": 260,
   "metadata": {},
   "outputs": [
    {
     "output_type": "execute_result",
     "data": {
      "text/plain": "Empty DataFrame\nColumns: [p_name, v_title]\nIndex: []",
      "text/html": "<div>\n<style scoped>\n    .dataframe tbody tr th:only-of-type {\n        vertical-align: middle;\n    }\n\n    .dataframe tbody tr th {\n        vertical-align: top;\n    }\n\n    .dataframe thead th {\n        text-align: right;\n    }\n</style>\n<table border=\"1\" class=\"dataframe\">\n  <thead>\n    <tr style=\"text-align: right;\">\n      <th></th>\n      <th>p_name</th>\n      <th>v_title</th>\n    </tr>\n  </thead>\n  <tbody>\n  </tbody>\n</table>\n</div>"
     },
     "metadata": {},
     "execution_count": 260
    }
   ],
   "source": [
    "df"
   ]
  },
  {
   "cell_type": "code",
   "execution_count": 261,
   "metadata": {},
   "outputs": [],
   "source": [
    "data = pd.read_csv('~/Desktop/ntv.csv', sep=\",\")"
   ]
  },
  {
   "cell_type": "code",
   "execution_count": 262,
   "metadata": {},
   "outputs": [
    {
     "output_type": "execute_result",
     "data": {
      "text/plain": "Empty DataFrame\nColumns: [Unnamed: 0, p_name, v_title]\nIndex: []",
      "text/html": "<div>\n<style scoped>\n    .dataframe tbody tr th:only-of-type {\n        vertical-align: middle;\n    }\n\n    .dataframe tbody tr th {\n        vertical-align: top;\n    }\n\n    .dataframe thead th {\n        text-align: right;\n    }\n</style>\n<table border=\"1\" class=\"dataframe\">\n  <thead>\n    <tr style=\"text-align: right;\">\n      <th></th>\n      <th>Unnamed: 0</th>\n      <th>p_name</th>\n      <th>v_title</th>\n    </tr>\n  </thead>\n  <tbody>\n  </tbody>\n</table>\n</div>"
     },
     "metadata": {},
     "execution_count": 262
    }
   ],
   "source": [
    "data"
   ]
  },
  {
   "cell_type": "code",
   "execution_count": null,
   "metadata": {},
   "outputs": [],
   "source": []
  }
 ]
}