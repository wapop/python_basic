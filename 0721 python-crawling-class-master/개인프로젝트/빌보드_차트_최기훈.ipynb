{
 "cells": [
  {
   "cell_type": "code",
   "execution_count": 1,
   "metadata": {},
   "outputs": [],
   "source": [
    "import pandas as pd\n",
    "from io import BytesIO\n",
    "from bs4 import BeautifulSoup\n",
    "import requests"
   ]
  },
  {
   "cell_type": "code",
   "execution_count": 49,
   "metadata": {},
   "outputs": [],
   "source": [
    "url = 'https://www.billboard.com/charts/hot-100'\n",
    "response = requests.get(url)"
   ]
  },
  {
   "cell_type": "code",
   "execution_count": 122,
   "metadata": {},
   "outputs": [],
   "source": [
    "from selenium import webdriver\n",
    "from selenium.webdriver.chrome.options import Options\n",
    "import time\n",
    "import os\n",
    "import xlsxwriter"
   ]
  },
  {
   "cell_type": "code",
   "execution_count": 63,
   "metadata": {},
   "outputs": [],
   "source": [
    "options = Options()\n",
    "# options.headless = True\n",
    "browser = webdriver.Chrome(options=options)\n",
    "browser.implicitly_wait(3)\n",
    "browser.get(url)\n",
    "time.sleep(40) \n",
    "# BeautifulSoup을 활용하여 데이터 파싱\n",
    "html = browser.page_source\n",
    "soup = BeautifulSoup(html, 'html.parser')"
   ]
  },
  {
   "cell_type": "code",
   "execution_count": 64,
   "metadata": {},
   "outputs": [],
   "source": [
    "#<span class=\"chart-element__information__song text--truncate color--primary\">For The Night</span>\n",
    "songs = soup.findAll('span', {'class' : 'chart-element__information__song'})"
   ]
  },
  {
   "cell_type": "code",
   "execution_count": 220,
   "metadata": {},
   "outputs": [
    {
     "name": "stdout",
     "output_type": "stream",
     "text": [
      "Rockstar\n",
      "Blinding Lights\n",
      "Whats Poppin\n",
      "Savage\n",
      "Roses\n",
      "For The Night\n",
      "Watermelon Sugar\n",
      "Blueberry Faygo\n",
      "Say So\n",
      "Intentions\n",
      "The Woo\n",
      "Adore You\n",
      "Circles\n",
      "We Paid\n",
      "Don't Start Now\n",
      "Rain On Me\n",
      "Break My Heart\n",
      "The Bones\n",
      "One Margarita\n",
      "The Bigger Picture\n",
      "The Box\n",
      "Dior\n",
      "I Hope\n",
      "Life Is Good\n",
      "Falling\n",
      "Before You Go\n",
      "Hard To Forget\n",
      "Go Crazy\n",
      "Savage Love (Laxed - Siren Beat)\n",
      "Sunday Best\n",
      "Got It On Me\n",
      "Death Bed\n",
      "Bluebird\n",
      "Aim For The Moon\n",
      "Chasin' You\n",
      "Party Girl\n",
      "Gangstas\n",
      "Toosie Slide\n",
      "44 Bulldog\n",
      "High Fashion\n",
      "Something Special\n",
      "Die From A Broken Heart\n",
      "Yea Yea\n",
      "Mood Swings\n",
      "Stuck With U\n",
      "Emotionally Scarred\n",
      "Supalonely\n",
      "Walk Em Down\n",
      "Make It Rain\n",
      "Be Kind\n",
      "Girls In The Hood\n",
      "What You Know Bout Love\n",
      "The Scotts\n",
      "Snitchin\n",
      "Bad Bitch From Tokyo (Intro)\n",
      "Enjoy Yourself\n",
      "Creature\n",
      "I Love My Country\n",
      "If The World Was Ending\n",
      "Got What I Got\n",
      "Like That\n",
      "Here And Now\n",
      "Said Sum\n",
      "Rags2Riches\n",
      "West Coast Shit\n",
      "Be A Light\n",
      "Mamacita\n",
      "Don't Rush\n",
      "Done\n",
      "P*$$y Fairy (OTW)\n",
      "Does To Me\n",
      "God Whispered Your Name\n",
      "One Big Country Song\n",
      "Life's A Mess\n",
      "Wash Us In The Blood\n",
      "Diana\n",
      "Cool Again\n",
      "Why We Drink\n",
      "Tunnel Vision (Outro)\n",
      "After Party\n",
      "Gooba\n",
      "Need It\n",
      "Trollz\n",
      "Chicago Freestyle\n",
      "3 Headed Goat\n",
      "ily\n",
      "One Of Them Girls\n",
      "Beer Can't Fix\n",
      "Flex\n",
      "After A Few\n",
      "How You Like That\n",
      "Yo Perreo Sola\n",
      "More Than My Hometown\n",
      "Go!\n",
      "One Night Standards\n",
      "In Between\n",
      "Lovin' On You\n",
      "Girl Of My Dreams\n",
      "YaYa\n",
      "One Beer\n"
     ]
    }
   ],
   "source": [
    "songlist = []\n",
    "for song in songs:\n",
    "    print(song.text)\n",
    "    songlist.append(song.text)"
   ]
  },
  {
   "cell_type": "code",
   "execution_count": 138,
   "metadata": {},
   "outputs": [],
   "source": [
    "# \n",
    "songlist[69]='Pretty Fairy'"
   ]
  },
  {
   "cell_type": "code",
   "execution_count": 67,
   "metadata": {},
   "outputs": [],
   "source": [
    "#<span class=\"chart-element__image flex--no-shrink\" style=\"background-image: url(&quot;https://charts-static.billboard.com/img/2020/03/megan-thee-stallion-z0z-savage-7q2-155x155.jpg&quot;);\"></span>\n",
    "images = soup.findAll('span', {'class' : 'chart-element__image'})"
   ]
  },
  {
   "cell_type": "code",
   "execution_count": 142,
   "metadata": {},
   "outputs": [],
   "source": [
    "img_dir = f\"{os.getcwd()}/billboard\"\n",
    "if not os.path.isdir(img_dir):\n",
    "   os.mkdir(img_dir)\n",
    "\n",
    "i=0\n",
    "for image in images :\n",
    "    url = image.get('style').split('\"')[-2]   \n",
    "    img_file_name = songlist[i]\n",
    "    i+=1\n",
    "    if i ==100:\n",
    "        break\n",
    "    img_data = requests.get(url).content\n",
    "    with open(f'billboard/{i}_{img_file_name}.jpg', 'wb') as handler:\n",
    "        handler.write(img_data)"
   ]
  },
  {
   "cell_type": "code",
   "execution_count": 221,
   "metadata": {},
   "outputs": [
    {
     "name": "stdout",
     "output_type": "stream",
     "text": [
      "2020-07-21\n"
     ]
    }
   ],
   "source": [
    "# 날짜 받아오기\n",
    "from datetime import datetime\n",
    "\n",
    "now = datetime.now().strftime('%Y-%m-%d')\n",
    "print(now)"
   ]
  },
  {
   "cell_type": "code",
   "execution_count": 216,
   "metadata": {},
   "outputs": [
    {
     "name": "stdout",
     "output_type": "stream",
     "text": [
      "(155, 155)\n"
     ]
    }
   ],
   "source": [
    "# 19번 곡이 사이즈가 너무 큼...\n",
    "from PIL import Image\n",
    "\n",
    "i = 18\n",
    "image = 'billboard/'+str(i+1)+'_'+songlist[i]+'.jpg'\n",
    "\n",
    "im = Image.open(image)\n",
    "print(im.size)\n",
    "\n",
    "resize_image = im.resize((155, 155))\n",
    "resize_image.save(image, \"JPEG\", quality=95 )"
   ]
  },
  {
   "cell_type": "code",
   "execution_count": 217,
   "metadata": {},
   "outputs": [],
   "source": [
    "# 엑셀에 저장\n",
    "name = 'Billboard_'+now+'.xlsx'\n",
    "workbook  = xlsxwriter.Workbook(name)\n",
    "worksheet = workbook.add_worksheet()\n",
    "\n",
    "for i in range(len(songlist)):    \n",
    "    worksheet.set_column('A:A', 35)\n",
    "    worksheet.set_column('B:B',20)\n",
    "    worksheet.set_default_row(110)\n",
    "    \n",
    "    worksheet.write('A'+str(i+1), songlist[i])\n",
    "    \n",
    "    image = 'billboard/'+str(i+1)+'_'+songlist[i]+'.jpg'\n",
    "    worksheet.insert_image('B'+ str(i+1),image)\n",
    "\n",
    "workbook.close()"
   ]
  }
 ],
 "metadata": {
  "kernelspec": {
   "display_name": "Python 3",
   "language": "python",
   "name": "python3"
  },
  "language_info": {
   "codemirror_mode": {
    "name": "ipython",
    "version": 3
   },
   "file_extension": ".py",
   "mimetype": "text/x-python",
   "name": "python",
   "nbconvert_exporter": "python",
   "pygments_lexer": "ipython3",
   "version": "3.7.6"
  },
  "toc": {
   "base_numbering": 1,
   "nav_menu": {},
   "number_sections": true,
   "sideBar": true,
   "skip_h1_title": false,
   "title_cell": "Table of Contents",
   "title_sidebar": "Contents",
   "toc_cell": false,
   "toc_position": {},
   "toc_section_display": true,
   "toc_window_display": false
  }
 },
 "nbformat": 4,
 "nbformat_minor": 4
}
