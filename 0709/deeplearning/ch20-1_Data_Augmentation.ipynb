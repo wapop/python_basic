{
  "nbformat": 4,
  "nbformat_minor": 0,
  "metadata": {
    "kernelspec": {
      "display_name": "Python 3",
      "language": "python",
      "name": "python3"
    },
    "language_info": {
      "codemirror_mode": {
        "name": "ipython",
        "version": 3
      },
      "file_extension": ".py",
      "mimetype": "text/x-python",
      "name": "python",
      "nbconvert_exporter": "python",
      "pygments_lexer": "ipython3",
      "version": "3.7.6"
    },
    "toc": {
      "base_numbering": 1,
      "nav_menu": {},
      "number_sections": false,
      "sideBar": true,
      "skip_h1_title": false,
      "title_cell": "Table of Contents",
      "title_sidebar": "Contents",
      "toc_cell": false,
      "toc_position": {},
      "toc_section_display": true,
      "toc_window_display": false
    },
    "colab": {
      "name": "ch20-1_Data_Augmentation.ipynb",
      "provenance": [],
      "toc_visible": true,
      "include_colab_link": true
    }
  },
  "cells": [
    {
      "cell_type": "markdown",
      "metadata": {
        "id": "view-in-github",
        "colab_type": "text"
      },
      "source": [
        "<a href=\"https://colab.research.google.com/github/zzhining/deeplearning/blob/master/deeplearning/ilifo_class/ch20-1_Data_Augmentation.ipynb\" target=\"_parent\"><img src=\"https://colab.research.google.com/assets/colab-badge.svg\" alt=\"Open In Colab\"/></a>"
      ]
    },
    {
      "cell_type": "markdown",
      "metadata": {
        "id": "ex05WDApTJpx",
        "colab_type": "text"
      },
      "source": [
        "# 치매환자의 뇌인지 일반인의 뇌인지 예측"
      ]
    },
    {
      "cell_type": "code",
      "metadata": {
        "id": "V8SB3Tt5S8QD",
        "colab_type": "code",
        "colab": {}
      },
      "source": [
        "import tensorflow as tf\n",
        "import numpy as np\n",
        "import matplotlib.pyplot as plt\n",
        "\n",
        "from tensorflow.keras.models import Sequential\n",
        "from tensorflow.keras.layers import Dense, Activation, Dropout, Flatten, Dense, Conv2D, MaxPooling2D\n",
        "from tensorflow.keras.preprocessing.image import ImageDataGenerator\n",
        "from tensorflow.keras import optimizers, initializers, regularizers, metrics\n",
        "\n",
        "np.random.seed(3)\n",
        "tf.random.set_seed(3)"
      ],
      "execution_count": 1,
      "outputs": []
    },
    {
      "cell_type": "markdown",
      "metadata": {
        "id": "bBWf9iTdToBE",
        "colab_type": "text"
      },
      "source": [
        "### 1. 학습용 이미지 데이터의 수 확장(ImageDataGenerator)\n",
        " - rescale: 이미지 크기를 바꿈(0~1)\n",
        " - horizontal_flip, vertical_flip: 이미지를 수평 or 수직으로 뒤집음\n",
        " - zoom_range: 정해진 범위 안에서 축소 또는 확대\n",
        " - width_shift, height_shift: 정해진 범위 안에서 그림을 수평 또는 수직으로 랜덤하게 평행 이동\n",
        " - rotation_range: 정해진 각도만큼 이미지 회전\n",
        " - shear_range: 좌표 하나를 고정시키고, 다른 몇 개의 좌표를 이동시킴\n",
        " - fill_mode: 빈공간을 어떻게 채울지 결정(nearest옵션: 가장 비슷한 색으로 채워짐)"
      ]
    },
    {
      "cell_type": "code",
      "metadata": {
        "id": "xe_3vQ9uS8QG",
        "colab_type": "code",
        "colab": {}
      },
      "source": [
        "train_datagen = ImageDataGenerator(rescale=1./255,\n",
        "                                  horizontal_flip=True,     #수평 대칭 이미지를 50% 확률로 만들어 추가합니다.\n",
        "                                  width_shift_range=0.1,  #전체 크기의 10% 범위에서 좌우로 이동합니다.\n",
        "                                  height_shift_range=0.1, #마찬가지로 위, 아래로 이동합니다.\n",
        "                                  #rotation_range=5,\n",
        "                                  #shear_range=0.7,\n",
        "                                  #zoom_range=[0.9, 2.2],\n",
        "                                  #vertical_flip=True,\n",
        "                                  fill_mode='nearest') "
      ],
      "execution_count": 2,
      "outputs": []
    },
    {
      "cell_type": "code",
      "metadata": {
        "id": "qNSN6zm7VGn8",
        "colab_type": "code",
        "colab": {}
      },
      "source": [
        "# !unzip colab_train_test.zip"
      ],
      "execution_count": 3,
      "outputs": []
    },
    {
      "cell_type": "markdown",
      "metadata": {
        "id": "XnUvOI50WKal",
        "colab_type": "text"
      },
      "source": [
        "### 학습용 이미지 데이터 업로드(flow_from_directory)"
      ]
    },
    {
      "cell_type": "code",
      "metadata": {
        "id": "f4XMI66-S8QJ",
        "colab_type": "code",
        "colab": {
          "base_uri": "https://localhost:8080/",
          "height": 34
        },
        "outputId": "77075ac8-d2cd-4a93-8530-dd49118fe3ad"
      },
      "source": [
        "train_generator = train_datagen.flow_from_directory(\n",
        "       './train',   #학습셋이 있는 폴더의 위치입니다.\n",
        "       target_size=(150, 150),\n",
        "       batch_size=5,\n",
        "       class_mode='binary')"
      ],
      "execution_count": 4,
      "outputs": [
        {
          "output_type": "stream",
          "text": [
            "Found 160 images belonging to 2 classes.\n"
          ],
          "name": "stdout"
        }
      ]
    },
    {
      "cell_type": "markdown",
      "metadata": {
        "id": "jjDKL4QZWbvp",
        "colab_type": "text"
      },
      "source": [
        "### 테스트용 이미지 데이터 정규화(ImageDataGenerator)"
      ]
    },
    {
      "cell_type": "code",
      "metadata": {
        "id": "AJE0JpI6S8QL",
        "colab_type": "code",
        "colab": {}
      },
      "source": [
        "#테스트 셋은 이미지 부풀리기 과정을 진행하지 않습니다.\n",
        "test_datagen = ImageDataGenerator(rescale=1./255)  "
      ],
      "execution_count": 5,
      "outputs": []
    },
    {
      "cell_type": "markdown",
      "metadata": {
        "id": "N4kGkWHGW5zV",
        "colab_type": "text"
      },
      "source": [
        "### 테스트용 이미지 데이터 업로드(flow_from_directory)"
      ]
    },
    {
      "cell_type": "code",
      "metadata": {
        "id": "P9_OaqaJS8QN",
        "colab_type": "code",
        "colab": {
          "base_uri": "https://localhost:8080/",
          "height": 34
        },
        "outputId": "4c8f8457-ae1e-443d-bcd5-b1a0678b3ced"
      },
      "source": [
        "test_generator = test_datagen.flow_from_directory(\n",
        "       './test',   #테스트셋이 있는 폴더의 위치입니다.\n",
        "       target_size=(150, 150),\n",
        "       batch_size=5,\n",
        "       class_mode='binary')"
      ],
      "execution_count": 6,
      "outputs": [
        {
          "output_type": "stream",
          "text": [
            "Found 120 images belonging to 2 classes.\n"
          ],
          "name": "stdout"
        }
      ]
    },
    {
      "cell_type": "markdown",
      "metadata": {
        "id": "a0dF1OApXMb6",
        "colab_type": "text"
      },
      "source": [
        "## 모델 생성"
      ]
    },
    {
      "cell_type": "code",
      "metadata": {
        "id": "9BHbIZFxS8QP",
        "colab_type": "code",
        "colab": {}
      },
      "source": [
        "# 앞서 배운 CNN 모델을 만들어 적용해 보겠습니다.\n",
        "model = Sequential()\n",
        "model.add(Conv2D(32, (3, 3), input_shape=(150,150,3)))\n",
        "model.add(Activation('relu'))\n",
        "model.add(MaxPooling2D(pool_size=(2, 2)))\n",
        "\n",
        "model.add(Conv2D(32, (3, 3)))\n",
        "model.add(Activation('relu'))\n",
        "model.add(MaxPooling2D(pool_size=(2, 2)))\n",
        "\n",
        "model.add(Conv2D(64, (3, 3)))\n",
        "model.add(Activation('relu'))\n",
        "model.add(MaxPooling2D(pool_size=(2, 2)))\n",
        "\n",
        "model.add(Flatten())\n",
        "model.add(Dense(64))\n",
        "model.add(Activation('relu'))\n",
        "model.add(Dropout(0.5))\n",
        "model.add(Dense(2))\n",
        "model.add(Activation('sigmoid'))"
      ],
      "execution_count": 7,
      "outputs": []
    },
    {
      "cell_type": "markdown",
      "metadata": {
        "id": "pZ_FAHe0XStn",
        "colab_type": "text"
      },
      "source": [
        "## 모델 컴파일"
      ]
    },
    {
      "cell_type": "code",
      "metadata": {
        "id": "aZ1oQAP_S8QR",
        "colab_type": "code",
        "colab": {}
      },
      "source": [
        "#모델을 컴파일 합니다. \n",
        "model.compile(loss='sparse_categorical_crossentropy', optimizer=optimizers.Adam(learning_rate=0.0002), metrics=['accuracy'])"
      ],
      "execution_count": 8,
      "outputs": []
    },
    {
      "cell_type": "markdown",
      "metadata": {
        "id": "uDkHg2pIXVWE",
        "colab_type": "text"
      },
      "source": [
        "## 모델 실행"
      ]
    },
    {
      "cell_type": "code",
      "metadata": {
        "id": "le9TdkBxS8QU",
        "colab_type": "code",
        "colab": {
          "base_uri": "https://localhost:8080/",
          "height": 142
        },
        "outputId": "68d81acd-c17b-4fab-d97e-feee1e3a6719"
      },
      "source": [
        "#모델을 실행합니다\n",
        "history = model.fit_generator(\n",
        "       train_generator,\n",
        "       steps_per_epoch=100,\n",
        "       epochs=20,\n",
        "       validation_data=test_generator,\n",
        "       validation_steps=10)"
      ],
      "execution_count": 9,
      "outputs": [
        {
          "output_type": "stream",
          "text": [
            "WARNING:tensorflow:From <ipython-input-9-baef236411c8>:7: Model.fit_generator (from tensorflow.python.keras.engine.training) is deprecated and will be removed in a future version.\n",
            "Instructions for updating:\n",
            "Please use Model.fit, which supports generators.\n",
            "Epoch 1/20\n",
            " 32/100 [========>.....................] - ETA: 10s - loss: 0.6944 - accuracy: 0.5250WARNING:tensorflow:Your input ran out of data; interrupting training. Make sure that your dataset or generator can generate at least `steps_per_epoch * epochs` batches (in this case, 2000 batches). You may need to use the repeat() function when building your dataset.\n",
            " 32/100 [========>.....................] - 6s 175ms/step - loss: 0.6944 - accuracy: 0.5250 - val_loss: 0.6942 - val_accuracy: 0.4800\n"
          ],
          "name": "stdout"
        }
      ]
    },
    {
      "cell_type": "code",
      "metadata": {
        "id": "v03rbxkwS8QW",
        "colab_type": "code",
        "colab": {
          "base_uri": "https://localhost:8080/",
          "height": 279
        },
        "outputId": "429bb3ec-d4b3-4a1c-f472-191bae80588d"
      },
      "source": [
        "#결과를 그래프로 표현하는 부분입니다.\n",
        "acc= history.history['accuracy']\n",
        "val_acc= history.history['val_accuracy']\n",
        "y_vloss = history.history['val_loss']\n",
        "y_loss = history.history['loss']\n",
        "\n",
        "x_len = np.arange(len(y_loss))  \n",
        "plt.plot(x_len, acc, marker='.', c=\"red\", label='Trainset_acc')\n",
        "plt.plot(x_len, val_acc, marker='.', c=\"lightcoral\", label='Testset_acc')\n",
        "plt.plot(x_len, y_vloss, marker='.', c=\"cornflowerblue\", label='Testset_loss')\n",
        "plt.plot(x_len, y_loss, marker='.', c=\"blue\", label='Trainset_loss')\n",
        "\n",
        "plt.legend(loc='upper right') \n",
        "plt.grid()\n",
        "plt.xlabel('epoch')\n",
        "plt.ylabel('loss/acc')\n",
        "plt.show()"
      ],
      "execution_count": 11,
      "outputs": [
        {
          "output_type": "display_data",
          "data": {
            "image/png": "[encoded data removed]",
            "text/plain": [
              "<Figure size 432x288 with 1 Axes>"
            ]
          },
          "metadata": {
            "tags": [],
            "needs_background": "light"
          }
        }
      ]
    },
    {
      "cell_type": "code",
      "metadata": {
        "id": "PpgHB2SXS8QZ",
        "colab_type": "code",
        "colab": {}
      },
      "source": [
        ""
      ],
      "execution_count": 10,
      "outputs": []
    }
  ]
}