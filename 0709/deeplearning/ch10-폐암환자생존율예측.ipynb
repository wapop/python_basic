{
 "cells": [
  {
   "cell_type": "markdown",
   "metadata": {},
   "source": [
    "ThoraricSurgery.csv\n",
    "- 폴란드 브로츠와프 의과대학에서 2013년 공개한 폐암 수술 환자의  \n",
    " 수술 전 진단 데이터와 수술 후 생존 결과를 기록한 실제 의료 기록 데이터\n",
    " \n",
    " \n",
    " \n",
    "- 1~17 : 종양의 유형, 폐활량, 호흡관란여부, 고통정도, 기침, 흡연, 천식 여부 등\n",
    "- 18: 수술 후 생존 결과(1: 생존, 0: 사망)"
   ]
  },
  {
   "cell_type": "code",
   "execution_count": 9,
   "metadata": {},
   "outputs": [],
   "source": [
    "# 딥러닝을 구동하는 데 필요한 케라스 함수를 불러옵니다.\n",
    "from tensorflow.keras.models import Sequential\n",
    "from tensorflow.keras.layers import Dense\n",
    "\n",
    "# 필요한 라이브러리를 불러옵니다.\n",
    "import numpy as np\n",
    "import tensorflow as tf\n",
    "\n",
    "# 실행할 때마다 같은 결과를 출력하기 위해 설정하는 부분입니다.\n",
    "np.random.seed(3)\n",
    "tf.random.set_seed(3)"
   ]
  },
  {
   "cell_type": "markdown",
   "metadata": {},
   "source": [
    "## 1.  데이터 읽어오기"
   ]
  },
  {
   "cell_type": "code",
   "execution_count": null,
   "metadata": {},
   "outputs": [],
   "source": [
    "# ./dataset/ThoraricSurgery.csv에서 .은 내 주피터경로,,, 바깥이면 .. 두개"
   ]
  },
  {
   "cell_type": "code",
   "execution_count": 13,
   "metadata": {},
   "outputs": [],
   "source": [
    "# 준비된 수술 환자 데이터를 불러들입니다.\n",
    "Data_set = np.loadtxt(\"./dataset/ThoraricSurgery.csv\", delimiter=\",\")"
   ]
  },
  {
   "cell_type": "code",
   "execution_count": 14,
   "metadata": {},
   "outputs": [
    {
     "data": {
      "text/plain": [
       "array([[293.  ,   1.  ,   3.8 , ...,   0.  ,  62.  ,   0.  ],\n",
       "       [  1.  ,   2.  ,   2.88, ...,   0.  ,  60.  ,   0.  ],\n",
       "       [  8.  ,   2.  ,   3.19, ...,   0.  ,  66.  ,   1.  ],\n",
       "       ...,\n",
       "       [406.  ,   6.  ,   5.36, ...,   0.  ,  62.  ,   0.  ],\n",
       "       [ 25.  ,   8.  ,   4.32, ...,   0.  ,  58.  ,   1.  ],\n",
       "       [447.  ,   8.  ,   5.2 , ...,   0.  ,  49.  ,   0.  ]])"
      ]
     },
     "execution_count": 14,
     "metadata": {},
     "output_type": "execute_result"
    }
   ],
   "source": [
    "Data_set"
   ]
  },
  {
   "cell_type": "code",
   "execution_count": null,
   "metadata": {},
   "outputs": [],
   "source": [
    "# 데이터프레임으로 읽어오기\n",
    "\n",
    "# import pandas as pd\n",
    "# Data_set = pd.read_csv(\"../dataset/ThoraricSurgery.csv\", header = None)\n",
    "# dataArray = Data_set.values\n",
    "# X = dataArray[:,0:17].astype(float)\n",
    "# Y = dataArray[:,17].astype(float)"
   ]
  },
  {
   "cell_type": "markdown",
   "metadata": {},
   "source": [
    "## 2.  데이터 전처리"
   ]
  },
  {
   "cell_type": "code",
   "execution_count": 16,
   "metadata": {},
   "outputs": [],
   "source": [
    "# 환자의 기록과 수술 결과를 X와 Y로 구분하여 저장합니다.\n",
    "X = Data_set[:,0:17]\n",
    "Y = Data_set[:,17]"
   ]
  },
  {
   "cell_type": "markdown",
   "metadata": {},
   "source": [
    "## 3. 모델 설계"
   ]
  },
  {
   "cell_type": "code",
   "execution_count": 18,
   "metadata": {},
   "outputs": [],
   "source": [
    "# 딥러닝 구조를 결정합니다(모델을 설정하고 실행하는 부분입니다).\n",
    "model = Sequential()\n",
    "\n",
    "# 입력데이터 17개의 값을 받아 은닉층 30개 노드로 보낸다\n",
    "# 입력층은 같이 만들어서 함\n",
    "model.add(Dense(30, input_dim=17, activation='relu'))\n",
    "model.add(Dense(1, activation='sigmoid'))"
   ]
  },
  {
   "cell_type": "markdown",
   "metadata": {},
   "source": [
    "## 4. 모델 컴파일"
   ]
  },
  {
   "cell_type": "code",
   "execution_count": 19,
   "metadata": {},
   "outputs": [],
   "source": [
    "# 딥러닝을 실행합니다.\n",
    "model.compile(loss='mean_squared_error', optimizer='adam', metrics=['accuracy'])"
   ]
  },
  {
   "cell_type": "markdown",
   "metadata": {},
   "source": [
    "## 5. 학습"
   ]
  },
  {
   "cell_type": "code",
   "execution_count": 20,
   "metadata": {},
   "outputs": [
    {
     "name": "stdout",
     "output_type": "stream",
     "text": [
      "Epoch 1/100\n",
      "47/47 [==============================] - 0s 2ms/step - loss: 0.1485 - accuracy: 0.8426\n",
      "Epoch 2/100\n",
      "47/47 [==============================] - 0s 2ms/step - loss: 0.1402 - accuracy: 0.8511\n",
      "Epoch 3/100\n",
      "47/47 [==============================] - 0s 2ms/step - loss: 0.1433 - accuracy: 0.8489\n",
      "Epoch 4/100\n",
      "47/47 [==============================] - 0s 2ms/step - loss: 0.1395 - accuracy: 0.8511\n",
      "Epoch 5/100\n",
      "47/47 [==============================] - 0s 2ms/step - loss: 0.1386 - accuracy: 0.8468\n",
      "Epoch 6/100\n",
      "47/47 [==============================] - 0s 2ms/step - loss: 0.1408 - accuracy: 0.8511\n",
      "Epoch 7/100\n",
      "47/47 [==============================] - 0s 2ms/step - loss: 0.1335 - accuracy: 0.8489\n",
      "Epoch 8/100\n",
      "47/47 [==============================] - 0s 2ms/step - loss: 0.1385 - accuracy: 0.8511\n",
      "Epoch 9/100\n",
      "47/47 [==============================] - 0s 2ms/step - loss: 0.1379 - accuracy: 0.8383\n",
      "Epoch 10/100\n",
      "47/47 [==============================] - 0s 2ms/step - loss: 0.1437 - accuracy: 0.8447\n",
      "Epoch 11/100\n",
      "47/47 [==============================] - 0s 2ms/step - loss: 0.1405 - accuracy: 0.8511\n",
      "Epoch 12/100\n",
      "47/47 [==============================] - 0s 2ms/step - loss: 0.1361 - accuracy: 0.8489\n",
      "Epoch 13/100\n",
      "47/47 [==============================] - 0s 2ms/step - loss: 0.1351 - accuracy: 0.8511\n",
      "Epoch 14/100\n",
      "47/47 [==============================] - 0s 2ms/step - loss: 0.1382 - accuracy: 0.8489\n",
      "Epoch 15/100\n",
      "47/47 [==============================] - 0s 2ms/step - loss: 0.1368 - accuracy: 0.8404\n",
      "Epoch 16/100\n",
      "47/47 [==============================] - 0s 2ms/step - loss: 0.1448 - accuracy: 0.8511\n",
      "Epoch 17/100\n",
      "47/47 [==============================] - 0s 2ms/step - loss: 0.1430 - accuracy: 0.8511\n",
      "Epoch 18/100\n",
      "47/47 [==============================] - 0s 2ms/step - loss: 0.1422 - accuracy: 0.8511\n",
      "Epoch 19/100\n",
      "47/47 [==============================] - 0s 2ms/step - loss: 0.1415 - accuracy: 0.8511\n",
      "Epoch 20/100\n",
      "47/47 [==============================] - 0s 2ms/step - loss: 0.1406 - accuracy: 0.8511\n",
      "Epoch 21/100\n",
      "47/47 [==============================] - 0s 2ms/step - loss: 0.1398 - accuracy: 0.8489\n",
      "Epoch 22/100\n",
      "47/47 [==============================] - 0s 2ms/step - loss: 0.1364 - accuracy: 0.8489\n",
      "Epoch 23/100\n",
      "47/47 [==============================] - 0s 2ms/step - loss: 0.1386 - accuracy: 0.8489\n",
      "Epoch 24/100\n",
      "47/47 [==============================] - 0s 2ms/step - loss: 0.1337 - accuracy: 0.8468\n",
      "Epoch 25/100\n",
      "47/47 [==============================] - 0s 2ms/step - loss: 0.1328 - accuracy: 0.8468\n",
      "Epoch 26/100\n",
      "47/47 [==============================] - 0s 2ms/step - loss: 0.1351 - accuracy: 0.8511\n",
      "Epoch 27/100\n",
      "47/47 [==============================] - 0s 2ms/step - loss: 0.1335 - accuracy: 0.8468\n",
      "Epoch 28/100\n",
      "47/47 [==============================] - 0s 2ms/step - loss: 0.1349 - accuracy: 0.8532\n",
      "Epoch 29/100\n",
      "47/47 [==============================] - 0s 2ms/step - loss: 0.1303 - accuracy: 0.8489\n",
      "Epoch 30/100\n",
      "47/47 [==============================] - 0s 2ms/step - loss: 0.1346 - accuracy: 0.8511\n",
      "Epoch 31/100\n",
      "47/47 [==============================] - 0s 2ms/step - loss: 0.1449 - accuracy: 0.8489\n",
      "Epoch 32/100\n",
      "47/47 [==============================] - 0s 2ms/step - loss: 0.1363 - accuracy: 0.8511\n",
      "Epoch 33/100\n",
      "47/47 [==============================] - 0s 2ms/step - loss: 0.1320 - accuracy: 0.8511\n",
      "Epoch 34/100\n",
      "47/47 [==============================] - 0s 2ms/step - loss: 0.1308 - accuracy: 0.8489\n",
      "Epoch 35/100\n",
      "47/47 [==============================] - 0s 2ms/step - loss: 0.1374 - accuracy: 0.8511\n",
      "Epoch 36/100\n",
      "47/47 [==============================] - 0s 2ms/step - loss: 0.1319 - accuracy: 0.8447\n",
      "Epoch 37/100\n",
      "47/47 [==============================] - 0s 2ms/step - loss: 0.1404 - accuracy: 0.8468\n",
      "Epoch 38/100\n",
      "47/47 [==============================] - 0s 2ms/step - loss: 0.1358 - accuracy: 0.8489\n",
      "Epoch 39/100\n",
      "47/47 [==============================] - 0s 2ms/step - loss: 0.1270 - accuracy: 0.8511\n",
      "Epoch 40/100\n",
      "47/47 [==============================] - 0s 2ms/step - loss: 0.1301 - accuracy: 0.8553\n",
      "Epoch 41/100\n",
      "47/47 [==============================] - 0s 2ms/step - loss: 0.1306 - accuracy: 0.8553\n",
      "Epoch 42/100\n",
      "47/47 [==============================] - 0s 2ms/step - loss: 0.1418 - accuracy: 0.8532\n",
      "Epoch 43/100\n",
      "47/47 [==============================] - 0s 2ms/step - loss: 0.1384 - accuracy: 0.8511\n",
      "Epoch 44/100\n",
      "47/47 [==============================] - 0s 2ms/step - loss: 0.1374 - accuracy: 0.8511\n",
      "Epoch 45/100\n",
      "47/47 [==============================] - 0s 2ms/step - loss: 0.1352 - accuracy: 0.8553\n",
      "Epoch 46/100\n",
      "47/47 [==============================] - 0s 2ms/step - loss: 0.1310 - accuracy: 0.8447\n",
      "Epoch 47/100\n",
      "47/47 [==============================] - 0s 2ms/step - loss: 0.1281 - accuracy: 0.8532\n",
      "Epoch 48/100\n",
      "47/47 [==============================] - 0s 2ms/step - loss: 0.1251 - accuracy: 0.8489\n",
      "Epoch 49/100\n",
      "47/47 [==============================] - 0s 2ms/step - loss: 0.1294 - accuracy: 0.8553\n",
      "Epoch 50/100\n",
      "47/47 [==============================] - 0s 2ms/step - loss: 0.1294 - accuracy: 0.8511\n",
      "Epoch 51/100\n",
      "47/47 [==============================] - 0s 2ms/step - loss: 0.1257 - accuracy: 0.8532\n",
      "Epoch 52/100\n",
      "47/47 [==============================] - 0s 2ms/step - loss: 0.1271 - accuracy: 0.8489\n",
      "Epoch 53/100\n",
      "47/47 [==============================] - 0s 2ms/step - loss: 0.1366 - accuracy: 0.8532\n",
      "Epoch 54/100\n",
      "47/47 [==============================] - 0s 1ms/step - loss: 0.1313 - accuracy: 0.8553\n",
      "Epoch 55/100\n",
      "47/47 [==============================] - 0s 2ms/step - loss: 0.1288 - accuracy: 0.8553\n",
      "Epoch 56/100\n",
      "47/47 [==============================] - 0s 2ms/step - loss: 0.1249 - accuracy: 0.8553\n",
      "Epoch 57/100\n",
      "47/47 [==============================] - 0s 2ms/step - loss: 0.1242 - accuracy: 0.8553\n",
      "Epoch 58/100\n",
      "47/47 [==============================] - 0s 2ms/step - loss: 0.1361 - accuracy: 0.8468\n",
      "Epoch 59/100\n",
      "47/47 [==============================] - 0s 2ms/step - loss: 0.1386 - accuracy: 0.8511\n",
      "Epoch 60/100\n",
      "47/47 [==============================] - 0s 2ms/step - loss: 0.1284 - accuracy: 0.8532\n",
      "Epoch 61/100\n",
      "47/47 [==============================] - 0s 2ms/step - loss: 0.1358 - accuracy: 0.8489\n",
      "Epoch 62/100\n",
      "47/47 [==============================] - 0s 2ms/step - loss: 0.1252 - accuracy: 0.8468\n",
      "Epoch 63/100\n",
      "47/47 [==============================] - 0s 2ms/step - loss: 0.1264 - accuracy: 0.8511\n",
      "Epoch 64/100\n",
      "47/47 [==============================] - 0s 2ms/step - loss: 0.1325 - accuracy: 0.8553\n",
      "Epoch 65/100\n",
      "47/47 [==============================] - 0s 2ms/step - loss: 0.1213 - accuracy: 0.8532\n",
      "Epoch 66/100\n",
      "47/47 [==============================] - 0s 2ms/step - loss: 0.1295 - accuracy: 0.8468\n",
      "Epoch 67/100\n",
      "47/47 [==============================] - 0s 2ms/step - loss: 0.1247 - accuracy: 0.8532\n",
      "Epoch 68/100\n",
      "47/47 [==============================] - 0s 2ms/step - loss: 0.1278 - accuracy: 0.8553\n",
      "Epoch 69/100\n",
      "47/47 [==============================] - 0s 2ms/step - loss: 0.1372 - accuracy: 0.8511\n",
      "Epoch 70/100\n",
      "47/47 [==============================] - 0s 2ms/step - loss: 0.1311 - accuracy: 0.8574\n",
      "Epoch 71/100\n",
      "47/47 [==============================] - 0s 2ms/step - loss: 0.1304 - accuracy: 0.8340\n",
      "Epoch 72/100\n",
      "47/47 [==============================] - 0s 2ms/step - loss: 0.1262 - accuracy: 0.8489\n",
      "Epoch 73/100\n",
      "47/47 [==============================] - 0s 2ms/step - loss: 0.1359 - accuracy: 0.8532\n",
      "Epoch 74/100\n",
      "47/47 [==============================] - 0s 2ms/step - loss: 0.1318 - accuracy: 0.8553\n",
      "Epoch 75/100\n",
      "47/47 [==============================] - 0s 2ms/step - loss: 0.1286 - accuracy: 0.8489\n",
      "Epoch 76/100\n",
      "47/47 [==============================] - 0s 2ms/step - loss: 0.1374 - accuracy: 0.8532\n",
      "Epoch 77/100\n",
      "47/47 [==============================] - 0s 2ms/step - loss: 0.1300 - accuracy: 0.8574\n",
      "Epoch 78/100\n",
      "47/47 [==============================] - 0s 2ms/step - loss: 0.1254 - accuracy: 0.8574\n",
      "Epoch 79/100\n",
      "47/47 [==============================] - 0s 2ms/step - loss: 0.1219 - accuracy: 0.8596\n",
      "Epoch 80/100\n",
      "47/47 [==============================] - 0s 2ms/step - loss: 0.1246 - accuracy: 0.8489\n",
      "Epoch 81/100\n",
      "47/47 [==============================] - 0s 2ms/step - loss: 0.1295 - accuracy: 0.8574: 0s - loss: 0.1170 - accuracy: 0.86\n",
      "Epoch 82/100\n"
     ]
    },
    {
     "name": "stdout",
     "output_type": "stream",
     "text": [
      "47/47 [==============================] - 0s 2ms/step - loss: 0.1228 - accuracy: 0.8596\n",
      "Epoch 83/100\n",
      "47/47 [==============================] - 0s 2ms/step - loss: 0.1249 - accuracy: 0.8574\n",
      "Epoch 84/100\n",
      "47/47 [==============================] - 0s 2ms/step - loss: 0.1357 - accuracy: 0.8383\n",
      "Epoch 85/100\n",
      "47/47 [==============================] - 0s 2ms/step - loss: 0.1359 - accuracy: 0.8511\n",
      "Epoch 86/100\n",
      "47/47 [==============================] - 0s 2ms/step - loss: 0.1295 - accuracy: 0.8553\n",
      "Epoch 87/100\n",
      "47/47 [==============================] - 0s 2ms/step - loss: 0.1252 - accuracy: 0.8596\n",
      "Epoch 88/100\n",
      "47/47 [==============================] - 0s 2ms/step - loss: 0.1261 - accuracy: 0.8553\n",
      "Epoch 89/100\n",
      "47/47 [==============================] - 0s 2ms/step - loss: 0.1273 - accuracy: 0.8596\n",
      "Epoch 90/100\n",
      "47/47 [==============================] - 0s 2ms/step - loss: 0.1312 - accuracy: 0.8553\n",
      "Epoch 91/100\n",
      "47/47 [==============================] - 0s 2ms/step - loss: 0.1260 - accuracy: 0.8532\n",
      "Epoch 92/100\n",
      "47/47 [==============================] - 0s 2ms/step - loss: 0.1299 - accuracy: 0.8574\n",
      "Epoch 93/100\n",
      "47/47 [==============================] - 0s 2ms/step - loss: 0.1225 - accuracy: 0.8532\n",
      "Epoch 94/100\n",
      "47/47 [==============================] - 0s 2ms/step - loss: 0.1232 - accuracy: 0.8553\n",
      "Epoch 95/100\n",
      "47/47 [==============================] - 0s 2ms/step - loss: 0.1228 - accuracy: 0.8596\n",
      "Epoch 96/100\n",
      "47/47 [==============================] - 0s 2ms/step - loss: 0.1315 - accuracy: 0.8489\n",
      "Epoch 97/100\n",
      "47/47 [==============================] - 0s 2ms/step - loss: 0.1246 - accuracy: 0.8617\n",
      "Epoch 98/100\n",
      "47/47 [==============================] - 0s 2ms/step - loss: 0.1330 - accuracy: 0.8447\n",
      "Epoch 99/100\n",
      "47/47 [==============================] - 0s 2ms/step - loss: 0.1314 - accuracy: 0.8617\n",
      "Epoch 100/100\n",
      "47/47 [==============================] - 0s 2ms/step - loss: 0.1173 - accuracy: 0.8617\n"
     ]
    },
    {
     "data": {
      "text/plain": [
       "<tensorflow.python.keras.callbacks.History at 0x1d039b3d288>"
      ]
     },
     "execution_count": 20,
     "metadata": {},
     "output_type": "execute_result"
    }
   ],
   "source": [
    "# epoch= 100: 샘플이 처음부터 끝까지 100번 재사용될 때까지 실행을 반복\n",
    "# batch_size = 10: 전체 470개 샘플을 10개씩 끊어서 집어넣기\n",
    "model.fit(X, Y, epochs=100, batch_size=10)"
   ]
  },
  {
   "cell_type": "code",
   "execution_count": null,
   "metadata": {},
   "outputs": [],
   "source": [
    "model.summary()"
   ]
  },
  {
   "cell_type": "code",
   "execution_count": null,
   "metadata": {},
   "outputs": [],
   "source": []
  }
 ],
 "metadata": {
  "kernelspec": {
   "display_name": "Python 3",
   "language": "python",
   "name": "python3"
  },
  "language_info": {
   "codemirror_mode": {
    "name": "ipython",
    "version": 3
   },
   "file_extension": ".py",
   "mimetype": "text/x-python",
   "name": "python",
   "nbconvert_exporter": "python",
   "pygments_lexer": "ipython3",
   "version": "3.7.6"
  },
  "toc": {
   "base_numbering": 1,
   "nav_menu": {},
   "number_sections": false,
   "sideBar": true,
   "skip_h1_title": false,
   "title_cell": "Table of Contents",
   "title_sidebar": "Contents",
   "toc_cell": false,
   "toc_position": {},
   "toc_section_display": true,
   "toc_window_display": true
  }
 },
 "nbformat": 4,
 "nbformat_minor": 2
}
