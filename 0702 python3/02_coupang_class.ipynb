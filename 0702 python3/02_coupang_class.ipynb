{
 "cells": [
  {
   "cell_type": "markdown",
   "metadata": {},
   "source": [
    "# 웹 크롤링(2)\n",
    "크롤링 사이트: https://www.coupang.com\n",
    "\n",
    "## 크롤링 절차\n",
    "1. 사이트의 html을 읽어들이기: requests.get(url) 사용\n",
    "    * http://www.useragentstring.com/\n",
    "    \n",
    "    \n",
    "    \n",
    "2. 텍스트 형태의 데이터를 html 태그별로 구분하여 파싱하기 : BeutifulSoup\n",
    "\n",
    "3. 특정 태그값만 찾기 : findAll, find\n",
    "\n",
    "4. 필요한 데이터값 정제하기\n",
    "\n",
    "5. 데이터 저장하기\n"
   ]
  },
  {
   "cell_type": "code",
   "execution_count": 185,
   "metadata": {},
   "outputs": [],
   "source": [
    "from bs4 import BeautifulSoup\n",
    "import csv\n",
    "import requests\n",
    "# request는 내컴퓨터에서 url을 서버로 요청한다.\n",
    "# html이 너무 복잡하니 파싱해주는게 beau/soup\n",
    "import pandas as pd"
   ]
  },
  {
   "cell_type": "code",
   "execution_count": null,
   "metadata": {},
   "outputs": [],
   "source": []
  },
  {
   "cell_type": "code",
   "execution_count": 186,
   "metadata": {},
   "outputs": [],
   "source": [
    "product_name = '김치'\n",
    "# https://www.coupang.com/np/search?component=&q=김치&channel=user\n",
    "# &: get방식, q:quary\n",
    "url = f\"https://www.coupang.com/np/search?component=&q={product_name}&channel=user\""
   ]
  },
  {
   "cell_type": "code",
   "execution_count": null,
   "metadata": {},
   "outputs": [],
   "source": []
  },
  {
   "cell_type": "code",
   "execution_count": 173,
   "metadata": {},
   "outputs": [],
   "source": [
    "# BeautifulSoup을 활용하여 데이터 파싱\n",
    "#그냥 response.text는 복잡하니 parser 사용\n",
    "soup = BeautifulSoup(response.text, \"html.parser\")\n",
    "# print(soup)"
   ]
  },
  {
   "cell_type": "code",
   "execution_count": 174,
   "metadata": {},
   "outputs": [
    {
     "data": {
      "text/plain": [
       "[<div class=\"name\">종가집 [종가집공식판매몰] 행복이온포기김치10kg, 1개</div>,\n",
       " <div class=\"name\">친정김치 배추김치 5kg 10kg, 1개</div>,\n",
       " <div class=\"name\">비비고 썰은배추김치, 1.8kg, 1개</div>,\n",
       " <div class=\"name\">종가집 포기김치, 4kg, 1개</div>,\n",
       " <div class=\"name\">곰곰 국내산 포기 김치, 4kg, 1개</div>,\n",
       " <div class=\"name\">푸드파이터 맛있고 간편한 푸파 생 썰은김치 10kg, 1box</div>,\n",
       " <div class=\"name\">청원김치 청원 포기김치 국산 HACCP 인증 시원하고 깊은맛, 10kg, 1개</div>,\n",
       " <div class=\"name\">곰곰 배추 김치, 10kg, 1개</div>,\n",
       " <div class=\"name\">곰곰 국내산 열무 김치, 1kg, 1개</div>,\n",
       " <div class=\"name\">국내산 재료 100% 천하일미 송가네 여수 돌산 갓김치 4kg+갓물김치 1kg, 01_갓김치(4kg)+갓물김치(1kg)</div>,\n",
       " <div class=\"name\">곰곰 국내산 썰은 배추 김치, 1.8kg, 1개</div>,\n",
       " <div class=\"name\">곰곰 썰은 배추김치, 10kg, 1개</div>,\n",
       " <div class=\"name\">종가집 썰어담은 맛김치, 1.7kg, 1봉</div>,\n",
       " <div class=\"name\">종가집 맛김치, 1kg, 1개</div>,\n",
       " <div class=\"name\">곰곰 열무를 넣은 총각 김치, 1.3kg, 1개</div>,\n",
       " <div class=\"name\">종가집 전라도 포기김치, 3.3kg, 1개</div>,\n",
       " <div class=\"name\">곰곰 국내산 썰은 배추 김치, 1kg, 1개</div>,\n",
       " <div class=\"name\">풀무원 톡톡 포기김치, 4kg, 1개</div>,\n",
       " <div class=\"name\">비비고 김장김치처럼 시원한 포기김치, 3kg, 1개</div>,\n",
       " <div class=\"name\">곰곰 백김치, 1kg, 1개</div>,\n",
       " <div class=\"name\">비비고 총각김치, 1.5kg, 1개</div>,\n",
       " <div class=\"name\">조은해남 전라도 배추김치 5kg 10kg HACCP인증 일반상품, 1박스</div>,\n",
       " <div class=\"name\">비비고 묵은지, 900g, 1개</div>,\n",
       " <div class=\"name\">곰곰 국내산 열무 김치, 1.5kg, 1개</div>,\n",
       " <div class=\"name\">풀무원 톡톡 전라도식 썰은김치, 900g, 1개</div>,\n",
       " <div class=\"name\">양반 자연을 담그다 썰은김치, 80g, 10개</div>,\n",
       " <div class=\"name\">모산 장군차포기김치, 2.5kg, 1개</div>,\n",
       " <div class=\"name\">곰곰 국내산 총각 김치, 1.5kg, 1개</div>,\n",
       " <div class=\"name\">진경 배추김치, 10kg, 1봉</div>,\n",
       " <div class=\"name\">장군차김치 진경 맛김치, 4.5kg, 1개</div>,\n",
       " <div class=\"name\">곰곰 국내산 총각 김치, 2.5kg, 1개</div>,\n",
       " <div class=\"name\">친정김치 배추김치 5kg 10kg, 1개</div>,\n",
       " <div class=\"name\">비비고 포기배추김치, 4.9kg, 1개</div>,\n",
       " <div class=\"name\">양반 자연을 담그다 썰은김치, 500g, 2개</div>,\n",
       " <div class=\"name\">모산 장군차포기김치, 4.5kg, 1개</div>,\n",
       " <div class=\"name\">장군차김치 모산 장군차 포기김치, 1.5kg, 1개</div>,\n",
       " <div class=\"name\">비비고 열무를 넣어 아삭한 총각김치, 1.3kg, 1개</div>]"
      ]
     },
     "execution_count": 174,
     "metadata": {},
     "output_type": "execute_result"
    }
   ],
   "source": [
    "#상품명\n",
    "# <div class=\"name\">비비고 썰은배추김치, 1.8kg, 1개</div>\n",
    "names = soup.findAll('div', {'class':'name'})\n",
    "names\n",
    "# 'div', {'class':'name'}: 이건 홈페이지에서 화살표 표시에서 찾은 부분"
   ]
  },
  {
   "cell_type": "code",
   "execution_count": 175,
   "metadata": {},
   "outputs": [
    {
     "name": "stdout",
     "output_type": "stream",
     "text": [
      "종가집 [종가집공식판매몰] 행복이온포기김치10kg, 1개\n",
      "친정김치 배추김치 5kg 10kg, 1개\n",
      "비비고 썰은배추김치, 1.8kg, 1개\n",
      "종가집 포기김치, 4kg, 1개\n",
      "곰곰 국내산 포기 김치, 4kg, 1개\n",
      "푸드파이터 맛있고 간편한 푸파 생 썰은김치 10kg, 1box\n",
      "청원김치 청원 포기김치 국산 HACCP 인증 시원하고 깊은맛, 10kg, 1개\n",
      "곰곰 배추 김치, 10kg, 1개\n",
      "곰곰 국내산 열무 김치, 1kg, 1개\n",
      "국내산 재료 100% 천하일미 송가네 여수 돌산 갓김치 4kg+갓물김치 1kg, 01_갓김치(4kg)+갓물김치(1kg)\n",
      "곰곰 국내산 썰은 배추 김치, 1.8kg, 1개\n",
      "곰곰 썰은 배추김치, 10kg, 1개\n",
      "종가집 썰어담은 맛김치, 1.7kg, 1봉\n",
      "종가집 맛김치, 1kg, 1개\n",
      "곰곰 열무를 넣은 총각 김치, 1.3kg, 1개\n",
      "종가집 전라도 포기김치, 3.3kg, 1개\n",
      "곰곰 국내산 썰은 배추 김치, 1kg, 1개\n",
      "풀무원 톡톡 포기김치, 4kg, 1개\n",
      "비비고 김장김치처럼 시원한 포기김치, 3kg, 1개\n",
      "곰곰 백김치, 1kg, 1개\n",
      "비비고 총각김치, 1.5kg, 1개\n",
      "조은해남 전라도 배추김치 5kg 10kg HACCP인증 일반상품, 1박스\n",
      "비비고 묵은지, 900g, 1개\n",
      "곰곰 국내산 열무 김치, 1.5kg, 1개\n",
      "풀무원 톡톡 전라도식 썰은김치, 900g, 1개\n",
      "양반 자연을 담그다 썰은김치, 80g, 10개\n",
      "모산 장군차포기김치, 2.5kg, 1개\n",
      "곰곰 국내산 총각 김치, 1.5kg, 1개\n",
      "진경 배추김치, 10kg, 1봉\n",
      "장군차김치 진경 맛김치, 4.5kg, 1개\n",
      "곰곰 국내산 총각 김치, 2.5kg, 1개\n",
      "친정김치 배추김치 5kg 10kg, 1개\n",
      "비비고 포기배추김치, 4.9kg, 1개\n",
      "양반 자연을 담그다 썰은김치, 500g, 2개\n",
      "모산 장군차포기김치, 4.5kg, 1개\n",
      "장군차김치 모산 장군차 포기김치, 1.5kg, 1개\n",
      "비비고 열무를 넣어 아삭한 총각김치, 1.3kg, 1개\n"
     ]
    }
   ],
   "source": [
    "product_name = []\n",
    "for item in names :\n",
    "    print(item.text)    \n",
    "    product_name.append(item.text)"
   ]
  },
  {
   "cell_type": "code",
   "execution_count": null,
   "metadata": {},
   "outputs": [],
   "source": []
  },
  {
   "cell_type": "code",
   "execution_count": 176,
   "metadata": {},
   "outputs": [],
   "source": [
    "# <div class=\"price\">  <span class=\"price-info\">  <span class=\"instant-discount-rate\">6%</span>   <del class=\"base-price\">14,900</del>  </span> <em class=\"sale \"> <strong class=\"price-value\">13,890</strong>원   <span class=\"badge rocket\"> <img src=\"//image6.coupangcdn.com/image/badges/falcon/v1/web/rocket-fresh@2x.png\" height=\"16\" alt=\"로켓배송\">  </span>  </em>   <span class=\"unit-price\">(<em>100</em>g당 <em>772</em>원) </span>  </div>\n",
    "# <strong class=\"price-value\">13,890</strong>원 \n",
    "prices = soup.findAll('strong', {'class':'price-value'})\n",
    "\n",
    "# for item in prices :\n",
    "#     print(item.text)"
   ]
  },
  {
   "cell_type": "code",
   "execution_count": 177,
   "metadata": {},
   "outputs": [],
   "source": [
    "name_list = []\n",
    "price_list = []"
   ]
  },
  {
   "cell_type": "code",
   "execution_count": 178,
   "metadata": {},
   "outputs": [],
   "source": [
    "# 광고 데이터(i=0일때)는 가격이 나오지 않으므로 리스트 생성 시, 제외\n",
    "i = 0\n",
    "for item in names :\n",
    "    if(i > 0) : \n",
    "        name_list.append(item.text)        \n",
    "    i = i + 1\n",
    "    \n",
    "for item in prices :\n",
    "    price_list.append(item.text)"
   ]
  },
  {
   "cell_type": "code",
   "execution_count": 179,
   "metadata": {
    "scrolled": false
   },
   "outputs": [],
   "source": [
    "result_file_name = \"coupang_kimch.csv\"\n",
    "for k in range(len(price_list)) :\n",
    "#     print(\"*상품명 : \", name_list[k+1], \",    *가격 : \",price_list[k])\n",
    "    result = pd.DataFrame(data={'상품명' : name_list, '가격' : price_list})\n",
    "    result.to_csv(result_file_name, header = False, index = False, encoding='utf-8-sig')"
   ]
  },
  {
   "cell_type": "code",
   "execution_count": 180,
   "metadata": {},
   "outputs": [],
   "source": [
    "## (실습1) 쿠팡 케이스별로 크롤링 하는 경우\n",
    "product_name = '종가집 김치'\n",
    "page_no=1\n",
    "min_price=20000\n",
    "max_price=40000\n",
    "\n",
    "result_file_name ='쿠팡_result_2'\n",
    "\n",
    "url = f\"https://www.coupang.com/np/search?component=&q={product_name}&channel=user&page={page_no}&minPrice={min_price}&maxPrice={max_price}\""
   ]
  },
  {
   "cell_type": "markdown",
   "metadata": {},
   "source": [
    "## 연습문제\n",
    "\n",
    "- 쿠팡 웹 크롤링한 데이터를 csv 형태로 저장하기\n",
    "- 가격순으로 정렬하기\n",
    "- 가장 높은 가격의 제품명(타이틀) 찾아보기\n",
    "- 가장 낮은 가격의 제품명(타이틀) 찾아보기\n",
    "- 평균가격보다 높은 데이터 찾아보기\n",
    "- 평균가격보다 높은 데이터 찾아보기"
   ]
  },
  {
   "cell_type": "code",
   "execution_count": 181,
   "metadata": {},
   "outputs": [
    {
     "data": {
      "text/html": [
       "<div>\n",
       "<style scoped>\n",
       "    .dataframe tbody tr th:only-of-type {\n",
       "        vertical-align: middle;\n",
       "    }\n",
       "\n",
       "    .dataframe tbody tr th {\n",
       "        vertical-align: top;\n",
       "    }\n",
       "\n",
       "    .dataframe thead th {\n",
       "        text-align: right;\n",
       "    }\n",
       "</style>\n",
       "<table border=\"1\" class=\"dataframe\">\n",
       "  <thead>\n",
       "    <tr style=\"text-align: right;\">\n",
       "      <th></th>\n",
       "      <th>name</th>\n",
       "      <th>price</th>\n",
       "    </tr>\n",
       "  </thead>\n",
       "  <tbody>\n",
       "    <tr>\n",
       "      <th>0</th>\n",
       "      <td>친정김치 배추김치 5kg 10kg, 1개</td>\n",
       "      <td>19,900</td>\n",
       "    </tr>\n",
       "    <tr>\n",
       "      <th>1</th>\n",
       "      <td>비비고 썰은배추김치, 1.8kg, 1개</td>\n",
       "      <td>14,110</td>\n",
       "    </tr>\n",
       "    <tr>\n",
       "      <th>2</th>\n",
       "      <td>종가집 포기김치, 4kg, 1개</td>\n",
       "      <td>24,850</td>\n",
       "    </tr>\n",
       "    <tr>\n",
       "      <th>3</th>\n",
       "      <td>곰곰 국내산 포기 김치, 4kg, 1개</td>\n",
       "      <td>19,480</td>\n",
       "    </tr>\n",
       "    <tr>\n",
       "      <th>4</th>\n",
       "      <td>푸드파이터 맛있고 간편한 푸파 생 썰은김치 10kg, 1box</td>\n",
       "      <td>10,900</td>\n",
       "    </tr>\n",
       "    <tr>\n",
       "      <th>5</th>\n",
       "      <td>청원김치 청원 포기김치 국산 HACCP 인증 시원하고 깊은맛, 10kg, 1개</td>\n",
       "      <td>37,000</td>\n",
       "    </tr>\n",
       "    <tr>\n",
       "      <th>6</th>\n",
       "      <td>곰곰 배추 김치, 10kg, 1개</td>\n",
       "      <td>14,490</td>\n",
       "    </tr>\n",
       "    <tr>\n",
       "      <th>7</th>\n",
       "      <td>곰곰 국내산 열무 김치, 1kg, 1개</td>\n",
       "      <td>7,990</td>\n",
       "    </tr>\n",
       "    <tr>\n",
       "      <th>8</th>\n",
       "      <td>국내산 재료 100% 천하일미 송가네 여수 돌산 갓김치 4kg+갓물김치 1kg, 0...</td>\n",
       "      <td>39,800</td>\n",
       "    </tr>\n",
       "    <tr>\n",
       "      <th>9</th>\n",
       "      <td>곰곰 국내산 썰은 배추 김치, 1.8kg, 1개</td>\n",
       "      <td>10,110</td>\n",
       "    </tr>\n",
       "    <tr>\n",
       "      <th>10</th>\n",
       "      <td>곰곰 썰은 배추김치, 10kg, 1개</td>\n",
       "      <td>14,290</td>\n",
       "    </tr>\n",
       "    <tr>\n",
       "      <th>11</th>\n",
       "      <td>종가집 썰어담은 맛김치, 1.7kg, 1봉</td>\n",
       "      <td>17,060</td>\n",
       "    </tr>\n",
       "    <tr>\n",
       "      <th>12</th>\n",
       "      <td>종가집 맛김치, 1kg, 1개</td>\n",
       "      <td>8,900</td>\n",
       "    </tr>\n",
       "    <tr>\n",
       "      <th>13</th>\n",
       "      <td>곰곰 열무를 넣은 총각 김치, 1.3kg, 1개</td>\n",
       "      <td>10,400</td>\n",
       "    </tr>\n",
       "    <tr>\n",
       "      <th>14</th>\n",
       "      <td>종가집 전라도 포기김치, 3.3kg, 1개</td>\n",
       "      <td>20,640</td>\n",
       "    </tr>\n",
       "    <tr>\n",
       "      <th>15</th>\n",
       "      <td>곰곰 국내산 썰은 배추 김치, 1kg, 1개</td>\n",
       "      <td>8,400</td>\n",
       "    </tr>\n",
       "    <tr>\n",
       "      <th>16</th>\n",
       "      <td>풀무원 톡톡 포기김치, 4kg, 1개</td>\n",
       "      <td>27,900</td>\n",
       "    </tr>\n",
       "    <tr>\n",
       "      <th>17</th>\n",
       "      <td>비비고 김장김치처럼 시원한 포기김치, 3kg, 1개</td>\n",
       "      <td>21,900</td>\n",
       "    </tr>\n",
       "    <tr>\n",
       "      <th>18</th>\n",
       "      <td>곰곰 백김치, 1kg, 1개</td>\n",
       "      <td>7,520</td>\n",
       "    </tr>\n",
       "    <tr>\n",
       "      <th>19</th>\n",
       "      <td>비비고 총각김치, 1.5kg, 1개</td>\n",
       "      <td>11,310</td>\n",
       "    </tr>\n",
       "    <tr>\n",
       "      <th>20</th>\n",
       "      <td>조은해남 전라도 배추김치 5kg 10kg HACCP인증 일반상품, 1박스</td>\n",
       "      <td>17,000</td>\n",
       "    </tr>\n",
       "    <tr>\n",
       "      <th>21</th>\n",
       "      <td>비비고 묵은지, 900g, 1개</td>\n",
       "      <td>8,720</td>\n",
       "    </tr>\n",
       "    <tr>\n",
       "      <th>22</th>\n",
       "      <td>곰곰 국내산 열무 김치, 1.5kg, 1개</td>\n",
       "      <td>11,810</td>\n",
       "    </tr>\n",
       "    <tr>\n",
       "      <th>23</th>\n",
       "      <td>풀무원 톡톡 전라도식 썰은김치, 900g, 1개</td>\n",
       "      <td>9,220</td>\n",
       "    </tr>\n",
       "    <tr>\n",
       "      <th>24</th>\n",
       "      <td>양반 자연을 담그다 썰은김치, 80g, 10개</td>\n",
       "      <td>9,000</td>\n",
       "    </tr>\n",
       "    <tr>\n",
       "      <th>25</th>\n",
       "      <td>모산 장군차포기김치, 2.5kg, 1개</td>\n",
       "      <td>12,000</td>\n",
       "    </tr>\n",
       "    <tr>\n",
       "      <th>26</th>\n",
       "      <td>곰곰 국내산 총각 김치, 1.5kg, 1개</td>\n",
       "      <td>8,850</td>\n",
       "    </tr>\n",
       "    <tr>\n",
       "      <th>27</th>\n",
       "      <td>진경 배추김치, 10kg, 1봉</td>\n",
       "      <td>38,010</td>\n",
       "    </tr>\n",
       "    <tr>\n",
       "      <th>28</th>\n",
       "      <td>장군차김치 진경 맛김치, 4.5kg, 1개</td>\n",
       "      <td>18,900</td>\n",
       "    </tr>\n",
       "    <tr>\n",
       "      <th>29</th>\n",
       "      <td>곰곰 국내산 총각 김치, 2.5kg, 1개</td>\n",
       "      <td>16,060</td>\n",
       "    </tr>\n",
       "    <tr>\n",
       "      <th>30</th>\n",
       "      <td>친정김치 배추김치 5kg 10kg, 1개</td>\n",
       "      <td>19,900</td>\n",
       "    </tr>\n",
       "    <tr>\n",
       "      <th>31</th>\n",
       "      <td>비비고 포기배추김치, 4.9kg, 1개</td>\n",
       "      <td>38,300</td>\n",
       "    </tr>\n",
       "    <tr>\n",
       "      <th>32</th>\n",
       "      <td>양반 자연을 담그다 썰은김치, 500g, 2개</td>\n",
       "      <td>9,860</td>\n",
       "    </tr>\n",
       "    <tr>\n",
       "      <th>33</th>\n",
       "      <td>모산 장군차포기김치, 4.5kg, 1개</td>\n",
       "      <td>21,500</td>\n",
       "    </tr>\n",
       "    <tr>\n",
       "      <th>34</th>\n",
       "      <td>장군차김치 모산 장군차 포기김치, 1.5kg, 1개</td>\n",
       "      <td>9,900</td>\n",
       "    </tr>\n",
       "    <tr>\n",
       "      <th>35</th>\n",
       "      <td>비비고 열무를 넣어 아삭한 총각김치, 1.3kg, 1개</td>\n",
       "      <td>11,900</td>\n",
       "    </tr>\n",
       "  </tbody>\n",
       "</table>\n",
       "</div>"
      ],
      "text/plain": [
       "                                                 name   price\n",
       "0                              친정김치 배추김치 5kg 10kg, 1개  19,900\n",
       "1                               비비고 썰은배추김치, 1.8kg, 1개  14,110\n",
       "2                                   종가집 포기김치, 4kg, 1개  24,850\n",
       "3                               곰곰 국내산 포기 김치, 4kg, 1개  19,480\n",
       "4                  푸드파이터 맛있고 간편한 푸파 생 썰은김치 10kg, 1box  10,900\n",
       "5         청원김치 청원 포기김치 국산 HACCP 인증 시원하고 깊은맛, 10kg, 1개  37,000\n",
       "6                                  곰곰 배추 김치, 10kg, 1개  14,490\n",
       "7                               곰곰 국내산 열무 김치, 1kg, 1개   7,990\n",
       "8   국내산 재료 100% 천하일미 송가네 여수 돌산 갓김치 4kg+갓물김치 1kg, 0...  39,800\n",
       "9                          곰곰 국내산 썰은 배추 김치, 1.8kg, 1개  10,110\n",
       "10                               곰곰 썰은 배추김치, 10kg, 1개  14,290\n",
       "11                            종가집 썰어담은 맛김치, 1.7kg, 1봉  17,060\n",
       "12                                   종가집 맛김치, 1kg, 1개   8,900\n",
       "13                         곰곰 열무를 넣은 총각 김치, 1.3kg, 1개  10,400\n",
       "14                            종가집 전라도 포기김치, 3.3kg, 1개  20,640\n",
       "15                           곰곰 국내산 썰은 배추 김치, 1kg, 1개   8,400\n",
       "16                               풀무원 톡톡 포기김치, 4kg, 1개  27,900\n",
       "17                       비비고 김장김치처럼 시원한 포기김치, 3kg, 1개  21,900\n",
       "18                                    곰곰 백김치, 1kg, 1개   7,520\n",
       "19                                비비고 총각김치, 1.5kg, 1개  11,310\n",
       "20           조은해남 전라도 배추김치 5kg 10kg HACCP인증 일반상품, 1박스  17,000\n",
       "21                                  비비고 묵은지, 900g, 1개   8,720\n",
       "22                            곰곰 국내산 열무 김치, 1.5kg, 1개  11,810\n",
       "23                         풀무원 톡톡 전라도식 썰은김치, 900g, 1개   9,220\n",
       "24                          양반 자연을 담그다 썰은김치, 80g, 10개   9,000\n",
       "25                              모산 장군차포기김치, 2.5kg, 1개  12,000\n",
       "26                            곰곰 국내산 총각 김치, 1.5kg, 1개   8,850\n",
       "27                                  진경 배추김치, 10kg, 1봉  38,010\n",
       "28                            장군차김치 진경 맛김치, 4.5kg, 1개  18,900\n",
       "29                            곰곰 국내산 총각 김치, 2.5kg, 1개  16,060\n",
       "30                             친정김치 배추김치 5kg 10kg, 1개  19,900\n",
       "31                              비비고 포기배추김치, 4.9kg, 1개  38,300\n",
       "32                          양반 자연을 담그다 썰은김치, 500g, 2개   9,860\n",
       "33                              모산 장군차포기김치, 4.5kg, 1개  21,500\n",
       "34                       장군차김치 모산 장군차 포기김치, 1.5kg, 1개   9,900\n",
       "35                     비비고 열무를 넣어 아삭한 총각김치, 1.3kg, 1개  11,900"
      ]
     },
     "execution_count": 181,
     "metadata": {},
     "output_type": "execute_result"
    }
   ],
   "source": [
    "df= pd.read_csv('coupang_kimch.csv', names=['name', 'price'])\n",
    "df"
   ]
  },
  {
   "cell_type": "code",
   "execution_count": 182,
   "metadata": {},
   "outputs": [
    {
     "data": {
      "text/plain": [
       "str"
      ]
     },
     "execution_count": 182,
     "metadata": {},
     "output_type": "execute_result"
    }
   ],
   "source": [
    "# 가격순으로 정렬하기\n",
    "type('price')"
   ]
  },
  {
   "cell_type": "code",
   "execution_count": 183,
   "metadata": {},
   "outputs": [],
   "source": [
    "# def f(x):\n",
    "#     new_price=x.replace(',','')\n",
    "#     return int(new_price)\n",
    "\n",
    "#람다로 만들어보기\n",
    "ff=lambda x: int(x.replace(',',''))"
   ]
  },
  {
   "cell_type": "code",
   "execution_count": 184,
   "metadata": {},
   "outputs": [],
   "source": [
    "df['price']=df['price'].apply(f)\n",
    "#위 결과를 데이터프레임의 price 시리즈에 적용시켜.  그리고 이 값으로 price를 쓰고싶으니까- 아예 바꾸고 싶으니까 재할당해"
   ]
  },
  {
   "cell_type": "code",
   "execution_count": 187,
   "metadata": {},
   "outputs": [
    {
     "data": {
      "text/plain": [
       "18     7520\n",
       "7      7990\n",
       "15     8400\n",
       "21     8720\n",
       "26     8850\n",
       "12     8900\n",
       "24     9000\n",
       "23     9220\n",
       "32     9860\n",
       "34     9900\n",
       "9     10110\n",
       "13    10400\n",
       "4     10900\n",
       "19    11310\n",
       "22    11810\n",
       "35    11900\n",
       "25    12000\n",
       "1     14110\n",
       "10    14290\n",
       "6     14490\n",
       "29    16060\n",
       "20    17000\n",
       "11    17060\n",
       "28    18900\n",
       "3     19480\n",
       "30    19900\n",
       "0     19900\n",
       "14    20640\n",
       "33    21500\n",
       "17    21900\n",
       "2     24850\n",
       "16    27900\n",
       "5     37000\n",
       "27    38010\n",
       "31    38300\n",
       "8     39800\n",
       "Name: price, dtype: int64"
      ]
     },
     "execution_count": 187,
     "metadata": {},
     "output_type": "execute_result"
    }
   ],
   "source": [
    "df['price'].sort_values()"
   ]
  },
  {
   "cell_type": "code",
   "execution_count": 191,
   "metadata": {},
   "outputs": [
    {
     "data": {
      "text/plain": [
       "8    국내산 재료 100% 천하일미 송가네 여수 돌산 갓김치 4kg+갓물김치 1kg, 0...\n",
       "Name: name, dtype: object"
      ]
     },
     "execution_count": 191,
     "metadata": {},
     "output_type": "execute_result"
    }
   ],
   "source": [
    "# - 가장 높은 가격의 제품명(타이틀) 찾아보기\n",
    "# df.iloc[df['price'].idxmax(),\n",
    "df[df['price'] == max(df['price'])]['name']"
   ]
  },
  {
   "cell_type": "code",
   "execution_count": 193,
   "metadata": {},
   "outputs": [
    {
     "data": {
      "text/plain": [
       "18    곰곰 백김치, 1kg, 1개\n",
       "Name: name, dtype: object"
      ]
     },
     "execution_count": 193,
     "metadata": {},
     "output_type": "execute_result"
    }
   ],
   "source": [
    "# - 가장 낮은 가격의 제품명(타이틀) 찾아보기\n",
    "df[df['price'] == min(df['price'])]['name']"
   ]
  },
  {
   "cell_type": "code",
   "execution_count": 192,
   "metadata": {},
   "outputs": [
    {
     "data": {
      "text/plain": [
       "16885.555555555555"
      ]
     },
     "execution_count": 192,
     "metadata": {},
     "output_type": "execute_result"
    }
   ],
   "source": [
    "df.price.mean()"
   ]
  },
  {
   "cell_type": "code",
   "execution_count": null,
   "metadata": {},
   "outputs": [],
   "source": [
    "# - 평균가격보다 높은 데이터 찾아보기\n",
    "df[df['price']>"
   ]
  }
 ],
 "metadata": {
  "kernelspec": {
   "display_name": "Python 3",
   "language": "python",
   "name": "python3"
  },
  "language_info": {
   "codemirror_mode": {
    "name": "ipython",
    "version": 3
   },
   "file_extension": ".py",
   "mimetype": "text/x-python",
   "name": "python",
   "nbconvert_exporter": "python",
   "pygments_lexer": "ipython3",
   "version": "3.7.6"
  },
  "toc": {
   "base_numbering": 1,
   "nav_menu": {},
   "number_sections": false,
   "sideBar": true,
   "skip_h1_title": false,
   "title_cell": "Table of Contents",
   "title_sidebar": "Contents",
   "toc_cell": false,
   "toc_position": {},
   "toc_section_display": true,
   "toc_window_display": false
  }
 },
 "nbformat": 4,
 "nbformat_minor": 4
}
