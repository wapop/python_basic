{
 "cells": [
  {
   "cell_type": "code",
   "execution_count": 1,
   "metadata": {},
   "outputs": [],
   "source": [
    "import numpy as np\n",
    "import cv2"
   ]
  },
  {
   "cell_type": "code",
   "execution_count": 2,
   "metadata": {},
   "outputs": [],
   "source": [
    "def drawLines():\n",
    "    img = np.full((400, 400, 3), 255, np.uint8)\n",
    "\n",
    "    cv2.line(img, (50, 50), (200, 50), (0, 0, 255))\n",
    "    cv2.line(img, (50, 100), (200, 100), (255, 0, 255), 3)\n",
    "    cv2.line(img, (50, 150), (200, 150), (255, 0, 0), 10)\n",
    "\n",
    "    cv2.line(img, (250, 50), (350, 100), (0, 0, 255), 1, cv2.LINE_4)\n",
    "    cv2.line(img, (250, 70), (350, 120), (255, 0, 255), 1, cv2.LINE_8)\n",
    "    cv2.line(img, (250, 90), (350, 140), (255, 0, 0), 1, cv2.LINE_AA)\n",
    "\n",
    "    cv2.arrowedLine(img, (50, 200), (150, 200), (0, 0, 255), 1)\n",
    "    cv2.arrowedLine(img, (50, 250), (350, 250), (255, 0, 255), 1)\n",
    "    cv2.arrowedLine(img, (50, 300), (350, 300), (255, 0, 0), 1, cv2.LINE_8, 0, 0.05)\n",
    "\n",
    "    cv2.drawMarker(img, (50, 350), (0, 0, 255), cv2.MARKER_CROSS)\n",
    "    cv2.drawMarker(img, (100, 350), (0, 0, 255), cv2.MARKER_TILTED_CROSS)\n",
    "    cv2.drawMarker(img, (150, 350), (0, 0, 255), cv2.MARKER_STAR)\n",
    "    cv2.drawMarker(img, (200, 350), (0, 0, 255), cv2.MARKER_DIAMOND)\n",
    "    cv2.drawMarker(img, (250, 350), (0, 0, 255), cv2.MARKER_SQUARE)\n",
    "    cv2.drawMarker(img, (300, 350), (0, 0, 255), cv2.MARKER_TRIANGLE_UP)\n",
    "    cv2.drawMarker(img, (350, 350), (0, 0, 255), cv2.MARKER_TRIANGLE_DOWN)\n",
    "\n",
    "    cv2.imshow(\"img\", img)\n",
    "    cv2.waitKey()\n",
    "    cv2.destroyAllWindows()"
   ]
  },
  {
   "cell_type": "code",
   "execution_count": 3,
   "metadata": {},
   "outputs": [],
   "source": [
    "def drawPolys():\n",
    "    img = np.full((400, 400, 3), 255, np.uint8)\n",
    "\n",
    "    cv2.rectangle(img, (50, 50), (150, 100), (0, 0, 255), 2)\n",
    "    cv2.rectangle(img, (50, 150), (150, 200), (0, 0, 128), -1)\n",
    "\n",
    "    cv2.circle(img, (300, 120), 30, (255, 255, 0), -1, cv2.LINE_AA)\n",
    "    cv2.circle(img, (300, 120), 60, (255, 0, 0), 3, cv2.LINE_AA)\n",
    "\n",
    "    cv2.ellipse(img, (120, 300), (60, 30), 20, 0, 270, (255, 255, 0), cv2.FILLED, cv2.LINE_AA)\n",
    "    cv2.ellipse(img, (120, 300), (100, 50), 20, 0, 360, (0, 255, 0), 2, cv2.LINE_AA)\n",
    "\n",
    "    pts = np.array([[250, 250], [300, 250], [300, 300], [350, 300], [350, 350], [250, 350]])\n",
    "    cv2.polylines(img, [pts], True, (255, 0, 255), 2)\n",
    "\n",
    "    cv2.imshow(\"img\", img)\n",
    "    cv2.waitKey()\n",
    "    cv2.destroyAllWindows()"
   ]
  },
  {
   "cell_type": "code",
   "execution_count": 4,
   "metadata": {},
   "outputs": [],
   "source": [
    "def drawText1():\n",
    "    img = np.full((500, 800, 3), 255, np.uint8)\n",
    "\n",
    "    cv2.putText(img, \"FONT_HERSHEY_SIMPLEX\", (20, 50), cv2.FONT_HERSHEY_SIMPLEX, 1, (0, 0, 255))\n",
    "    cv2.putText(img, \"FONT_HERSHEY_PLAIN\", (20, 100), cv2.FONT_HERSHEY_PLAIN, 1, (0, 0, 255))\n",
    "    cv2.putText(img, \"FONT_HERSHEY_DUPLEX\", (20, 150), cv2.FONT_HERSHEY_DUPLEX, 1, (0, 0, 255))\n",
    "    cv2.putText(img, \"FONT_HERSHEY_COMPLEX\", (20, 200), cv2.FONT_HERSHEY_COMPLEX, 1, (255, 0, 0))\n",
    "    cv2.putText(img, \"FONT_HERSHEY_TRIPLEX\", (20, 250), cv2.FONT_HERSHEY_TRIPLEX, 1, (255, 0, 0))\n",
    "    cv2.putText(img, \"FONT_HERSHEY_COMPLEX_SMALL\", (20, 300), cv2.FONT_HERSHEY_COMPLEX_SMALL, 1, (255, 0, 0))\n",
    "    cv2.putText(img, \"FONT_HERSHEY_SCRIPT_SIMPLEX\", (20, 350), cv2.FONT_HERSHEY_SCRIPT_SIMPLEX, 1, (255, 0, 255))\n",
    "    cv2.putText(img, \"FONT_HERSHEY_SCRIPT_COMPLEX\", (20, 400), cv2.FONT_HERSHEY_SCRIPT_COMPLEX, 1, (255, 0, 255))\n",
    "    cv2.putText(img, \"FONT_HERSHEY_COMPLEX | FONT_ITALIC\", (20, 450), cv2.FONT_HERSHEY_COMPLEX | cv2.FONT_ITALIC, 1, (255, 0, 0))\n",
    "\n",
    "    cv2.imshow(\"img\", img)\n",
    "    cv2.waitKey()\n",
    "    cv2.destroyAllWindows()"
   ]
  },
  {
   "cell_type": "code",
   "execution_count": 5,
   "metadata": {},
   "outputs": [],
   "source": [
    "def drawText2():\n",
    "    img = np.full((200, 640, 3), 255, np.uint8)\n",
    "\n",
    "    text = \"Hello, OpenCV\"\n",
    "    fontFace = cv2.FONT_HERSHEY_TRIPLEX\n",
    "    fontScale = 2.0\n",
    "    thickness = 1\n",
    "\n",
    "    sizeText, _ = cv2.getTextSize(text, fontFace, fontScale, thickness)\n",
    "\n",
    "    org = ((img.shape[1] - sizeText[0]) // 2, (img.shape[0] + sizeText[1]) // 2)\n",
    "    cv2.putText(img, text, org, fontFace, fontScale, (255, 0, 0), thickness)\n",
    "    cv2.rectangle(img, org, (org[0] + sizeText[0], org[1] - sizeText[1]), (0, 255, 0), 1)\n",
    "\n",
    "    cv2.imshow(\"img\", img)\n",
    "    cv2.waitKey()\n",
    "    cv2.destroyAllWindows()"
   ]
  },
  {
   "cell_type": "code",
   "execution_count": 7,
   "metadata": {},
   "outputs": [
    {
     "ename": "KeyboardInterrupt",
     "evalue": "",
     "output_type": "error",
     "traceback": [
      "\u001b[1;31m---------------------------------------------------------------------------\u001b[0m",
      "\u001b[1;31mKeyboardInterrupt\u001b[0m                         Traceback (most recent call last)",
      "\u001b[1;32m<ipython-input-7-e895b45d2198>\u001b[0m in \u001b[0;36m<module>\u001b[1;34m\u001b[0m\n\u001b[0;32m      1\u001b[0m \u001b[1;32mif\u001b[0m \u001b[0m__name__\u001b[0m \u001b[1;33m==\u001b[0m \u001b[1;34m'__main__'\u001b[0m\u001b[1;33m:\u001b[0m\u001b[1;33m\u001b[0m\u001b[1;33m\u001b[0m\u001b[0m\n\u001b[1;32m----> 2\u001b[1;33m     \u001b[0mdrawLines\u001b[0m\u001b[1;33m(\u001b[0m\u001b[1;33m)\u001b[0m\u001b[1;33m\u001b[0m\u001b[1;33m\u001b[0m\u001b[0m\n\u001b[0m",
      "\u001b[1;32m<ipython-input-2-eca248758181>\u001b[0m in \u001b[0;36mdrawLines\u001b[1;34m()\u001b[0m\n\u001b[0;32m     23\u001b[0m \u001b[1;33m\u001b[0m\u001b[0m\n\u001b[0;32m     24\u001b[0m     \u001b[0mcv2\u001b[0m\u001b[1;33m.\u001b[0m\u001b[0mimshow\u001b[0m\u001b[1;33m(\u001b[0m\u001b[1;34m\"img\"\u001b[0m\u001b[1;33m,\u001b[0m \u001b[0mimg\u001b[0m\u001b[1;33m)\u001b[0m\u001b[1;33m\u001b[0m\u001b[1;33m\u001b[0m\u001b[0m\n\u001b[1;32m---> 25\u001b[1;33m     \u001b[0mcv2\u001b[0m\u001b[1;33m.\u001b[0m\u001b[0mwaitKey\u001b[0m\u001b[1;33m(\u001b[0m\u001b[1;33m)\u001b[0m\u001b[1;33m\u001b[0m\u001b[1;33m\u001b[0m\u001b[0m\n\u001b[0m\u001b[0;32m     26\u001b[0m     \u001b[0mcv2\u001b[0m\u001b[1;33m.\u001b[0m\u001b[0mdestroyAllWindows\u001b[0m\u001b[1;33m(\u001b[0m\u001b[1;33m)\u001b[0m\u001b[1;33m\u001b[0m\u001b[1;33m\u001b[0m\u001b[0m\n",
      "\u001b[1;31mKeyboardInterrupt\u001b[0m: "
     ]
    }
   ],
   "source": [
    "if __name__ == '__main__':\n",
    "    drawLines()"
   ]
  },
  {
   "cell_type": "code",
   "execution_count": null,
   "metadata": {},
   "outputs": [],
   "source": [
    "if __name__ == '__main__':\n",
    "    drawLines()\n",
    "    drawPolys()\n",
    "    drawText1()\n",
    "    drawText2()"
   ]
  }
 ],
 "metadata": {
  "kernelspec": {
   "display_name": "Python 3",
   "language": "python",
   "name": "python3"
  },
  "toc": {
   "base_numbering": 1,
   "nav_menu": {},
   "number_sections": false,
   "sideBar": true,
   "skip_h1_title": false,
   "title_cell": "Table of Contents",
   "title_sidebar": "Contents",
   "toc_cell": false,
   "toc_position": {},
   "toc_section_display": true,
   "toc_window_display": false
  }
 },
 "nbformat": 4,
 "nbformat_minor": 4
}
