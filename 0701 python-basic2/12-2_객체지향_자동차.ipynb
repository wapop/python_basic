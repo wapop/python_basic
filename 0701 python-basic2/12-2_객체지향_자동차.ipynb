{
 "cells": [
  {
   "cell_type": "markdown",
   "metadata": {},
   "source": [
    "# 자동차"
   ]
  },
  {
   "cell_type": "code",
   "execution_count": 2,
   "metadata": {},
   "outputs": [],
   "source": [
    "class Car():\n",
    "    instance_count=0\n",
    "    \n",
    "    def __init__(self, size, color):\n",
    "        self.size=size\n",
    "        self.color=color\n",
    "        Car.instance_count=Car.instance_count+1\n",
    "        print(\"자동차 객체 수:{0}\".format(Car.instance_count))\n",
    "        \n",
    "    def move(self):\n",
    "        print(\"자동차({0}&{1})가 움직입니다.\".format(self.size,self.color))"
   ]
  },
  {
   "cell_type": "code",
   "execution_count": 3,
   "metadata": {},
   "outputs": [
    {
     "name": "stdout",
     "output_type": "stream",
     "text": [
      "자동차 객체 수:1\n"
     ]
    }
   ],
   "source": [
    "myCar=Car(\"small\",\"white\")"
   ]
  },
  {
   "cell_type": "code",
   "execution_count": 4,
   "metadata": {},
   "outputs": [
    {
     "name": "stdout",
     "output_type": "stream",
     "text": [
      "자동차 객체 수:2\n"
     ]
    }
   ],
   "source": [
    "momsCar= Car(\"medium\",\"black\")"
   ]
  },
  {
   "cell_type": "code",
   "execution_count": 5,
   "metadata": {},
   "outputs": [
    {
     "name": "stdout",
     "output_type": "stream",
     "text": [
      "자동차 객체 수:3\n"
     ]
    }
   ],
   "source": [
    "dadsCar= Car(\"large\",\"red\")"
   ]
  },
  {
   "cell_type": "markdown",
   "metadata": {},
   "source": [
    "#자전거에서의 변수와 다른점. 내차,엄마차,아빠차가 공통으로 사용되는게 아니라 특징 별도로 생성-->객체수로 관리해주는 class변수 있음\n",
    "#클래스명인 car.instance 호출해야함"
   ]
  },
  {
   "cell_type": "code",
   "execution_count": 7,
   "metadata": {},
   "outputs": [
    {
     "name": "stdout",
     "output_type": "stream",
     "text": [
      "자동차(small&white)가 움직입니다.\n"
     ]
    }
   ],
   "source": [
    "myCar.move()"
   ]
  },
  {
   "cell_type": "code",
   "execution_count": 9,
   "metadata": {},
   "outputs": [
    {
     "name": "stdout",
     "output_type": "stream",
     "text": [
      "자동차(large&red)가 움직입니다.\n"
     ]
    }
   ],
   "source": [
    "dadsCar.move()"
   ]
  },
  {
   "cell_type": "code",
   "execution_count": 10,
   "metadata": {},
   "outputs": [
    {
     "name": "stdout",
     "output_type": "stream",
     "text": [
      "자동차(medium&black)가 움직입니다.\n"
     ]
    }
   ],
   "source": [
    "momsCar.move()"
   ]
  },
  {
   "cell_type": "code",
   "execution_count": 28,
   "metadata": {},
   "outputs": [],
   "source": [
    "#173p\n",
    "class Car2():\n",
    "    count=0;\n",
    "    \n",
    "    def __init__(self, size, num):\n",
    "        self.size=size\n",
    "        self.count=num\n",
    "        Car2.count=Car2.count+1\n",
    "        print(\"자동차 객체 수: Car2.count={0}\".format(Car2.count))\n",
    "        print(\"인스턴스 변수 초기화: self.count={0}\".format(self.count))\n",
    "        \n",
    "    def move(self):\n",
    "        print(\"자동차({0}&{1})가 움직입니다.\".format(self.size,self.count))\n",
    "        \n",
    "    @staticmethod\n",
    "    def check_type(model_code):\n",
    "        if(model_code >=20):\n",
    "            print(\"이 자동차는 전기차입니다.\")\n",
    "        elif(10<=model_code<20):\n",
    "            print(\"이 자동차는 가솔린차입니다.\")\n",
    "        else:\n",
    "            print(\"이 자동차는 디젤차입니다.\")\n",
    "            \n",
    "    @classmethod\n",
    "    def count_instance(cls):\n",
    "        print(\"자동차 객체의 개수: {0}\".format(cls.instance_count))"
   ]
  },
  {
   "cell_type": "code",
   "execution_count": 32,
   "metadata": {},
   "outputs": [
    {
     "name": "stdout",
     "output_type": "stream",
     "text": [
      "이 자동차는 전기차입니다.\n"
     ]
    }
   ],
   "source": [
    "Car.check_type(30)"
   ]
  },
  {
   "cell_type": "code",
   "execution_count": 30,
   "metadata": {},
   "outputs": [
    {
     "name": "stdout",
     "output_type": "stream",
     "text": [
      "자동차 객체 수: Car2.count=1\n",
      "인스턴스 변수 초기화: self.count=20\n"
     ]
    }
   ],
   "source": [
    "myCar=Car2(\"small\",20)"
   ]
  },
  {
   "cell_type": "code",
   "execution_count": 31,
   "metadata": {},
   "outputs": [
    {
     "name": "stdout",
     "output_type": "stream",
     "text": [
      "자동차 객체 수: Car2.count=2\n",
      "인스턴스 변수 초기화: self.count=30\n"
     ]
    }
   ],
   "source": [
    "momsCar=Car2(\"medium\", 30)"
   ]
  },
  {
   "cell_type": "code",
   "execution_count": null,
   "metadata": {},
   "outputs": [],
   "source": []
  },
  {
   "cell_type": "code",
   "execution_count": null,
   "metadata": {},
   "outputs": [],
   "source": []
  },
  {
   "cell_type": "code",
   "execution_count": null,
   "metadata": {},
   "outputs": [],
   "source": []
  }
 ],
 "metadata": {
  "kernelspec": {
   "display_name": "Python 3",
   "language": "python",
   "name": "python3"
  },
  "language_info": {
   "codemirror_mode": {
    "name": "ipython",
    "version": 3
   },
   "file_extension": ".py",
   "mimetype": "text/x-python",
   "name": "python",
   "nbconvert_exporter": "python",
   "pygments_lexer": "ipython3",
   "version": "3.7.6"
  }
 },
 "nbformat": 4,
 "nbformat_minor": 4
}
