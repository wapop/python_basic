{
 "cells": [
  {
   "cell_type": "code",
   "execution_count": 10,
   "metadata": {},
   "outputs": [],
   "source": [
    "import requests \n",
    "from bs4 import BeautifulSoup "
   ]
  },
  {
   "cell_type": "code",
   "execution_count": 22,
   "metadata": {},
   "outputs": [],
   "source": [
    "url = \"http://music.naver.com/listen/history/index.nhn?type=TOTAL&year=2017&month=12&week=1\" \n",
    "html_music = requests.get(url).text \n",
    "#html_music\n",
    "soup_music = BeautifulSoup(html_music, \"lxml\") \n",
    "#html이 복잡해서, beautifulsoup툴로 보기 편하게 만듦"
   ]
  },
  {
   "cell_type": "code",
   "execution_count": 23,
   "metadata": {},
   "outputs": [],
   "source": [
    "# a 태그의 요소 중에서 class 속성값이 \"_title\" 인 것을 찾고 \n",
    "# 그 안에서 span 태그의 요소 중에서 class 속성값이 \"ellipsis\"인 요소를 추출 \n",
    "titles = soup_music.select('a._title span.ellipsis')  "
   ]
  },
  {
   "cell_type": "code",
   "execution_count": 21,
   "metadata": {},
   "outputs": [
    {
     "data": {
      "text/plain": [
       "['눈 (Feat. 이문세)', '기억의 빈자리', '선물', 'Beautiful', '좋아', '피카부 (Peek-A-Boo)', '좋니']"
      ]
     },
     "execution_count": 21,
     "metadata": {},
     "output_type": "execute_result"
    }
   ],
   "source": [
    "titles[0:7] \n",
    "\n",
    "music_titles = [title.get_text() \n",
    "                for title in titles] \n",
    "music_titles[0:7] "
   ]
  },
  {
   "cell_type": "code",
   "execution_count": 14,
   "metadata": {},
   "outputs": [
    {
     "data": {
      "text/plain": [
       "'\\r\\n\\t\\t\\t\\r\\n\\t\\t\\t\\r\\n\\t\\t\\tZion.T\\r\\n\\t\\t'"
      ]
     },
     "execution_count": 14,
     "metadata": {},
     "output_type": "execute_result"
    }
   ],
   "source": [
    "# a 태그의 요소 중에서 class 속성값이 \"_artist\" 인 것을 찾고 \n",
    "# 그 안에서 span 태그의 요소 중에서 class 속성값이 \"ellipsis\"인 요소를 추출 \n",
    "artists = soup_music.select('a._artist span.ellipsis')  \n",
    "artists[0].get_text() "
   ]
  },
  {
   "cell_type": "code",
   "execution_count": null,
   "metadata": {},
   "outputs": [],
   "source": [
    "import requests \n",
    "from bs4 import BeautifulSoup \n",
    "\n",
    "url = \" http://music.naver.com/listen/history/index.nhn?type=DOMESTIC&year=2017&month=12&week=1&page=1\"\n",
    "# url = \"http://music.naver.com/listen/history/index.nhn?type=DOMESTIC&year=2017&month=12&week=1&page=2\" \n",
    "# url = \"http://music.naver.com/listen/top100.nhn?domain=TOTAL&page=1\" \n",
    "\n",
    "html_music = requests.get(url).text \n",
    "soup_music = BeautifulSoup(html_music, \"lxml\") \n",
    "\n",
    "titles = soup_music.select('a._title span.ellipsis')  \n",
    "artists = soup_music.select('td._artist a') "
   ]
  },
  {
   "cell_type": "code",
   "execution_count": 18,
   "metadata": {
    "scrolled": false
   },
   "outputs": [
    {
     "name": "stdout",
     "output_type": "stream",
     "text": [
      "1: 눈 (Feat. 이문세) / Zion.T\n",
      "2: 기억의 빈자리 / 나얼\n",
      "3: 선물 / 멜로망스(Melomance)\n",
      "4: Beautiful / Wanna One(워너원)\n",
      "5: 좋아 / 민서\n",
      "6: 피카부 (Peek-A-Boo) / Red Velvet (레드벨벳)\n",
      "7: 좋니 / 윤종신\n"
     ]
    }
   ],
   "source": [
    "# for문, list 등 우리가 배운 개념 적용 \n",
    "\n",
    "music_titles = [title.get_text() for title in titles] \n",
    "music_artists = [artist.get_text().strip() for artist in artists] \n",
    "\n",
    "for k in range(7): \n",
    "    print(\"{0}: {1} / {2}\".format(k+1, music_titles[k], music_artists[k])) "
   ]
  },
  {
   "cell_type": "code",
   "execution_count": 19,
   "metadata": {},
   "outputs": [
    {
     "data": {
      "text/plain": [
       "'C:\\\\Users\\\\user\\\\0701 python 2'"
      ]
     },
     "execution_count": 19,
     "metadata": {},
     "output_type": "execute_result"
    }
   ],
   "source": [
    "pwd"
   ]
  },
  {
   "cell_type": "code",
   "execution_count": 20,
   "metadata": {},
   "outputs": [
    {
     "data": {
      "text/plain": [
       "['C:\\\\Users\\\\user\\\\0701 python 2\\\\NaverMusicTop100.txt']"
      ]
     },
     "execution_count": 20,
     "metadata": {},
     "output_type": "execute_result"
    }
   ],
   "source": [
    "import requests \n",
    "from bs4 import BeautifulSoup \n",
    "import glob \n",
    "\n",
    "naver_music_url = \"http://music.naver.com/listen/history/index.nhn?type=DOMESTIC&year=2017&month=12&week=1&page=\" \n",
    "\n",
    "# 네이버 music 주소를 입력하면 노래 제목과 아티스트를 반환 \n",
    "def naver_music(url):     \n",
    "    html_music = requests.get(url).text \n",
    "    soup_music = BeautifulSoup(html_music, \"lxml\") \n",
    "\n",
    "    titles = soup_music.select('a._title span.ellipsis')  \n",
    "    artists = soup_music.select('td._artist a') \n",
    "\n",
    "    music_titles = [title.get_text() for title in titles] \n",
    "    music_artists = [artist.get_text().strip() for artist in artists] \n",
    "\n",
    "    return music_titles, music_artists \n",
    "\n",
    "# 노래 제목과 아티스트를 저장할 파일 이름을 폴더와 함께 지정 \n",
    "# pwd 결과값에서 경로 복사해오기\n",
    "file_name = '폴더경로 지정하세요'\n",
    "file_name = 'C:\\\\Users\\\\user\\\\0701 python 2\\\\NaverMusicTop100.txt'\n",
    "#'C:\\\\Users\\\\NaverMusicTop100.txt'\n",
    "f = open(file_name,'w', encoding='UTF-8') # 파일 열기 \n",
    "\n",
    "# 각 page에는 50개의 노래 제목과 아티스트가 추출됨 \n",
    "for page in range(2): \n",
    "    naver_music_url_page = naver_music_url + str(page+1) # page URL \n",
    "    nave_music_titles, naver_music_artists = naver_music(naver_music_url_page) \n",
    "\n",
    "    # 추출된 노래 제목과 아티스트를 파일에 저장  \n",
    "    for k in range(len(naver_music_artists)): \n",
    "        f.write(\"{0:2d}: {1}/{2}\\n\".format(page*50 + k+1, nave_music_titles[k], naver_music_artists[k])) \n",
    "\n",
    "f.close() # 파일 닫기 \n",
    "\n",
    "glob.glob(file_name) # 생성된 파일 확인 "
   ]
  },
  {
   "cell_type": "code",
   "execution_count": null,
   "metadata": {},
   "outputs": [],
   "source": [
    "# 쿠팡 크롤링\n",
    "1. 사이트의 html을 읽어들이기: requests.get(url)사용\n",
    "2. 텍스트 형태의 데이터를 html 태그별로 구분하여 파싱하기: beautifulSoup\n",
    "3. 특정 태그값만 찾기:findAll, find\n",
    "4. 필요한 데이터값 정제하기\n",
    "5. 데이터 저장하기ㄴ"
   ]
  },
  {
   "cell_type": "code",
   "execution_count": null,
   "metadata": {},
   "outputs": [],
   "source": []
  }
 ],
 "metadata": {
  "kernelspec": {
   "display_name": "Python 3",
   "language": "python",
   "name": "python3"
  },
  "language_info": {
   "codemirror_mode": {
    "name": "ipython",
    "version": 3
   },
   "file_extension": ".py",
   "mimetype": "text/x-python",
   "name": "python",
   "nbconvert_exporter": "python",
   "pygments_lexer": "ipython3",
   "version": "3.7.6"
  },
  "toc": {
   "base_numbering": 1,
   "nav_menu": {},
   "number_sections": false,
   "sideBar": true,
   "skip_h1_title": false,
   "title_cell": "Table of Contents",
   "title_sidebar": "Contents",
   "toc_cell": false,
   "toc_position": {},
   "toc_section_display": true,
   "toc_window_display": false
  }
 },
 "nbformat": 4,
 "nbformat_minor": 4
}
