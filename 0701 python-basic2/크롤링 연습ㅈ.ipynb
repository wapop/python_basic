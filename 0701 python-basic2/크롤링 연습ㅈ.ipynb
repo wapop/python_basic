{
 "cells": [
  {
   "cell_type": "code",
   "execution_count": 1,
   "metadata": {},
   "outputs": [],
   "source": [
    "import requests \n",
    "from bs4 import BeautifulSoup "
   ]
  },
  {
   "cell_type": "code",
   "execution_count": 4,
   "metadata": {},
   "outputs": [],
   "source": [
    "url = \"https://music.naver.com/listen/top100.nhn?domain=TOTAL_V2\" \n",
    "html_music = requests.get(url).text \n",
    "soup_music = BeautifulSoup(html_music, \"lxml\") "
   ]
  },
  {
   "cell_type": "code",
   "execution_count": 5,
   "metadata": {},
   "outputs": [],
   "source": [
    "titles = soup_music.select('a._title span.ellipsis')  "
   ]
  },
  {
   "cell_type": "code",
   "execution_count": 6,
   "metadata": {},
   "outputs": [
    {
     "data": {
      "text/plain": [
       "['How You Like That',\n",
       " 'Downtown Baby',\n",
       " '에잇(Prod.&Feat. SUGA of BTS)',\n",
       " '아로하',\n",
       " '살짝 설렜어 (Nonstop)',\n",
       " '사랑하게 될 줄 알았어',\n",
       " 'MORE & MORE',\n",
       " 'Dolphin',\n",
       " '좋은 사람 있으면 소개시켜줘',\n",
       " '아무노래']"
      ]
     },
     "execution_count": 6,
     "metadata": {},
     "output_type": "execute_result"
    }
   ],
   "source": [
    "titles[0:10] \n",
    "\n",
    "music_titles = [title.get_text() \n",
    "                for title in titles] \n",
    "music_titles[0:10] "
   ]
  },
  {
   "cell_type": "code",
   "execution_count": 7,
   "metadata": {},
   "outputs": [
    {
     "data": {
      "text/plain": [
       "'\\r\\n\\t\\t\\t\\r\\n\\t\\t\\t\\r\\n\\t\\t\\tBLACKPINK\\r\\n\\t\\t'"
      ]
     },
     "execution_count": 7,
     "metadata": {},
     "output_type": "execute_result"
    }
   ],
   "source": [
    "artists = soup_music.select('a._artist span.ellipsis')  \n",
    "artists[0].get_text() "
   ]
  },
  {
   "cell_type": "code",
   "execution_count": 8,
   "metadata": {},
   "outputs": [],
   "source": [
    "import requests \n",
    "from bs4 import BeautifulSoup "
   ]
  },
  {
   "cell_type": "code",
   "execution_count": null,
   "metadata": {},
   "outputs": [],
   "source": []
  }
 ],
 "metadata": {
  "kernelspec": {
   "display_name": "Python 3",
   "language": "python",
   "name": "python3"
  },
  "language_info": {
   "codemirror_mode": {
    "name": "ipython",
    "version": 3
   },
   "file_extension": ".py",
   "mimetype": "text/x-python",
   "name": "python",
   "nbconvert_exporter": "python",
   "pygments_lexer": "ipython3",
   "version": "3.7.6"
  }
 },
 "nbformat": 4,
 "nbformat_minor": 4
}
