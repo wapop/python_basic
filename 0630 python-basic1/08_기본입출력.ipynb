{
 "cells": [
  {
   "cell_type": "markdown",
   "metadata": {},
   "source": [
    "# 기본 입출력\n",
    "## 화면출력\n",
    "- print (109p)\n",
    "\n",
    "\n",
    "## 화면입력\n",
    "- input\n",
    "\n"
   ]
  },
  {
   "cell_type": "code",
   "execution_count": 1,
   "metadata": {},
   "outputs": [
    {
     "name": "stdout",
     "output_type": "stream",
     "text": [
      "Hello Python\n"
     ]
    }
   ],
   "source": [
    "print(\"Hello Python\")"
   ]
  },
  {
   "cell_type": "code",
   "execution_count": 4,
   "metadata": {
    "scrolled": true
   },
   "outputs": [
    {
     "name": "stdout",
     "output_type": "stream",
     "text": [
      "Best^^Python^^Book\n"
     ]
    }
   ],
   "source": [
    "print(\"Best\",\"Python\",\"Book\", sep= \"^^\")"
   ]
  },
  {
   "cell_type": "code",
   "execution_count": 5,
   "metadata": {},
   "outputs": [
    {
     "name": "stdout",
     "output_type": "stream",
     "text": [
      "abcdefg\n"
     ]
    }
   ],
   "source": [
    "print(\"abcd\"+\"efg\")"
   ]
  },
  {
   "cell_type": "code",
   "execution_count": 6,
   "metadata": {},
   "outputs": [
    {
     "name": "stdout",
     "output_type": "stream",
     "text": [
      "abcd\\efc\\sdfsddfa\u0007sdfsaasd\n"
     ]
    }
   ],
   "source": [
    "print(\"abcd\\efc\\sdfsddfa\\asdfsaasd\")\n",
    "\n",
    "#\\=/n"
   ]
  },
  {
   "cell_type": "code",
   "execution_count": 8,
   "metadata": {},
   "outputs": [
    {
     "name": "stdout",
     "output_type": "stream",
     "text": [
      "abcdefg\n"
     ]
    }
   ],
   "source": [
    "print(\"abc\",end=\"\")\n",
    "print(\"defg\")"
   ]
  },
  {
   "cell_type": "code",
   "execution_count": 9,
   "metadata": {},
   "outputs": [
    {
     "name": "stdout",
     "output_type": "stream",
     "text": [
      "광재는 나의 친구입니다.\n"
     ]
    }
   ],
   "source": [
    "name=\"광재\"\n",
    "print(\"%s는 나의 친구입니다.\" %name)\n",
    "#치환해서 보여주고 싶을 때: %s는 str타입이라 그런것\n"
   ]
  },
  {
   "cell_type": "code",
   "execution_count": 10,
   "metadata": {},
   "outputs": [
    {
     "name": "stdout",
     "output_type": "stream",
     "text": [
      "Animal: 고양이\n"
     ]
    }
   ],
   "source": [
    "animal0=\"고양이\"\n",
    "animal1=\"강아지\"\n",
    "animal2=\"여우\"\n",
    "\n",
    "print(\"Animal: {0}\".format(animal0))"
   ]
  },
  {
   "cell_type": "code",
   "execution_count": 11,
   "metadata": {},
   "outputs": [
    {
     "name": "stdout",
     "output_type": "stream",
     "text": [
      "Animal 여우,강아지,고양이\n"
     ]
    }
   ],
   "source": [
    "print(\"Animal {0},{1},{2}\". format(animal2, animal1, animal0))"
   ]
  },
  {
   "cell_type": "code",
   "execution_count": 12,
   "metadata": {},
   "outputs": [
    {
     "name": "stdout",
     "output_type": "stream",
     "text": [
      "00300\n"
     ]
    }
   ],
   "source": [
    "num=300\n",
    "print(\"{:05d}\".format(num))"
   ]
  },
  {
   "cell_type": "code",
   "execution_count": 13,
   "metadata": {},
   "outputs": [
    {
     "name": "stdout",
     "output_type": "stream",
     "text": [
      "12345665500.0%\n"
     ]
    }
   ],
   "source": [
    "num=123456655\n",
    "print(\"{:.1%}\".format(num))"
   ]
  },
  {
   "cell_type": "code",
   "execution_count": 14,
   "metadata": {},
   "outputs": [
    {
     "name": "stdout",
     "output_type": "stream",
     "text": [
      "1.23e+08\n"
     ]
    }
   ],
   "source": [
    "num=123456655\n",
    "print(\"{:.2e}\".format(num))\n",
    "\n",
    "#1.23*10의6승이라는 뜻"
   ]
  },
  {
   "cell_type": "code",
   "execution_count": 15,
   "metadata": {},
   "outputs": [
    {
     "name": "stdout",
     "output_type": "stream",
     "text": [
      "1.23e-03\n"
     ]
    }
   ],
   "source": [
    "num=0.00123456655\n",
    "print(\"{:.2e}\".format(num))\n",
    "\n",
    "#1.23*10의-3승이라는 뜻"
   ]
  },
  {
   "cell_type": "code",
   "execution_count": 16,
   "metadata": {},
   "outputs": [
    {
     "name": "stdout",
     "output_type": "stream",
     "text": [
      "이름을 입력하세요홍길동\n"
     ]
    }
   ],
   "source": [
    "## INPUT: 사용자의 입력 받아들이게 하고싶을 때\n",
    "name= input(\"이름을 입력하세요\")"
   ]
  },
  {
   "cell_type": "code",
   "execution_count": 17,
   "metadata": {},
   "outputs": [
    {
     "data": {
      "text/plain": [
       "'홍길동'"
      ]
     },
     "execution_count": 17,
     "metadata": {},
     "output_type": "execute_result"
    }
   ],
   "source": [
    "name"
   ]
  },
  {
   "cell_type": "code",
   "execution_count": 21,
   "metadata": {},
   "outputs": [
    {
     "name": "stdout",
     "output_type": "stream",
     "text": [
      "당신은 홍길동이군요\n"
     ]
    }
   ],
   "source": [
    "print(\"당신은 {}이군요\".format(name))"
   ]
  },
  {
   "cell_type": "code",
   "execution_count": 22,
   "metadata": {},
   "outputs": [
    {
     "name": "stdout",
     "output_type": "stream",
     "text": [
      "정사각형 한변의 길이는?5\n"
     ]
    }
   ],
   "source": [
    "a= input(\"정사각형 한변의 길이는?\")"
   ]
  },
  {
   "cell_type": "code",
   "execution_count": 23,
   "metadata": {},
   "outputs": [
    {
     "data": {
      "text/plain": [
       "str"
      ]
     },
     "execution_count": 23,
     "metadata": {},
     "output_type": "execute_result"
    }
   ],
   "source": [
    "type(a)"
   ]
  },
  {
   "cell_type": "code",
   "execution_count": 24,
   "metadata": {},
   "outputs": [],
   "source": [
    "new_a = int(a)"
   ]
  },
  {
   "cell_type": "code",
   "execution_count": 25,
   "metadata": {},
   "outputs": [
    {
     "data": {
      "text/plain": [
       "int"
      ]
     },
     "execution_count": 25,
     "metadata": {},
     "output_type": "execute_result"
    }
   ],
   "source": [
    "type(new_a)\n",
    "\n",
    "#input으로 받아들인 값은 str이다."
   ]
  },
  {
   "cell_type": "code",
   "execution_count": null,
   "metadata": {},
   "outputs": [],
   "source": [
    "c= input(\"정사각형의 한 변의 길이는?: \")\n",
    "area= float(c) ** 2\n",
    "print(\"정사각형의 넓이:{}\".format(area))"
   ]
  },
  {
   "cell_type": "code",
   "execution_count": null,
   "metadata": {},
   "outputs": [],
   "source": []
  }
 ],
 "metadata": {
  "kernelspec": {
   "display_name": "Python 3",
   "language": "python",
   "name": "python3"
  },
  "language_info": {
   "codemirror_mode": {
    "name": "ipython",
    "version": 3
   },
   "file_extension": ".py",
   "mimetype": "text/x-python",
   "name": "python",
   "nbconvert_exporter": "python",
   "pygments_lexer": "ipython3",
   "version": "3.7.6"
  }
 },
 "nbformat": 4,
 "nbformat_minor": 4
}
